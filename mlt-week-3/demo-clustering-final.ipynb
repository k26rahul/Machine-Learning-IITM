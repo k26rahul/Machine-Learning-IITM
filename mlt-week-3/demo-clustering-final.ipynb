{
 "cells": [
  {
   "cell_type": "code",
   "execution_count": 1,
   "id": "6a10193f",
   "metadata": {},
   "outputs": [],
   "source": [
    "import numpy as np\n",
    "import matplotlib.pyplot as plt\n",
    "from sklearn.datasets import make_blobs\n",
    "from scipy.spatial import Voronoi, voronoi_plot_2d"
   ]
  },
  {
   "cell_type": "code",
   "execution_count": 2,
   "id": "d5eee91e",
   "metadata": {},
   "outputs": [
    {
     "data": {
      "image/png": "[encoded data removed]",
      "text/plain": [
       "<Figure size 640x480 with 1 Axes>"
      ]
     },
     "metadata": {},
     "output_type": "display_data"
    }
   ],
   "source": [
    "X = np.array([\n",
    "    [1.0, 1.1, 1.4, 2.2, 2.3, 2.5],\n",
    "    [1.1, 0.9, 1.2, 3.1, 2.8, 3.5],\n",
    "])\n",
    "\n",
    "y = np.array([0, 0, 0, 1, 1, 1])\n",
    "\n",
    "_ = plt.scatter(*X, c=y)"
   ]
  },
  {
   "cell_type": "code",
   "execution_count": 6,
   "id": "6eb0f6fd",
   "metadata": {},
   "outputs": [],
   "source": [
    "n = X.shape[1]\n",
    "k = 2"
   ]
  },
  {
   "cell_type": "code",
   "execution_count": 26,
   "id": "3484a671",
   "metadata": {},
   "outputs": [],
   "source": [
    "def calculate_centers(cluster_assignments):\n",
    "  centers = np.array([[], []])\n",
    "\n",
    "  for k_ in range(k):\n",
    "    samples_indices = np.where(cluster_assignments == k_)[0]\n",
    "    samples = X[:, samples_indices]\n",
    "    center = samples.mean(axis=1)\n",
    "    centers = np.column_stack((centers, center))\n",
    "\n",
    "  return centers"
   ]
  },
  {
   "cell_type": "code",
   "execution_count": 32,
   "id": "b28e5842",
   "metadata": {},
   "outputs": [],
   "source": [
    "def objective(cluster_assignments):\n",
    "  total = 0\n",
    "\n",
    "  centers = calculate_centers(cluster_assignments)\n",
    "  for i in range(n):\n",
    "    sample = X[:, i]\n",
    "    cluster = cluster_assignments[i]\n",
    "    center = centers[:, cluster]\n",
    "    total += np.linalg.norm(sample - center)**2\n",
    "\n",
    "  return total"
   ]
  },
  {
   "cell_type": "code",
   "execution_count": 33,
   "id": "d50f3033",
   "metadata": {},
   "outputs": [
    {
     "data": {
      "text/plain": [
       "np.float64(8.506666666666666)"
      ]
     },
     "execution_count": 33,
     "metadata": {},
     "output_type": "execute_result"
    }
   ],
   "source": [
    "np.random.seed(2)\n",
    "cluster_assignments = np.random.randint(k, size=n)\n",
    "\n",
    "objective(cluster_assignments)"
   ]
  },
  {
   "cell_type": "code",
   "execution_count": 34,
   "id": "18035453",
   "metadata": {},
   "outputs": [],
   "source": [
    "fruits = [\"apple\", \"banana\", \"kiwi\"]"
   ]
  },
  {
   "cell_type": "code",
   "execution_count": 35,
   "id": "69485dcb",
   "metadata": {},
   "outputs": [
    {
     "data": {
      "text/plain": [
       "'apple'"
      ]
     },
     "execution_count": 35,
     "metadata": {},
     "output_type": "execute_result"
    }
   ],
   "source": [
    "i = 0\n",
    "my_fruit = fruits[i]\n",
    "my_fruit"
   ]
  },
  {
   "cell_type": "code",
   "execution_count": 37,
   "id": "4fbbe772",
   "metadata": {},
   "outputs": [
    {
     "data": {
      "text/plain": [
       "'orange'"
      ]
     },
     "execution_count": 37,
     "metadata": {},
     "output_type": "execute_result"
    }
   ],
   "source": [
    "my_fruit = \"orange\"\n",
    "my_fruit"
   ]
  },
  {
   "cell_type": "code",
   "execution_count": 40,
   "id": "fee5f0bd",
   "metadata": {},
   "outputs": [
    {
     "data": {
      "text/plain": [
       "['pineapple', 'banana', 'kiwi']"
      ]
     },
     "execution_count": 40,
     "metadata": {},
     "output_type": "execute_result"
    }
   ],
   "source": [
    "fruits[i] = \"pineapple\"\n",
    "fruits"
   ]
  }
 ],
 "metadata": {
  "kernelspec": {
   "display_name": "Python 3",
   "language": "python",
   "name": "python3"
  },
  "language_info": {
   "codemirror_mode": {
    "name": "ipython",
    "version": 3
   },
   "file_extension": ".py",
   "mimetype": "text/x-python",
   "name": "python",
   "nbconvert_exporter": "python",
   "pygments_lexer": "ipython3",
   "version": "3.13.3"
  }
 },
 "nbformat": 4,
 "nbformat_minor": 5
}

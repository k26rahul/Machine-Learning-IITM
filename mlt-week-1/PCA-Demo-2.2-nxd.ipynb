{
 "cells": [
  {
   "cell_type": "code",
   "execution_count": 183,
   "id": "377efc78",
   "metadata": {},
   "outputs": [],
   "source": [
    "import numpy as np\n",
    "np.set_printoptions(precision=4, suppress=True)"
   ]
  },
  {
   "cell_type": "markdown",
   "id": "8e1c7494",
   "metadata": {},
   "source": [
    "# centering the data"
   ]
  },
  {
   "cell_type": "code",
   "execution_count": 184,
   "id": "c0b61b5e",
   "metadata": {},
   "outputs": [
    {
     "data": {
      "text/plain": [
       "array([[1, 5, 2],\n",
       "       [6, 2, 1],\n",
       "       [2, 0, 0],\n",
       "       [5, 2, 0],\n",
       "       [0, 2, 1]])"
      ]
     },
     "execution_count": 184,
     "metadata": {},
     "output_type": "execute_result"
    },
    {
     "data": {
      "text/plain": [
       "(5, 3)"
      ]
     },
     "execution_count": 184,
     "metadata": {},
     "output_type": "execute_result"
    }
   ],
   "source": [
    "x1 = np.array([1, 5, 2])\n",
    "x2 = np.array([6, 2, 1])\n",
    "x3 = np.array([2, 0, 0])\n",
    "x4 = np.array([5, 2, 0])\n",
    "x5 = np.array([0, 2, 1])\n",
    "\n",
    "X = np.array([x1, x2, x3, x4, x5])  # n * d\n",
    "\n",
    "X\n",
    "X.shape"
   ]
  },
  {
   "cell_type": "code",
   "execution_count": 185,
   "id": "8fba97bd",
   "metadata": {},
   "outputs": [
    {
     "data": {
      "text/plain": [
       "array([[2.8, 2.2, 0.8]])"
      ]
     },
     "execution_count": 185,
     "metadata": {},
     "output_type": "execute_result"
    },
    {
     "data": {
      "text/plain": [
       "(1, 3)"
      ]
     },
     "execution_count": 185,
     "metadata": {},
     "output_type": "execute_result"
    }
   ],
   "source": [
    "X_mean = X.mean(axis=0, keepdims=True)\n",
    "\n",
    "X_mean\n",
    "X_mean.shape"
   ]
  },
  {
   "cell_type": "code",
   "execution_count": 186,
   "id": "03b224c0",
   "metadata": {},
   "outputs": [
    {
     "data": {
      "text/plain": [
       "array([[-1.8,  2.8,  1.2],\n",
       "       [ 3.2, -0.2,  0.2],\n",
       "       [-0.8, -2.2, -0.8],\n",
       "       [ 2.2, -0.2, -0.8],\n",
       "       [-2.8, -0.2,  0.2]])"
      ]
     },
     "execution_count": 186,
     "metadata": {},
     "output_type": "execute_result"
    },
    {
     "data": {
      "text/plain": [
       "(5, 3)"
      ]
     },
     "execution_count": 186,
     "metadata": {},
     "output_type": "execute_result"
    }
   ],
   "source": [
    "X_centered = X - X_mean\n",
    "\n",
    "X_centered\n",
    "X_centered.shape"
   ]
  },
  {
   "cell_type": "markdown",
   "id": "506bb437",
   "metadata": {},
   "source": [
    "# calculating `C` the covariance matrix"
   ]
  },
  {
   "cell_type": "code",
   "execution_count": 187,
   "id": "c1ef5e67",
   "metadata": {},
   "outputs": [
    {
     "data": {
      "text/plain": [
       "((5, 3), (3, 5))"
      ]
     },
     "execution_count": 187,
     "metadata": {},
     "output_type": "execute_result"
    },
    {
     "data": {
      "text/plain": [
       "((3, 5), (5, 3))"
      ]
     },
     "execution_count": 187,
     "metadata": {},
     "output_type": "execute_result"
    }
   ],
   "source": [
    "X_centered.shape, X_centered.T.shape\n",
    "X_centered.T.shape, X_centered.shape"
   ]
  },
  {
   "cell_type": "code",
   "execution_count": 188,
   "id": "8e295503",
   "metadata": {},
   "outputs": [
    {
     "data": {
      "text/plain": [
       "array([[ 5.36, -0.76, -0.64],\n",
       "       [-0.76,  2.56,  1.04],\n",
       "       [-0.64,  1.04,  0.56]])"
      ]
     },
     "execution_count": 188,
     "metadata": {},
     "output_type": "execute_result"
    },
    {
     "data": {
      "text/plain": [
       "(3, 3)"
      ]
     },
     "execution_count": 188,
     "metadata": {},
     "output_type": "execute_result"
    }
   ],
   "source": [
    "C = 1/5 * X_centered.T @ X_centered\n",
    "\n",
    "C\n",
    "C.shape"
   ]
  },
  {
   "cell_type": "markdown",
   "id": "941fe3f3",
   "metadata": {},
   "source": [
    "# calculating eigenvalues and eigenvectors"
   ]
  },
  {
   "cell_type": "code",
   "execution_count": 189,
   "id": "b5ffe33b",
   "metadata": {},
   "outputs": [
    {
     "data": {
      "text/plain": [
       "array([5.7087, 2.6712, 0.1001])"
      ]
     },
     "execution_count": 189,
     "metadata": {},
     "output_type": "execute_result"
    },
    {
     "data": {
      "text/plain": [
       "array([[ 0.9424, -0.2852, -0.1748],\n",
       "       [-0.3293, -0.8828, -0.335 ],\n",
       "       [ 0.0587, -0.3733,  0.9259]])"
      ]
     },
     "execution_count": 189,
     "metadata": {},
     "output_type": "execute_result"
    }
   ],
   "source": [
    "eigenvalues, eigenvectors = np.linalg.eig(C)\n",
    "\n",
    "sorted_indices = np.argsort(eigenvalues)[::-1]\n",
    "eigenvalues = eigenvalues[sorted_indices]\n",
    "eigenvectors = eigenvectors.T[sorted_indices]\n",
    "\n",
    "eigenvalues\n",
    "eigenvectors"
   ]
  },
  {
   "cell_type": "code",
   "execution_count": 190,
   "id": "24526bcc",
   "metadata": {},
   "outputs": [
    {
     "name": "stdout",
     "output_type": "stream",
     "text": [
      "Eigenvalue 1: 5.7087\n",
      "Eigenvector 1: [ 0.9424 -0.2852 -0.1748]\n",
      "Variance explained: 67.32%\n",
      "\n",
      "Eigenvalue 2: 2.6712\n",
      "Eigenvector 2: [-0.3293 -0.8828 -0.335 ]\n",
      "Variance explained: 31.50%\n",
      "\n",
      "Eigenvalue 3: 0.1001\n",
      "Eigenvector 3: [ 0.0587 -0.3733  0.9259]\n",
      "Variance explained: 1.18%\n",
      "\n"
     ]
    }
   ],
   "source": [
    "for i in range(3):\n",
    "  print(f\"Eigenvalue {i+1}: {eigenvalues[i]:.4f}\")\n",
    "  print(f\"Eigenvector {i+1}: {eigenvectors[i]}\")\n",
    "  print(f\"Variance explained: {eigenvalues[i] / np.sum(eigenvalues) * 100:.2f}%\\n\")"
   ]
  },
  {
   "cell_type": "markdown",
   "id": "61019f06",
   "metadata": {},
   "source": [
    "# projecting the data on PC1"
   ]
  },
  {
   "cell_type": "code",
   "execution_count": 191,
   "id": "3b908224",
   "metadata": {},
   "outputs": [
    {
     "data": {
      "text/plain": [
       "array([[ 0.9424, -0.2852, -0.1748]])"
      ]
     },
     "execution_count": 191,
     "metadata": {},
     "output_type": "execute_result"
    },
    {
     "data": {
      "text/plain": [
       "(1, 3)"
      ]
     },
     "execution_count": 191,
     "metadata": {},
     "output_type": "execute_result"
    },
    {
     "data": {
      "text/plain": [
       "(5, 3)"
      ]
     },
     "execution_count": 191,
     "metadata": {},
     "output_type": "execute_result"
    }
   ],
   "source": [
    "W = eigenvectors[[0]]\n",
    "\n",
    "W\n",
    "W.shape\n",
    "X_centered.shape"
   ]
  },
  {
   "cell_type": "code",
   "execution_count": 192,
   "id": "748acc1b",
   "metadata": {},
   "outputs": [
    {
     "data": {
      "text/plain": [
       "array([[-2.7046,  3.0378,  0.0133,  2.2701, -2.6166]])"
      ]
     },
     "execution_count": 192,
     "metadata": {},
     "output_type": "execute_result"
    },
    {
     "data": {
      "text/plain": [
       "(1, 5)"
      ]
     },
     "execution_count": 192,
     "metadata": {},
     "output_type": "execute_result"
    }
   ],
   "source": [
    "X_transformed = W @ X_centered.T\n",
    "\n",
    "X_transformed\n",
    "X_transformed.shape"
   ]
  },
  {
   "cell_type": "markdown",
   "id": "50b5e221",
   "metadata": {},
   "source": [
    "#### reconstructing orig data"
   ]
  },
  {
   "cell_type": "code",
   "execution_count": 193,
   "id": "56819d19",
   "metadata": {},
   "outputs": [
    {
     "data": {
      "text/plain": [
       "(1, 3)"
      ]
     },
     "execution_count": 193,
     "metadata": {},
     "output_type": "execute_result"
    },
    {
     "data": {
      "text/plain": [
       "(1, 5)"
      ]
     },
     "execution_count": 193,
     "metadata": {},
     "output_type": "execute_result"
    },
    {
     "data": {
      "text/plain": [
       "(5, 3)"
      ]
     },
     "execution_count": 193,
     "metadata": {},
     "output_type": "execute_result"
    }
   ],
   "source": [
    "W.shape\n",
    "X_transformed.shape\n",
    "X.shape"
   ]
  },
  {
   "cell_type": "code",
   "execution_count": 194,
   "id": "32b37533",
   "metadata": {},
   "outputs": [
    {
     "data": {
      "text/plain": [
       "array([[0.2512, 2.9713, 1.2726],\n",
       "       [5.6628, 1.3337, 0.2691],\n",
       "       [2.8125, 2.1962, 0.7977],\n",
       "       [4.9394, 1.5526, 0.4033],\n",
       "       [0.3341, 2.9462, 1.2573]])"
      ]
     },
     "execution_count": 194,
     "metadata": {},
     "output_type": "execute_result"
    },
    {
     "data": {
      "text/plain": [
       "(5, 3)"
      ]
     },
     "execution_count": 194,
     "metadata": {},
     "output_type": "execute_result"
    },
    {
     "data": {
      "text/plain": [
       "array([[1, 5, 2],\n",
       "       [6, 2, 1],\n",
       "       [2, 0, 0],\n",
       "       [5, 2, 0],\n",
       "       [0, 2, 1]])"
      ]
     },
     "execution_count": 194,
     "metadata": {},
     "output_type": "execute_result"
    },
    {
     "data": {
      "text/plain": [
       "(5, 3)"
      ]
     },
     "execution_count": 194,
     "metadata": {},
     "output_type": "execute_result"
    }
   ],
   "source": [
    "X_reconstructed = X_transformed.T @ W + X_mean\n",
    "\n",
    "X_reconstructed\n",
    "X_reconstructed.shape\n",
    "\n",
    "X\n",
    "X.shape"
   ]
  },
  {
   "cell_type": "code",
   "execution_count": 195,
   "id": "a80d96ae",
   "metadata": {},
   "outputs": [
    {
     "data": {
      "text/plain": [
       "np.float64(0.9237776494600243)"
      ]
     },
     "execution_count": 195,
     "metadata": {},
     "output_type": "execute_result"
    }
   ],
   "source": [
    "np.mean((X - X_reconstructed) ** 2)"
   ]
  },
  {
   "cell_type": "markdown",
   "id": "4daa58da",
   "metadata": {},
   "source": [
    "# projecting the data on PC1 and PC2"
   ]
  },
  {
   "cell_type": "code",
   "execution_count": 196,
   "id": "ef5146f1",
   "metadata": {},
   "outputs": [
    {
     "data": {
      "text/plain": [
       "array([[ 0.9424, -0.2852, -0.1748],\n",
       "       [-0.3293, -0.8828, -0.335 ]])"
      ]
     },
     "execution_count": 196,
     "metadata": {},
     "output_type": "execute_result"
    },
    {
     "data": {
      "text/plain": [
       "(2, 3)"
      ]
     },
     "execution_count": 196,
     "metadata": {},
     "output_type": "execute_result"
    },
    {
     "data": {
      "text/plain": [
       "(5, 3)"
      ]
     },
     "execution_count": 196,
     "metadata": {},
     "output_type": "execute_result"
    }
   ],
   "source": [
    "W = eigenvectors[:2]\n",
    "\n",
    "W\n",
    "W.shape\n",
    "X_centered.shape"
   ]
  },
  {
   "cell_type": "code",
   "execution_count": 197,
   "id": "44f5a7b3",
   "metadata": {},
   "outputs": [
    {
     "data": {
      "text/plain": [
       "array([[-2.7046,  3.0378,  0.0133,  2.2701, -2.6166],\n",
       "       [-2.2812, -0.9441,  2.4736, -0.2798,  1.0315]])"
      ]
     },
     "execution_count": 197,
     "metadata": {},
     "output_type": "execute_result"
    },
    {
     "data": {
      "text/plain": [
       "(2, 5)"
      ]
     },
     "execution_count": 197,
     "metadata": {},
     "output_type": "execute_result"
    }
   ],
   "source": [
    "X_transformed = W @ X_centered.T\n",
    "\n",
    "X_transformed\n",
    "X_transformed.shape"
   ]
  },
  {
   "cell_type": "markdown",
   "id": "62172f07",
   "metadata": {},
   "source": [
    "#### reconstructing orig data"
   ]
  },
  {
   "cell_type": "code",
   "execution_count": 198,
   "id": "673e6130",
   "metadata": {},
   "outputs": [
    {
     "data": {
      "text/plain": [
       "(2, 3)"
      ]
     },
     "execution_count": 198,
     "metadata": {},
     "output_type": "execute_result"
    },
    {
     "data": {
      "text/plain": [
       "(2, 5)"
      ]
     },
     "execution_count": 198,
     "metadata": {},
     "output_type": "execute_result"
    },
    {
     "data": {
      "text/plain": [
       "(5, 3)"
      ]
     },
     "execution_count": 198,
     "metadata": {},
     "output_type": "execute_result"
    }
   ],
   "source": [
    "W.shape\n",
    "X_transformed.shape\n",
    "X.shape"
   ]
  },
  {
   "cell_type": "code",
   "execution_count": 199,
   "id": "326c54a2",
   "metadata": {},
   "outputs": [
    {
     "data": {
      "text/plain": [
       "array([[ 1.0023,  4.9851,  2.0369],\n",
       "       [ 5.9737,  2.1671,  0.5855],\n",
       "       [ 1.998 ,  0.0125, -0.0311],\n",
       "       [ 5.0315,  1.7996,  0.497 ],\n",
       "       [-0.0056,  2.0356,  0.9117]])"
      ]
     },
     "execution_count": 199,
     "metadata": {},
     "output_type": "execute_result"
    },
    {
     "data": {
      "text/plain": [
       "(5, 3)"
      ]
     },
     "execution_count": 199,
     "metadata": {},
     "output_type": "execute_result"
    },
    {
     "data": {
      "text/plain": [
       "array([[1, 5, 2],\n",
       "       [6, 2, 1],\n",
       "       [2, 0, 0],\n",
       "       [5, 2, 0],\n",
       "       [0, 2, 1]])"
      ]
     },
     "execution_count": 199,
     "metadata": {},
     "output_type": "execute_result"
    },
    {
     "data": {
      "text/plain": [
       "(5, 3)"
      ]
     },
     "execution_count": 199,
     "metadata": {},
     "output_type": "execute_result"
    }
   ],
   "source": [
    "X_reconstructed = X_transformed.T @ W + X_mean\n",
    "\n",
    "X_reconstructed\n",
    "X_reconstructed.shape\n",
    "\n",
    "X\n",
    "X.shape"
   ]
  },
  {
   "cell_type": "code",
   "execution_count": 200,
   "id": "acec6025",
   "metadata": {},
   "outputs": [
    {
     "data": {
      "text/plain": [
       "np.float64(0.03336569308673175)"
      ]
     },
     "execution_count": 200,
     "metadata": {},
     "output_type": "execute_result"
    }
   ],
   "source": [
    "np.mean((X - X_reconstructed) ** 2)"
   ]
  },
  {
   "cell_type": "markdown",
   "id": "2c11559c",
   "metadata": {},
   "source": [
    "# projecting the data on PC1 and PC2 and PC3"
   ]
  },
  {
   "cell_type": "code",
   "execution_count": 201,
   "id": "5cdeb5c4",
   "metadata": {},
   "outputs": [
    {
     "data": {
      "text/plain": [
       "(3, 3)"
      ]
     },
     "execution_count": 201,
     "metadata": {},
     "output_type": "execute_result"
    },
    {
     "data": {
      "text/plain": [
       "(5, 3)"
      ]
     },
     "execution_count": 201,
     "metadata": {},
     "output_type": "execute_result"
    }
   ],
   "source": [
    "W = eigenvectors\n",
    "\n",
    "W.shape\n",
    "X_centered.shape"
   ]
  },
  {
   "cell_type": "code",
   "execution_count": 202,
   "id": "a214118d",
   "metadata": {},
   "outputs": [
    {
     "data": {
      "text/plain": [
       "array([[-2.7046,  3.0378,  0.0133,  2.2701, -2.6166],\n",
       "       [-2.2812, -0.9441,  2.4736, -0.2798,  1.0315],\n",
       "       [-0.0399,  0.4477,  0.0336, -0.5368,  0.0954]])"
      ]
     },
     "execution_count": 202,
     "metadata": {},
     "output_type": "execute_result"
    },
    {
     "data": {
      "text/plain": [
       "(3, 5)"
      ]
     },
     "execution_count": 202,
     "metadata": {},
     "output_type": "execute_result"
    }
   ],
   "source": [
    "X_transformed = W @ X_centered.T\n",
    "\n",
    "X_transformed\n",
    "X_transformed.shape"
   ]
  },
  {
   "cell_type": "markdown",
   "id": "29f36a23",
   "metadata": {},
   "source": [
    "#### reconstructing orig data"
   ]
  },
  {
   "cell_type": "code",
   "execution_count": 203,
   "id": "a68b455f",
   "metadata": {},
   "outputs": [
    {
     "data": {
      "text/plain": [
       "(3, 3)"
      ]
     },
     "execution_count": 203,
     "metadata": {},
     "output_type": "execute_result"
    },
    {
     "data": {
      "text/plain": [
       "(3, 5)"
      ]
     },
     "execution_count": 203,
     "metadata": {},
     "output_type": "execute_result"
    },
    {
     "data": {
      "text/plain": [
       "(5, 3)"
      ]
     },
     "execution_count": 203,
     "metadata": {},
     "output_type": "execute_result"
    }
   ],
   "source": [
    "W.shape\n",
    "X_transformed.shape\n",
    "X.shape"
   ]
  },
  {
   "cell_type": "code",
   "execution_count": 204,
   "id": "80ded490",
   "metadata": {},
   "outputs": [
    {
     "data": {
      "text/plain": [
       "array([[ 1.,  5.,  2.],\n",
       "       [ 6.,  2.,  1.],\n",
       "       [ 2.,  0., -0.],\n",
       "       [ 5.,  2.,  0.],\n",
       "       [-0.,  2.,  1.]])"
      ]
     },
     "execution_count": 204,
     "metadata": {},
     "output_type": "execute_result"
    },
    {
     "data": {
      "text/plain": [
       "(5, 3)"
      ]
     },
     "execution_count": 204,
     "metadata": {},
     "output_type": "execute_result"
    },
    {
     "data": {
      "text/plain": [
       "array([[1, 5, 2],\n",
       "       [6, 2, 1],\n",
       "       [2, 0, 0],\n",
       "       [5, 2, 0],\n",
       "       [0, 2, 1]])"
      ]
     },
     "execution_count": 204,
     "metadata": {},
     "output_type": "execute_result"
    },
    {
     "data": {
      "text/plain": [
       "(5, 3)"
      ]
     },
     "execution_count": 204,
     "metadata": {},
     "output_type": "execute_result"
    }
   ],
   "source": [
    "X_reconstructed = X_transformed.T @ W + X_mean\n",
    "\n",
    "X_reconstructed\n",
    "X_reconstructed.shape\n",
    "\n",
    "X\n",
    "X.shape"
   ]
  },
  {
   "cell_type": "code",
   "execution_count": 205,
   "id": "8f586a1b",
   "metadata": {},
   "outputs": [
    {
     "data": {
      "text/plain": [
       "np.float64(5.012553668591846e-32)"
      ]
     },
     "execution_count": 205,
     "metadata": {},
     "output_type": "execute_result"
    }
   ],
   "source": [
    "np.mean((X - X_reconstructed) ** 2)"
   ]
  }
 ],
 "metadata": {
  "kernelspec": {
   "display_name": "Python 3",
   "language": "python",
   "name": "python3"
  },
  "language_info": {
   "codemirror_mode": {
    "name": "ipython",
    "version": 3
   },
   "file_extension": ".py",
   "mimetype": "text/x-python",
   "name": "python",
   "nbconvert_exporter": "python",
   "pygments_lexer": "ipython3",
   "version": "3.13.3"
  }
 },
 "nbformat": 4,
 "nbformat_minor": 5
}

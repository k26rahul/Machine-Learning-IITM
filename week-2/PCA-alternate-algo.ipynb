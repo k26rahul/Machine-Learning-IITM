{
 "cells": [
  {
   "cell_type": "code",
   "execution_count": 83,
   "id": "72a0ad17",
   "metadata": {},
   "outputs": [],
   "source": [
    "import numpy as np\n",
    "import matplotlib.pyplot as plt\n",
    "np.set_printoptions(precision=4, suppress=True)"
   ]
  },
  {
   "cell_type": "code",
   "execution_count": 84,
   "id": "f3c40f2b",
   "metadata": {},
   "outputs": [
    {
     "data": {
      "text/plain": [
       "array([[ 1.0263,  2.0345,  3.1033,  3.6507],\n",
       "       [ 2.1944,  3.6023,  6.0037,  7.6051],\n",
       "       [ 2.9654,  5.909 ,  9.1364, 10.8558],\n",
       "       [ 3.9577,  8.7099, 11.9545, 16.6211],\n",
       "       [ 5.0662, 10.2668, 14.13  , 20.3439],\n",
       "       [ 6.5419, 11.7068, 18.9822, 24.1266],\n",
       "       [ 6.4874, 14.2287, 20.6424, 27.8974],\n",
       "       [ 7.943 , 15.9332, 25.2059, 33.9629],\n",
       "       [ 9.8337, 19.4803, 28.8729, 35.0576],\n",
       "       [ 9.157 , 20.9904, 28.0486, 38.8383]])"
      ]
     },
     "execution_count": 84,
     "metadata": {},
     "output_type": "execute_result"
    },
    {
     "data": {
      "text/plain": [
       "(10, 4)"
      ]
     },
     "execution_count": 84,
     "metadata": {},
     "output_type": "execute_result"
    },
    {
     "data": {
      "text/plain": [
       "array([[ -1.4274,  -0.4192,   0.6496,   1.197 ],\n",
       "       [ -2.657 ,  -1.249 ,   1.1523,   2.7537],\n",
       "       [ -4.2513,  -1.3077,   1.9198,   3.6392],\n",
       "       [ -6.3531,  -1.6009,   1.6437,   6.3103],\n",
       "       [ -7.3855,  -2.1849,   1.6783,   7.8922],\n",
       "       [ -8.7975,  -3.6326,   3.6428,   8.7872],\n",
       "       [-10.8266,  -3.0853,   3.3284,  10.5834],\n",
       "       [-12.8182,  -4.828 ,   4.4446,  13.2016],\n",
       "       [-13.4774,  -3.8308,   5.5617,  11.7465],\n",
       "       [-15.1016,  -3.2682,   3.7901,  14.5797]])"
      ]
     },
     "execution_count": 84,
     "metadata": {},
     "output_type": "execute_result"
    }
   ],
   "source": [
    "X = np.array([\n",
    "    [\n",
    "        (i * j) * (1 + np.random.uniform(-0.1, 0.1))  # ±10% noise\n",
    "        for j in range(1, 11)\n",
    "    ]\n",
    "    for i in range(1, 5)\n",
    "]).T\n",
    "X\n",
    "X.shape  # d > n (can use alternate PCA algorithm, K = X'X)\n",
    "\n",
    "X = X - X.mean(axis=1, keepdims=True)  # center the data\n",
    "X"
   ]
  },
  {
   "cell_type": "code",
   "execution_count": 85,
   "id": "5884f731",
   "metadata": {},
   "outputs": [
    {
     "data": {
      "text/plain": [
       "((4, 10), (10, 4))"
      ]
     },
     "execution_count": 85,
     "metadata": {},
     "output_type": "execute_result"
    },
    {
     "data": {
      "text/plain": [
       "(4, 4)"
      ]
     },
     "execution_count": 85,
     "metadata": {},
     "output_type": "execute_result"
    }
   ],
   "source": [
    "X.T.shape, X.shape\n",
    "K = X.T @ X\n",
    "K.shape  # K is n * n matrix"
   ]
  },
  {
   "cell_type": "code",
   "execution_count": 86,
   "id": "73dc8225",
   "metadata": {},
   "outputs": [
    {
     "data": {
      "text/plain": [
       "array([1901.8288,    6.7627,    3.0353,   -0.    ])"
      ]
     },
     "execution_count": 86,
     "metadata": {},
     "output_type": "execute_result"
    },
    {
     "data": {
      "text/plain": [
       "array([[ 0.684 ,  0.2039, -0.2246, -0.6634],\n",
       "       [-0.0604,  0.4938, -0.7906,  0.3571],\n",
       "       [ 0.5277, -0.6816, -0.2731,  0.427 ],\n",
       "       [-0.5   , -0.5   , -0.5   , -0.5   ]])"
      ]
     },
     "execution_count": 86,
     "metadata": {},
     "output_type": "execute_result"
    },
    {
     "data": {
      "text/plain": [
       "array([0.9949, 0.9984, 1.    , 1.    ])"
      ]
     },
     "execution_count": 86,
     "metadata": {},
     "output_type": "execute_result"
    }
   ],
   "source": [
    "eigenvalues, eigenvectors = np.linalg.eig(K)\n",
    "sorted_indices = np.argsort(eigenvalues)[::-1]\n",
    "eigenvalues = eigenvalues[sorted_indices]\n",
    "eigenvectors = eigenvectors.T[sorted_indices]\n",
    "\n",
    "eigenvalues\n",
    "eigenvectors\n",
    "\n",
    "np.cumsum(eigenvalues) / sum(eigenvalues)"
   ]
  },
  {
   "cell_type": "code",
   "execution_count": 87,
   "id": "cd17eccf",
   "metadata": {},
   "outputs": [],
   "source": [
    "beta_k = eigenvectors\n",
    "n_lambda_k = eigenvalues"
   ]
  },
  {
   "cell_type": "code",
   "execution_count": 88,
   "id": "f75b845a",
   "metadata": {},
   "outputs": [
    {
     "name": "stderr",
     "output_type": "stream",
     "text": [
      "C:\\Users\\k26ra\\AppData\\Local\\Temp\\ipykernel_19496\\109447986.py:1: RuntimeWarning: invalid value encountered in sqrt\n",
      "  alpha_k = beta_k / np.sqrt(n_lambda_k).reshape(-1, 1)\n"
     ]
    },
    {
     "data": {
      "text/plain": [
       "(4, 4)"
      ]
     },
     "execution_count": 88,
     "metadata": {},
     "output_type": "execute_result"
    }
   ],
   "source": [
    "alpha_k = beta_k / np.sqrt(n_lambda_k).reshape(-1, 1)\n",
    "alpha_k.shape"
   ]
  },
  {
   "cell_type": "code",
   "execution_count": 89,
   "id": "b0195f91",
   "metadata": {},
   "outputs": [
    {
     "data": {
      "text/plain": [
       "((10, 4), (4, 4))"
      ]
     },
     "execution_count": 89,
     "metadata": {},
     "output_type": "execute_result"
    },
    {
     "data": {
      "text/plain": [
       "(10, 4)"
      ]
     },
     "execution_count": 89,
     "metadata": {},
     "output_type": "execute_result"
    }
   ],
   "source": [
    "X.shape, alpha_k.shape\n",
    "W_k = X @ alpha_k\n",
    "W_k.shape"
   ]
  },
  {
   "cell_type": "code",
   "execution_count": 90,
   "id": "14356978",
   "metadata": {},
   "outputs": [
    {
     "data": {
      "text/plain": [
       "array([[nan, nan, nan, nan],\n",
       "       [nan, nan, nan, nan],\n",
       "       [nan, nan, nan, nan],\n",
       "       [nan, nan, nan, nan],\n",
       "       [nan, nan, nan, nan],\n",
       "       [nan, nan, nan, nan],\n",
       "       [nan, nan, nan, nan],\n",
       "       [nan, nan, nan, nan],\n",
       "       [nan, nan, nan, nan],\n",
       "       [nan, nan, nan, nan]])"
      ]
     },
     "execution_count": 90,
     "metadata": {},
     "output_type": "execute_result"
    }
   ],
   "source": [
    "W_k = W_k / np.linalg.norm(W_k, axis=0)\n",
    "W_k"
   ]
  },
  {
   "cell_type": "code",
   "execution_count": 91,
   "id": "3eaa31f9",
   "metadata": {},
   "outputs": [
    {
     "data": {
      "text/plain": [
       "(10, 10)"
      ]
     },
     "execution_count": 91,
     "metadata": {},
     "output_type": "execute_result"
    }
   ],
   "source": [
    "n = X.shape[1]\n",
    "C = X @ X.T / n\n",
    "C.shape"
   ]
  },
  {
   "cell_type": "code",
   "execution_count": 92,
   "id": "12c9a08b",
   "metadata": {},
   "outputs": [
    {
     "data": {
      "text/plain": [
       "array([[-0.9902, -0.0086, -0.0131, -0.0118, -0.0083,  0.0007,  0.0691,\n",
       "         0.0768, -0.0796, -0.0459],\n",
       "       [-0.0674,  0.0282,  0.0932,  0.1699,  0.0695, -0.0509, -0.9418,\n",
       "        -0.1782, -0.1476, -0.0953],\n",
       "       [ 0.0369,  0.1787,  0.606 , -0.4442, -0.035 , -0.5408,  0.0247,\n",
       "         0.1851, -0.2334, -0.138 ],\n",
       "       [-0.0069,  0.3679,  0.0596,  0.5465, -0.637 , -0.2503,  0.0692,\n",
       "         0.009 ,  0.2105, -0.2116],\n",
       "       [-0.0336,  0.3102, -0.4639, -0.6123, -0.1788, -0.0872, -0.1244,\n",
       "        -0.289 ,  0.3303, -0.2548],\n",
       "       [ 0.0319, -0.4204,  0.1629, -0.167 , -0.5313,  0.3496,  0.0688,\n",
       "        -0.3391, -0.3861, -0.3074],\n",
       "       [ 0.0011,  0.5119,  0.3777,  0.0068,  0.2556,  0.6194,  0.0591,\n",
       "         0.0001,  0.1072, -0.3624],\n",
       "       [ 0.0039, -0.0481, -0.0879,  0.2665,  0.4494, -0.3546,  0.263 ,\n",
       "        -0.5452, -0.1572, -0.4473],\n",
       "       [ 0.1069,  0.1019, -0.4585,  0.0339,  0.0244,  0.0174, -0.0307,\n",
       "         0.5764, -0.492 , -0.4366],\n",
       "       [-0.0037, -0.5331,  0.1341,  0.0018,  0.077 , -0.0531, -0.0944,\n",
       "         0.3163,  0.5802, -0.4935]])"
      ]
     },
     "execution_count": 92,
     "metadata": {},
     "output_type": "execute_result"
    }
   ],
   "source": [
    "_, eigenvectors = np.linalg.eigh(C)\n",
    "eigenvectors"
   ]
  },
  {
   "cell_type": "markdown",
   "id": "b5943981",
   "metadata": {},
   "source": [
    "# chatgpt"
   ]
  },
  {
   "cell_type": "code",
   "execution_count": 93,
   "id": "df8d0ae7",
   "metadata": {},
   "outputs": [
    {
     "data": {
      "text/plain": [
       "array([475.4572,   1.6907,   0.7588,   0.    ,   0.    ,   0.    ,\n",
       "        -0.    ,  -0.    ,  -0.    ,  -0.    ])"
      ]
     },
     "execution_count": 93,
     "metadata": {},
     "output_type": "execute_result"
    },
    {
     "data": {
      "text/plain": [
       "array([[-0.0459, -0.0796,  0.0768,  0.0691,  0.0007, -0.0083, -0.0118,\n",
       "        -0.0131, -0.0086, -0.9902],\n",
       "       [-0.0953, -0.1476, -0.1782, -0.9418, -0.0509,  0.0695,  0.1699,\n",
       "         0.0932,  0.0282, -0.0674],\n",
       "       [-0.138 , -0.2334,  0.1851,  0.0247, -0.5408, -0.035 , -0.4442,\n",
       "         0.606 ,  0.1787,  0.0369],\n",
       "       [-0.2116,  0.2105,  0.009 ,  0.0692, -0.2503, -0.637 ,  0.5465,\n",
       "         0.0596,  0.3679, -0.0069],\n",
       "       [-0.2548,  0.3303, -0.289 , -0.1244, -0.0872, -0.1788, -0.6123,\n",
       "        -0.4639,  0.3102, -0.0336],\n",
       "       [-0.3074, -0.3861, -0.3391,  0.0688,  0.3496, -0.5313, -0.167 ,\n",
       "         0.1629, -0.4204,  0.0319],\n",
       "       [-0.3624,  0.1072,  0.0001,  0.0591,  0.6194,  0.2556,  0.0068,\n",
       "         0.3777,  0.5119,  0.0011],\n",
       "       [-0.4473, -0.1572, -0.5452,  0.263 , -0.3546,  0.4494,  0.2665,\n",
       "        -0.0879, -0.0481,  0.0039],\n",
       "       [-0.4366, -0.492 ,  0.5764, -0.0307,  0.0174,  0.0244,  0.0339,\n",
       "        -0.4585,  0.1019,  0.1069],\n",
       "       [-0.4935,  0.5802,  0.3163, -0.0944, -0.0531,  0.077 ,  0.0018,\n",
       "         0.1341, -0.5331, -0.0037]])"
      ]
     },
     "execution_count": 93,
     "metadata": {},
     "output_type": "execute_result"
    }
   ],
   "source": [
    "C = (1 / X.shape[1]) * X @ X.T\n",
    "eigvals1, eigvecs1 = np.linalg.eigh(C)  # shape: (10, 10)\n",
    "eigvals1 = eigvals1[::-1]\n",
    "eigvecs1 = eigvecs1[:, ::-1]  # descending order\n",
    "\n",
    "eigvals1\n",
    "eigvecs1"
   ]
  },
  {
   "cell_type": "code",
   "execution_count": 94,
   "id": "1921477b",
   "metadata": {},
   "outputs": [
    {
     "name": "stderr",
     "output_type": "stream",
     "text": [
      "C:\\Users\\k26ra\\AppData\\Local\\Temp\\ipykernel_19496\\1132394845.py:7: RuntimeWarning: invalid value encountered in sqrt\n",
      "  eigvecs_C = (X @ eigvecs2) / np.sqrt(eigvals2)  # shape: (10, 4)\n"
     ]
    },
    {
     "data": {
      "text/plain": [
       "array([[ 0.0459, -0.0796, -0.0768,     nan],\n",
       "       [ 0.0953, -0.1476,  0.1782,     nan],\n",
       "       [ 0.138 , -0.2334, -0.1851,     nan],\n",
       "       [ 0.2116,  0.2105, -0.009 ,     nan],\n",
       "       [ 0.2548,  0.3303,  0.289 ,     nan],\n",
       "       [ 0.3074, -0.3861,  0.3391,     nan],\n",
       "       [ 0.3624,  0.1072, -0.0001,     nan],\n",
       "       [ 0.4473, -0.1572,  0.5452,     nan],\n",
       "       [ 0.4366, -0.492 , -0.5764,     nan],\n",
       "       [ 0.4935,  0.5802, -0.3163,     nan]])"
      ]
     },
     "execution_count": 94,
     "metadata": {},
     "output_type": "execute_result"
    }
   ],
   "source": [
    "K = (1 / X.shape[1]) * X.T @ X\n",
    "eigvals2, eigvecs2 = np.linalg.eigh(K)  # shape: (4, 4)\n",
    "eigvals2 = eigvals2[::-1]\n",
    "eigvecs2 = eigvecs2[:, ::-1]\n",
    "\n",
    "# Recover eigenvectors of C\n",
    "eigvecs_C = (X @ eigvecs2) / np.sqrt(eigvals2)  # shape: (10, 4)\n",
    "\n",
    "# Normalize each column (principal component)\n",
    "eigvecs_C /= np.linalg.norm(eigvecs_C, axis=0)\n",
    "\n",
    "eigvecs_C"
   ]
  },
  {
   "cell_type": "code",
   "execution_count": 95,
   "id": "7659ebc3",
   "metadata": {},
   "outputs": [
    {
     "data": {
      "text/plain": [
       "array([[-0.0459, -0.0796,  0.0768,  0.0691],\n",
       "       [-0.0953, -0.1476, -0.1782, -0.9418],\n",
       "       [-0.138 , -0.2334,  0.1851,  0.0247],\n",
       "       [-0.2116,  0.2105,  0.009 ,  0.0692],\n",
       "       [-0.2548,  0.3303, -0.289 , -0.1244],\n",
       "       [-0.3074, -0.3861, -0.3391,  0.0688],\n",
       "       [-0.3624,  0.1072,  0.0001,  0.0591],\n",
       "       [-0.4473, -0.1572, -0.5452,  0.263 ],\n",
       "       [-0.4366, -0.492 ,  0.5764, -0.0307],\n",
       "       [-0.4935,  0.5802,  0.3163, -0.0944]])"
      ]
     },
     "execution_count": 95,
     "metadata": {},
     "output_type": "execute_result"
    },
    {
     "data": {
      "text/plain": [
       "array([[ 0.0459, -0.0796, -0.0768,     nan],\n",
       "       [ 0.0953, -0.1476,  0.1782,     nan],\n",
       "       [ 0.138 , -0.2334, -0.1851,     nan],\n",
       "       [ 0.2116,  0.2105, -0.009 ,     nan],\n",
       "       [ 0.2548,  0.3303,  0.289 ,     nan],\n",
       "       [ 0.3074, -0.3861,  0.3391,     nan],\n",
       "       [ 0.3624,  0.1072, -0.0001,     nan],\n",
       "       [ 0.4473, -0.1572,  0.5452,     nan],\n",
       "       [ 0.4366, -0.492 , -0.5764,     nan],\n",
       "       [ 0.4935,  0.5802, -0.3163,     nan]])"
      ]
     },
     "execution_count": 95,
     "metadata": {},
     "output_type": "execute_result"
    }
   ],
   "source": [
    "eigvecs1[:, :4]\n",
    "eigvecs_C"
   ]
  },
  {
   "cell_type": "code",
   "execution_count": 96,
   "id": "088200be",
   "metadata": {},
   "outputs": [
    {
     "data": {
      "text/plain": [
       "array([475.4572,   1.6907,   0.7588,   0.    ])"
      ]
     },
     "execution_count": 96,
     "metadata": {},
     "output_type": "execute_result"
    },
    {
     "data": {
      "text/plain": [
       "array([475.4572,   1.6907,   0.7588,  -0.    ])"
      ]
     },
     "execution_count": 96,
     "metadata": {},
     "output_type": "execute_result"
    }
   ],
   "source": [
    "eigvals1[:4]\n",
    "eigvals2"
   ]
  },
  {
   "cell_type": "code",
   "execution_count": 97,
   "id": "f838143f",
   "metadata": {},
   "outputs": [
    {
     "name": "stdout",
     "output_type": "stream",
     "text": [
      "Original X shape: (10, 4)\n",
      "\n",
      "--- Standard PCA ---\n",
      "Eigenvalues (C):\n",
      "[457.4049   2.3596   0.5278   0.       0.       0.       0.      -0.\n",
      "  -0.      -0.    ]\n",
      "First 4 eigenvectors (C):\n",
      "[[-0.048  -0.0175 -0.066  -0.995 ]\n",
      " [-0.1054 -0.0281 -0.139  -0.0346]\n",
      " [-0.1613  0.1135  0.3561 -0.0228]\n",
      " [-0.2344 -0.0669 -0.133   0.0262]\n",
      " [-0.2574 -0.3954 -0.5929  0.0504]\n",
      " [-0.3267  0.5192  0.2188 -0.0235]\n",
      " [-0.3444  0.3908 -0.0235  0.0147]\n",
      " [-0.4541 -0.6192  0.5588 -0.0056]\n",
      " [-0.4261  0.0375 -0.0208  0.0331]\n",
      " [-0.4756  0.1345 -0.3452  0.0569]]\n",
      "\n",
      "--- Efficient PCA via dual trick ---\n",
      "Eigenvalues (from K):\n",
      "[457.4049   2.3596   0.5278   0.    ]\n",
      "Recovered eigenvectors (of C):\n",
      "[[ 0.048  -0.0175 -0.066  -0.0634]\n",
      " [ 0.1054 -0.0281 -0.139  -0.1339]\n",
      " [ 0.1613  0.1135  0.3561  0.3393]\n",
      " [ 0.2344 -0.0669 -0.133  -0.1322]\n",
      " [ 0.2574 -0.3954 -0.5929 -0.5572]\n",
      " [ 0.3267  0.5192  0.2188  0.15  ]\n",
      " [ 0.3444  0.3908 -0.0235 -0.0857]\n",
      " [ 0.4541 -0.6192  0.5588  0.6144]\n",
      " [ 0.4261  0.0375 -0.0208  0.    ]\n",
      " [ 0.4756  0.1345 -0.3452 -0.3572]]\n",
      "\n",
      "--- Comparison ---\n",
      "Difference in eigenvalues:\n",
      "[0. 0. 0. 0.]\n",
      "Cosine similarity of each eigenvector column:\n",
      "[1.     1.     1.     0.0001]\n"
     ]
    }
   ],
   "source": [
    "import numpy as np\n",
    "\n",
    "# Step 1: Generate data\n",
    "X = np.array([\n",
    "    [\n",
    "        (i * j) * (1 + np.random.uniform(-0.1, 0.1))  # ±10% noise\n",
    "        for j in range(1, 11)\n",
    "    ]\n",
    "    for i in range(1, 5)\n",
    "]).T  # Shape: (10, 4)\n",
    "\n",
    "print(\"Original X shape:\", X.shape)\n",
    "\n",
    "# Step 2: Center the data\n",
    "X_centered = X - X.mean(axis=1, keepdims=True)\n",
    "\n",
    "# === Approach 1: Standard PCA (when d < n but still works here) ===\n",
    "C = (1 / X_centered.shape[1]) * X_centered @ X_centered.T  # Covariance matrix\n",
    "eigvals_C, eigvecs_C = np.linalg.eigh(C)  # eigh gives sorted ascending\n",
    "eigvals_C = eigvals_C[::-1]\n",
    "eigvecs_C = eigvecs_C[:, ::-1]\n",
    "\n",
    "print(\"\\n--- Standard PCA ---\")\n",
    "print(\"Eigenvalues (C):\")\n",
    "print(eigvals_C)\n",
    "print(\"First 4 eigenvectors (C):\")\n",
    "print(eigvecs_C[:, :4])\n",
    "\n",
    "# === Approach 2: Efficient PCA (when d > n) ===\n",
    "K = (1 / X_centered.shape[1]) * X_centered.T @ X_centered  # Inner product matrix\n",
    "eigvals_K, eigvecs_K = np.linalg.eigh(K)\n",
    "eigvals_K = eigvals_K[::-1]\n",
    "eigvecs_K = eigvecs_K[:, ::-1]\n",
    "\n",
    "# Recover eigenvectors of C\n",
    "eigvecs_from_K = (X_centered @ eigvecs_K) / np.sqrt(eigvals_K)\n",
    "\n",
    "# Normalize eigenvectors\n",
    "eigvecs_from_K /= np.linalg.norm(eigvecs_from_K, axis=0)\n",
    "\n",
    "print(\"\\n--- Efficient PCA via dual trick ---\")\n",
    "print(\"Eigenvalues (from K):\")\n",
    "print(eigvals_K)\n",
    "print(\"Recovered eigenvectors (of C):\")\n",
    "print(eigvecs_from_K)\n",
    "\n",
    "# === Comparison ===\n",
    "print(\"\\n--- Comparison ---\")\n",
    "print(\"Difference in eigenvalues:\")\n",
    "print(np.abs(eigvals_C[:4] - eigvals_K))\n",
    "print(\"Cosine similarity of each eigenvector column:\")\n",
    "cos_sim = np.sum(eigvecs_C[:, :4] * eigvecs_from_K, axis=0)\n",
    "print(np.abs(cos_sim))  # Close to 1 means match up to sign"
   ]
  }
 ],
 "metadata": {
  "kernelspec": {
   "display_name": "Python 3",
   "language": "python",
   "name": "python3"
  },
  "language_info": {
   "codemirror_mode": {
    "name": "ipython",
    "version": 3
   },
   "file_extension": ".py",
   "mimetype": "text/x-python",
   "name": "python",
   "nbconvert_exporter": "python",
   "pygments_lexer": "ipython3",
   "version": "3.13.3"
  }
 },
 "nbformat": 4,
 "nbformat_minor": 5
}

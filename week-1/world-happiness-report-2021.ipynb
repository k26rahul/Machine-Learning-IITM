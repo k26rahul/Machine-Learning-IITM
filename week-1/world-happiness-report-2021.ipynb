{
 "cells": [
  {
   "cell_type": "code",
   "execution_count": 31,
   "id": "adc4f79d",
   "metadata": {},
   "outputs": [],
   "source": [
    "import pandas as pd\n",
    "import numpy as np\n",
    "import matplotlib.pyplot as plt\n",
    "import seaborn as sns\n",
    "import plotly.express as px\n",
    "\n",
    "np.set_printoptions(precision=4, suppress=True)"
   ]
  },
  {
   "cell_type": "code",
   "execution_count": 32,
   "id": "0c19059c",
   "metadata": {},
   "outputs": [
    {
     "data": {
      "text/html": [
       "<div>\n",
       "<style scoped>\n",
       "    .dataframe tbody tr th:only-of-type {\n",
       "        vertical-align: middle;\n",
       "    }\n",
       "\n",
       "    .dataframe tbody tr th {\n",
       "        vertical-align: top;\n",
       "    }\n",
       "\n",
       "    .dataframe thead th {\n",
       "        text-align: right;\n",
       "    }\n",
       "</style>\n",
       "<table border=\"1\" class=\"dataframe\">\n",
       "  <thead>\n",
       "    <tr style=\"text-align: right;\">\n",
       "      <th></th>\n",
       "      <th>Happiness</th>\n",
       "      <th>GDP</th>\n",
       "      <th>Social</th>\n",
       "      <th>Life</th>\n",
       "      <th>Freedom</th>\n",
       "      <th>Generosity</th>\n",
       "      <th>Corruption</th>\n",
       "    </tr>\n",
       "    <tr>\n",
       "      <th>Country</th>\n",
       "      <th></th>\n",
       "      <th></th>\n",
       "      <th></th>\n",
       "      <th></th>\n",
       "      <th></th>\n",
       "      <th></th>\n",
       "      <th></th>\n",
       "    </tr>\n",
       "  </thead>\n",
       "  <tbody>\n",
       "    <tr>\n",
       "      <th>Finland</th>\n",
       "      <td>7.842</td>\n",
       "      <td>10.775</td>\n",
       "      <td>0.954</td>\n",
       "      <td>72.000</td>\n",
       "      <td>0.949</td>\n",
       "      <td>-0.098</td>\n",
       "      <td>0.186</td>\n",
       "    </tr>\n",
       "    <tr>\n",
       "      <th>Denmark</th>\n",
       "      <td>7.620</td>\n",
       "      <td>10.933</td>\n",
       "      <td>0.954</td>\n",
       "      <td>72.700</td>\n",
       "      <td>0.946</td>\n",
       "      <td>0.030</td>\n",
       "      <td>0.179</td>\n",
       "    </tr>\n",
       "    <tr>\n",
       "      <th>Switzerland</th>\n",
       "      <td>7.571</td>\n",
       "      <td>11.117</td>\n",
       "      <td>0.942</td>\n",
       "      <td>74.400</td>\n",
       "      <td>0.919</td>\n",
       "      <td>0.025</td>\n",
       "      <td>0.292</td>\n",
       "    </tr>\n",
       "    <tr>\n",
       "      <th>Iceland</th>\n",
       "      <td>7.554</td>\n",
       "      <td>10.878</td>\n",
       "      <td>0.983</td>\n",
       "      <td>73.000</td>\n",
       "      <td>0.955</td>\n",
       "      <td>0.160</td>\n",
       "      <td>0.673</td>\n",
       "    </tr>\n",
       "    <tr>\n",
       "      <th>Netherlands</th>\n",
       "      <td>7.464</td>\n",
       "      <td>10.932</td>\n",
       "      <td>0.942</td>\n",
       "      <td>72.400</td>\n",
       "      <td>0.913</td>\n",
       "      <td>0.175</td>\n",
       "      <td>0.338</td>\n",
       "    </tr>\n",
       "    <tr>\n",
       "      <th>...</th>\n",
       "      <td>...</td>\n",
       "      <td>...</td>\n",
       "      <td>...</td>\n",
       "      <td>...</td>\n",
       "      <td>...</td>\n",
       "      <td>...</td>\n",
       "      <td>...</td>\n",
       "    </tr>\n",
       "    <tr>\n",
       "      <th>Lesotho</th>\n",
       "      <td>3.512</td>\n",
       "      <td>7.926</td>\n",
       "      <td>0.787</td>\n",
       "      <td>48.700</td>\n",
       "      <td>0.715</td>\n",
       "      <td>-0.131</td>\n",
       "      <td>0.915</td>\n",
       "    </tr>\n",
       "    <tr>\n",
       "      <th>Botswana</th>\n",
       "      <td>3.467</td>\n",
       "      <td>9.782</td>\n",
       "      <td>0.784</td>\n",
       "      <td>59.269</td>\n",
       "      <td>0.824</td>\n",
       "      <td>-0.246</td>\n",
       "      <td>0.801</td>\n",
       "    </tr>\n",
       "    <tr>\n",
       "      <th>Rwanda</th>\n",
       "      <td>3.415</td>\n",
       "      <td>7.676</td>\n",
       "      <td>0.552</td>\n",
       "      <td>61.400</td>\n",
       "      <td>0.897</td>\n",
       "      <td>0.061</td>\n",
       "      <td>0.167</td>\n",
       "    </tr>\n",
       "    <tr>\n",
       "      <th>Zimbabwe</th>\n",
       "      <td>3.145</td>\n",
       "      <td>7.943</td>\n",
       "      <td>0.750</td>\n",
       "      <td>56.201</td>\n",
       "      <td>0.677</td>\n",
       "      <td>-0.047</td>\n",
       "      <td>0.821</td>\n",
       "    </tr>\n",
       "    <tr>\n",
       "      <th>Afghanistan</th>\n",
       "      <td>2.523</td>\n",
       "      <td>7.695</td>\n",
       "      <td>0.463</td>\n",
       "      <td>52.493</td>\n",
       "      <td>0.382</td>\n",
       "      <td>-0.102</td>\n",
       "      <td>0.924</td>\n",
       "    </tr>\n",
       "  </tbody>\n",
       "</table>\n",
       "<p>149 rows × 7 columns</p>\n",
       "</div>"
      ],
      "text/plain": [
       "             Happiness     GDP  Social    Life  Freedom  Generosity  \\\n",
       "Country                                                               \n",
       "Finland          7.842  10.775   0.954  72.000    0.949      -0.098   \n",
       "Denmark          7.620  10.933   0.954  72.700    0.946       0.030   \n",
       "Switzerland      7.571  11.117   0.942  74.400    0.919       0.025   \n",
       "Iceland          7.554  10.878   0.983  73.000    0.955       0.160   \n",
       "Netherlands      7.464  10.932   0.942  72.400    0.913       0.175   \n",
       "...                ...     ...     ...     ...      ...         ...   \n",
       "Lesotho          3.512   7.926   0.787  48.700    0.715      -0.131   \n",
       "Botswana         3.467   9.782   0.784  59.269    0.824      -0.246   \n",
       "Rwanda           3.415   7.676   0.552  61.400    0.897       0.061   \n",
       "Zimbabwe         3.145   7.943   0.750  56.201    0.677      -0.047   \n",
       "Afghanistan      2.523   7.695   0.463  52.493    0.382      -0.102   \n",
       "\n",
       "             Corruption  \n",
       "Country                  \n",
       "Finland           0.186  \n",
       "Denmark           0.179  \n",
       "Switzerland       0.292  \n",
       "Iceland           0.673  \n",
       "Netherlands       0.338  \n",
       "...                 ...  \n",
       "Lesotho           0.915  \n",
       "Botswana          0.801  \n",
       "Rwanda            0.167  \n",
       "Zimbabwe          0.821  \n",
       "Afghanistan       0.924  \n",
       "\n",
       "[149 rows x 7 columns]"
      ]
     },
     "execution_count": 32,
     "metadata": {},
     "output_type": "execute_result"
    }
   ],
   "source": [
    "df = pd.read_csv('world-happiness-report-2021.csv')\n",
    "\n",
    "df = df[['Country name', 'Ladder score',\n",
    "         'Logged GDP per capita', 'Social support',\n",
    "         'Healthy life expectancy', 'Freedom to make life choices',\n",
    "         'Generosity', 'Perceptions of corruption']]\n",
    "\n",
    "df = df.rename(columns={\n",
    "    'Country name': 'Country',\n",
    "    'Ladder score': 'Happiness',\n",
    "    'Logged GDP per capita': 'GDP',\n",
    "    'Social support': 'Social',\n",
    "    'Healthy life expectancy': 'Life',\n",
    "    'Freedom to make life choices': 'Freedom',\n",
    "    'Perceptions of corruption': 'Corruption'\n",
    "})\n",
    "\n",
    "df = df.set_index('Country')\n",
    "df"
   ]
  },
  {
   "cell_type": "code",
   "execution_count": 33,
   "id": "69fb0fde",
   "metadata": {},
   "outputs": [
    {
     "data": {
      "text/html": [
       "<div>\n",
       "<style scoped>\n",
       "    .dataframe tbody tr th:only-of-type {\n",
       "        vertical-align: middle;\n",
       "    }\n",
       "\n",
       "    .dataframe tbody tr th {\n",
       "        vertical-align: top;\n",
       "    }\n",
       "\n",
       "    .dataframe thead th {\n",
       "        text-align: right;\n",
       "    }\n",
       "</style>\n",
       "<table border=\"1\" class=\"dataframe\">\n",
       "  <thead>\n",
       "    <tr style=\"text-align: right;\">\n",
       "      <th></th>\n",
       "      <th>Happiness</th>\n",
       "      <th>GDP</th>\n",
       "      <th>Social</th>\n",
       "      <th>Life</th>\n",
       "      <th>Freedom</th>\n",
       "      <th>Generosity</th>\n",
       "      <th>Corruption</th>\n",
       "    </tr>\n",
       "    <tr>\n",
       "      <th>Country</th>\n",
       "      <th></th>\n",
       "      <th></th>\n",
       "      <th></th>\n",
       "      <th></th>\n",
       "      <th></th>\n",
       "      <th></th>\n",
       "      <th></th>\n",
       "    </tr>\n",
       "  </thead>\n",
       "  <tbody>\n",
       "    <tr>\n",
       "      <th>Finland</th>\n",
       "      <td>2.309161</td>\n",
       "      <td>1.342792</td>\n",
       "      <td>0.139255</td>\n",
       "      <td>7.007201</td>\n",
       "      <td>0.157403</td>\n",
       "      <td>-0.082866</td>\n",
       "      <td>-0.54145</td>\n",
       "    </tr>\n",
       "    <tr>\n",
       "      <th>Denmark</th>\n",
       "      <td>2.087161</td>\n",
       "      <td>1.500792</td>\n",
       "      <td>0.139255</td>\n",
       "      <td>7.707201</td>\n",
       "      <td>0.154403</td>\n",
       "      <td>0.045134</td>\n",
       "      <td>-0.54845</td>\n",
       "    </tr>\n",
       "    <tr>\n",
       "      <th>Switzerland</th>\n",
       "      <td>2.038161</td>\n",
       "      <td>1.684792</td>\n",
       "      <td>0.127255</td>\n",
       "      <td>9.407201</td>\n",
       "      <td>0.127403</td>\n",
       "      <td>0.040134</td>\n",
       "      <td>-0.43545</td>\n",
       "    </tr>\n",
       "    <tr>\n",
       "      <th>Iceland</th>\n",
       "      <td>2.021161</td>\n",
       "      <td>1.445792</td>\n",
       "      <td>0.168255</td>\n",
       "      <td>8.007201</td>\n",
       "      <td>0.163403</td>\n",
       "      <td>0.175134</td>\n",
       "      <td>-0.05445</td>\n",
       "    </tr>\n",
       "    <tr>\n",
       "      <th>Netherlands</th>\n",
       "      <td>1.931161</td>\n",
       "      <td>1.499792</td>\n",
       "      <td>0.127255</td>\n",
       "      <td>7.407201</td>\n",
       "      <td>0.121403</td>\n",
       "      <td>0.190134</td>\n",
       "      <td>-0.38945</td>\n",
       "    </tr>\n",
       "    <tr>\n",
       "      <th>...</th>\n",
       "      <td>...</td>\n",
       "      <td>...</td>\n",
       "      <td>...</td>\n",
       "      <td>...</td>\n",
       "      <td>...</td>\n",
       "      <td>...</td>\n",
       "      <td>...</td>\n",
       "    </tr>\n",
       "    <tr>\n",
       "      <th>Lesotho</th>\n",
       "      <td>-2.020839</td>\n",
       "      <td>-1.506208</td>\n",
       "      <td>-0.027745</td>\n",
       "      <td>-16.292799</td>\n",
       "      <td>-0.076597</td>\n",
       "      <td>-0.115866</td>\n",
       "      <td>0.18755</td>\n",
       "    </tr>\n",
       "    <tr>\n",
       "      <th>Botswana</th>\n",
       "      <td>-2.065839</td>\n",
       "      <td>0.349792</td>\n",
       "      <td>-0.030745</td>\n",
       "      <td>-5.723799</td>\n",
       "      <td>0.032403</td>\n",
       "      <td>-0.230866</td>\n",
       "      <td>0.07355</td>\n",
       "    </tr>\n",
       "    <tr>\n",
       "      <th>Rwanda</th>\n",
       "      <td>-2.117839</td>\n",
       "      <td>-1.756208</td>\n",
       "      <td>-0.262745</td>\n",
       "      <td>-3.592799</td>\n",
       "      <td>0.105403</td>\n",
       "      <td>0.076134</td>\n",
       "      <td>-0.56045</td>\n",
       "    </tr>\n",
       "    <tr>\n",
       "      <th>Zimbabwe</th>\n",
       "      <td>-2.387839</td>\n",
       "      <td>-1.489208</td>\n",
       "      <td>-0.064745</td>\n",
       "      <td>-8.791799</td>\n",
       "      <td>-0.114597</td>\n",
       "      <td>-0.031866</td>\n",
       "      <td>0.09355</td>\n",
       "    </tr>\n",
       "    <tr>\n",
       "      <th>Afghanistan</th>\n",
       "      <td>-3.009839</td>\n",
       "      <td>-1.737208</td>\n",
       "      <td>-0.351745</td>\n",
       "      <td>-12.499799</td>\n",
       "      <td>-0.409597</td>\n",
       "      <td>-0.086866</td>\n",
       "      <td>0.19655</td>\n",
       "    </tr>\n",
       "  </tbody>\n",
       "</table>\n",
       "<p>149 rows × 7 columns</p>\n",
       "</div>"
      ],
      "text/plain": [
       "             Happiness       GDP    Social       Life   Freedom  Generosity  \\\n",
       "Country                                                                       \n",
       "Finland       2.309161  1.342792  0.139255   7.007201  0.157403   -0.082866   \n",
       "Denmark       2.087161  1.500792  0.139255   7.707201  0.154403    0.045134   \n",
       "Switzerland   2.038161  1.684792  0.127255   9.407201  0.127403    0.040134   \n",
       "Iceland       2.021161  1.445792  0.168255   8.007201  0.163403    0.175134   \n",
       "Netherlands   1.931161  1.499792  0.127255   7.407201  0.121403    0.190134   \n",
       "...                ...       ...       ...        ...       ...         ...   \n",
       "Lesotho      -2.020839 -1.506208 -0.027745 -16.292799 -0.076597   -0.115866   \n",
       "Botswana     -2.065839  0.349792 -0.030745  -5.723799  0.032403   -0.230866   \n",
       "Rwanda       -2.117839 -1.756208 -0.262745  -3.592799  0.105403    0.076134   \n",
       "Zimbabwe     -2.387839 -1.489208 -0.064745  -8.791799 -0.114597   -0.031866   \n",
       "Afghanistan  -3.009839 -1.737208 -0.351745 -12.499799 -0.409597   -0.086866   \n",
       "\n",
       "             Corruption  \n",
       "Country                  \n",
       "Finland        -0.54145  \n",
       "Denmark        -0.54845  \n",
       "Switzerland    -0.43545  \n",
       "Iceland        -0.05445  \n",
       "Netherlands    -0.38945  \n",
       "...                 ...  \n",
       "Lesotho         0.18755  \n",
       "Botswana        0.07355  \n",
       "Rwanda         -0.56045  \n",
       "Zimbabwe        0.09355  \n",
       "Afghanistan     0.19655  \n",
       "\n",
       "[149 rows x 7 columns]"
      ]
     },
     "execution_count": 33,
     "metadata": {},
     "output_type": "execute_result"
    }
   ],
   "source": [
    "# Centering the data\n",
    "df = df - df.mean()\n",
    "df"
   ]
  },
  {
   "cell_type": "markdown",
   "id": "588c9140",
   "metadata": {},
   "source": [
    "# PCA"
   ]
  },
  {
   "cell_type": "code",
   "execution_count": 34,
   "id": "93efa08a",
   "metadata": {},
   "outputs": [
    {
     "data": {
      "text/plain": [
       "(7, 149)"
      ]
     },
     "execution_count": 34,
     "metadata": {},
     "output_type": "execute_result"
    }
   ],
   "source": [
    "X = df.values.T  # d * n matrix\n",
    "X.shape"
   ]
  },
  {
   "cell_type": "code",
   "execution_count": 35,
   "id": "53454233",
   "metadata": {},
   "outputs": [
    {
     "data": {
      "text/plain": [
       "(7, 7)"
      ]
     },
     "execution_count": 35,
     "metadata": {},
     "output_type": "execute_result"
    }
   ],
   "source": [
    "n = X.shape[1]\n",
    "C = X @ X.T / n\n",
    "C.shape"
   ]
  },
  {
   "cell_type": "code",
   "execution_count": 36,
   "id": "16596fb4",
   "metadata": {},
   "outputs": [
    {
     "data": {
      "text/plain": [
       "array([47.1136,  0.5655,  0.2401,  0.0294,  0.0178,  0.0074,  0.0038])"
      ]
     },
     "execution_count": 36,
     "metadata": {},
     "output_type": "execute_result"
    },
    {
     "data": {
      "text/plain": [
       "array([[-0.1215, -0.1461, -0.0122, -0.9816, -0.0077,  0.0035,  0.0096],\n",
       "       [ 0.817 ,  0.5398,  0.0547, -0.1829,  0.0488,  0.0169, -0.0457],\n",
       "       [-0.5503,  0.825 ,  0.0174, -0.0542, -0.0594, -0.085 ,  0.051 ],\n",
       "       [ 0.096 , -0.0514,  0.0855,  0.0025, -0.1617, -0.4809,  0.8505],\n",
       "       [-0.0288,  0.0429,  0.0896,  0.0033,  0.0891,  0.8564,  0.498 ],\n",
       "       [ 0.0651,  0.0017, -0.2433,  0.0021, -0.9508,  0.1667, -0.0693],\n",
       "       [-0.0275, -0.0466,  0.9602, -0.0011, -0.2366,  0.0058, -0.1379]])"
      ]
     },
     "execution_count": 36,
     "metadata": {},
     "output_type": "execute_result"
    }
   ],
   "source": [
    "eigenvalues, eigenvectors = np.linalg.eig(C)\n",
    "eigenvectors = eigenvectors.T\n",
    "\n",
    "eigenvalues\n",
    "eigenvectors"
   ]
  },
  {
   "cell_type": "code",
   "execution_count": 37,
   "id": "ab796db2",
   "metadata": {},
   "outputs": [
    {
     "data": {
      "text/plain": [
       "array([0.982 , 0.9938, 0.9988, 0.9994, 0.9998, 0.9999, 1.    ])"
      ]
     },
     "execution_count": 37,
     "metadata": {},
     "output_type": "execute_result"
    }
   ],
   "source": [
    "np.cumsum(eigenvalues) / sum(eigenvalues)"
   ]
  },
  {
   "cell_type": "markdown",
   "id": "4e105cb6",
   "metadata": {},
   "source": [
    "# dimensionality reduction using PCA"
   ]
  },
  {
   "cell_type": "code",
   "execution_count": 38,
   "id": "d4769518",
   "metadata": {},
   "outputs": [],
   "source": [
    "W = eigenvectors[:2]"
   ]
  },
  {
   "cell_type": "code",
   "execution_count": 39,
   "id": "0abe589e",
   "metadata": {},
   "outputs": [
    {
     "data": {
      "text/plain": [
       "((2, 7), (7, 149))"
      ]
     },
     "execution_count": 39,
     "metadata": {},
     "output_type": "execute_result"
    },
    {
     "data": {
      "text/plain": [
       "(2, 149)"
      ]
     },
     "execution_count": 39,
     "metadata": {},
     "output_type": "execute_result"
    }
   ],
   "source": [
    "W.shape, X.shape\n",
    "coefficients = W @ X\n",
    "coefficients.shape"
   ]
  },
  {
   "cell_type": "code",
   "execution_count": 40,
   "id": "abb8fc07",
   "metadata": {},
   "outputs": [
    {
     "data": {
      "text/plain": [
       "((7, 2), (2, 149))"
      ]
     },
     "execution_count": 40,
     "metadata": {},
     "output_type": "execute_result"
    },
    {
     "data": {
      "text/plain": [
       "(7, 149)"
      ]
     },
     "execution_count": 40,
     "metadata": {},
     "output_type": "execute_result"
    }
   ],
   "source": [
    "W.T.shape, coefficients.shape\n",
    "X_new = W.T @ coefficients\n",
    "X_new.shape"
   ]
  },
  {
   "cell_type": "code",
   "execution_count": 41,
   "id": "1bbb73da",
   "metadata": {},
   "outputs": [
    {
     "data": {
      "text/plain": [
       "np.float64(0.042643510026191274)"
      ]
     },
     "execution_count": 41,
     "metadata": {},
     "output_type": "execute_result"
    }
   ],
   "source": [
    "np.mean((X - X_new)**2)"
   ]
  },
  {
   "cell_type": "code",
   "execution_count": 42,
   "id": "75688c3b",
   "metadata": {},
   "outputs": [
    {
     "data": {
      "text/html": [
       "<div>\n",
       "<style scoped>\n",
       "    .dataframe tbody tr th:only-of-type {\n",
       "        vertical-align: middle;\n",
       "    }\n",
       "\n",
       "    .dataframe tbody tr th {\n",
       "        vertical-align: top;\n",
       "    }\n",
       "\n",
       "    .dataframe thead th {\n",
       "        text-align: right;\n",
       "    }\n",
       "</style>\n",
       "<table border=\"1\" class=\"dataframe\">\n",
       "  <thead>\n",
       "    <tr style=\"text-align: right;\">\n",
       "      <th></th>\n",
       "      <th>Happiness</th>\n",
       "      <th>GDP</th>\n",
       "      <th>Social</th>\n",
       "      <th>Life</th>\n",
       "      <th>Freedom</th>\n",
       "      <th>Generosity</th>\n",
       "      <th>Corruption</th>\n",
       "    </tr>\n",
       "    <tr>\n",
       "      <th>Country</th>\n",
       "      <th></th>\n",
       "      <th></th>\n",
       "      <th></th>\n",
       "      <th></th>\n",
       "      <th></th>\n",
       "      <th></th>\n",
       "      <th></th>\n",
       "    </tr>\n",
       "  </thead>\n",
       "  <tbody>\n",
       "    <tr>\n",
       "      <th>Finland</th>\n",
       "      <td>2.309161</td>\n",
       "      <td>1.342792</td>\n",
       "      <td>0.139255</td>\n",
       "      <td>7.007201</td>\n",
       "      <td>0.157403</td>\n",
       "      <td>-0.082866</td>\n",
       "      <td>-0.54145</td>\n",
       "    </tr>\n",
       "    <tr>\n",
       "      <th>Denmark</th>\n",
       "      <td>2.087161</td>\n",
       "      <td>1.500792</td>\n",
       "      <td>0.139255</td>\n",
       "      <td>7.707201</td>\n",
       "      <td>0.154403</td>\n",
       "      <td>0.045134</td>\n",
       "      <td>-0.54845</td>\n",
       "    </tr>\n",
       "    <tr>\n",
       "      <th>Switzerland</th>\n",
       "      <td>2.038161</td>\n",
       "      <td>1.684792</td>\n",
       "      <td>0.127255</td>\n",
       "      <td>9.407201</td>\n",
       "      <td>0.127403</td>\n",
       "      <td>0.040134</td>\n",
       "      <td>-0.43545</td>\n",
       "    </tr>\n",
       "    <tr>\n",
       "      <th>Iceland</th>\n",
       "      <td>2.021161</td>\n",
       "      <td>1.445792</td>\n",
       "      <td>0.168255</td>\n",
       "      <td>8.007201</td>\n",
       "      <td>0.163403</td>\n",
       "      <td>0.175134</td>\n",
       "      <td>-0.05445</td>\n",
       "    </tr>\n",
       "    <tr>\n",
       "      <th>Netherlands</th>\n",
       "      <td>1.931161</td>\n",
       "      <td>1.499792</td>\n",
       "      <td>0.127255</td>\n",
       "      <td>7.407201</td>\n",
       "      <td>0.121403</td>\n",
       "      <td>0.190134</td>\n",
       "      <td>-0.38945</td>\n",
       "    </tr>\n",
       "    <tr>\n",
       "      <th>...</th>\n",
       "      <td>...</td>\n",
       "      <td>...</td>\n",
       "      <td>...</td>\n",
       "      <td>...</td>\n",
       "      <td>...</td>\n",
       "      <td>...</td>\n",
       "      <td>...</td>\n",
       "    </tr>\n",
       "    <tr>\n",
       "      <th>Lesotho</th>\n",
       "      <td>-2.020839</td>\n",
       "      <td>-1.506208</td>\n",
       "      <td>-0.027745</td>\n",
       "      <td>-16.292799</td>\n",
       "      <td>-0.076597</td>\n",
       "      <td>-0.115866</td>\n",
       "      <td>0.18755</td>\n",
       "    </tr>\n",
       "    <tr>\n",
       "      <th>Botswana</th>\n",
       "      <td>-2.065839</td>\n",
       "      <td>0.349792</td>\n",
       "      <td>-0.030745</td>\n",
       "      <td>-5.723799</td>\n",
       "      <td>0.032403</td>\n",
       "      <td>-0.230866</td>\n",
       "      <td>0.07355</td>\n",
       "    </tr>\n",
       "    <tr>\n",
       "      <th>Rwanda</th>\n",
       "      <td>-2.117839</td>\n",
       "      <td>-1.756208</td>\n",
       "      <td>-0.262745</td>\n",
       "      <td>-3.592799</td>\n",
       "      <td>0.105403</td>\n",
       "      <td>0.076134</td>\n",
       "      <td>-0.56045</td>\n",
       "    </tr>\n",
       "    <tr>\n",
       "      <th>Zimbabwe</th>\n",
       "      <td>-2.387839</td>\n",
       "      <td>-1.489208</td>\n",
       "      <td>-0.064745</td>\n",
       "      <td>-8.791799</td>\n",
       "      <td>-0.114597</td>\n",
       "      <td>-0.031866</td>\n",
       "      <td>0.09355</td>\n",
       "    </tr>\n",
       "    <tr>\n",
       "      <th>Afghanistan</th>\n",
       "      <td>-3.009839</td>\n",
       "      <td>-1.737208</td>\n",
       "      <td>-0.351745</td>\n",
       "      <td>-12.499799</td>\n",
       "      <td>-0.409597</td>\n",
       "      <td>-0.086866</td>\n",
       "      <td>0.19655</td>\n",
       "    </tr>\n",
       "  </tbody>\n",
       "</table>\n",
       "<p>149 rows × 7 columns</p>\n",
       "</div>"
      ],
      "text/plain": [
       "             Happiness       GDP    Social       Life   Freedom  Generosity  \\\n",
       "Country                                                                       \n",
       "Finland       2.309161  1.342792  0.139255   7.007201  0.157403   -0.082866   \n",
       "Denmark       2.087161  1.500792  0.139255   7.707201  0.154403    0.045134   \n",
       "Switzerland   2.038161  1.684792  0.127255   9.407201  0.127403    0.040134   \n",
       "Iceland       2.021161  1.445792  0.168255   8.007201  0.163403    0.175134   \n",
       "Netherlands   1.931161  1.499792  0.127255   7.407201  0.121403    0.190134   \n",
       "...                ...       ...       ...        ...       ...         ...   \n",
       "Lesotho      -2.020839 -1.506208 -0.027745 -16.292799 -0.076597   -0.115866   \n",
       "Botswana     -2.065839  0.349792 -0.030745  -5.723799  0.032403   -0.230866   \n",
       "Rwanda       -2.117839 -1.756208 -0.262745  -3.592799  0.105403    0.076134   \n",
       "Zimbabwe     -2.387839 -1.489208 -0.064745  -8.791799 -0.114597   -0.031866   \n",
       "Afghanistan  -3.009839 -1.737208 -0.351745 -12.499799 -0.409597   -0.086866   \n",
       "\n",
       "             Corruption  \n",
       "Country                  \n",
       "Finland        -0.54145  \n",
       "Denmark        -0.54845  \n",
       "Switzerland    -0.43545  \n",
       "Iceland        -0.05445  \n",
       "Netherlands    -0.38945  \n",
       "...                 ...  \n",
       "Lesotho         0.18755  \n",
       "Botswana        0.07355  \n",
       "Rwanda         -0.56045  \n",
       "Zimbabwe        0.09355  \n",
       "Afghanistan     0.19655  \n",
       "\n",
       "[149 rows x 7 columns]"
      ]
     },
     "execution_count": 42,
     "metadata": {},
     "output_type": "execute_result"
    },
    {
     "data": {
      "text/html": [
       "<div>\n",
       "<style scoped>\n",
       "    .dataframe tbody tr th:only-of-type {\n",
       "        vertical-align: middle;\n",
       "    }\n",
       "\n",
       "    .dataframe tbody tr th {\n",
       "        vertical-align: top;\n",
       "    }\n",
       "\n",
       "    .dataframe thead th {\n",
       "        text-align: right;\n",
       "    }\n",
       "</style>\n",
       "<table border=\"1\" class=\"dataframe\">\n",
       "  <thead>\n",
       "    <tr style=\"text-align: right;\">\n",
       "      <th></th>\n",
       "      <th>Happiness</th>\n",
       "      <th>GDP</th>\n",
       "      <th>Social</th>\n",
       "      <th>Life</th>\n",
       "      <th>Freedom</th>\n",
       "      <th>Generosity</th>\n",
       "      <th>Corruption</th>\n",
       "    </tr>\n",
       "    <tr>\n",
       "      <th>Country</th>\n",
       "      <th></th>\n",
       "      <th></th>\n",
       "      <th></th>\n",
       "      <th></th>\n",
       "      <th></th>\n",
       "      <th></th>\n",
       "      <th></th>\n",
       "    </tr>\n",
       "  </thead>\n",
       "  <tbody>\n",
       "    <tr>\n",
       "      <th>Finland</th>\n",
       "      <td>2.012591</td>\n",
       "      <td>1.814292</td>\n",
       "      <td>0.164718</td>\n",
       "      <td>6.977966</td>\n",
       "      <td>0.123442</td>\n",
       "      <td>-0.002833</td>\n",
       "      <td>-0.133047</td>\n",
       "    </tr>\n",
       "    <tr>\n",
       "      <th>Denmark</th>\n",
       "      <td>1.914383</td>\n",
       "      <td>1.794330</td>\n",
       "      <td>0.160907</td>\n",
       "      <td>7.688816</td>\n",
       "      <td>0.117865</td>\n",
       "      <td>-0.008987</td>\n",
       "      <td>-0.129451</td>\n",
       "    </tr>\n",
       "    <tr>\n",
       "      <th>Switzerland</th>\n",
       "      <td>1.908038</td>\n",
       "      <td>1.901219</td>\n",
       "      <td>0.167330</td>\n",
       "      <td>9.393404</td>\n",
       "      <td>0.118211</td>\n",
       "      <td>-0.019312</td>\n",
       "      <td>-0.133789</td>\n",
       "    </tr>\n",
       "    <tr>\n",
       "      <th>Iceland</th>\n",
       "      <td>1.819512</td>\n",
       "      <td>1.749652</td>\n",
       "      <td>0.155661</td>\n",
       "      <td>7.986138</td>\n",
       "      <td>0.112313</td>\n",
       "      <td>-0.012602</td>\n",
       "      <td>-0.124905</td>\n",
       "    </tr>\n",
       "    <tr>\n",
       "      <th>Netherlands</th>\n",
       "      <td>1.810466</td>\n",
       "      <td>1.704875</td>\n",
       "      <td>0.152663</td>\n",
       "      <td>7.393269</td>\n",
       "      <td>0.111519</td>\n",
       "      <td>-0.009228</td>\n",
       "      <td>-0.122760</td>\n",
       "    </tr>\n",
       "    <tr>\n",
       "      <th>...</th>\n",
       "      <td>...</td>\n",
       "      <td>...</td>\n",
       "      <td>...</td>\n",
       "      <td>...</td>\n",
       "      <td>...</td>\n",
       "      <td>...</td>\n",
       "      <td>...</td>\n",
       "    </tr>\n",
       "    <tr>\n",
       "      <th>Lesotho</th>\n",
       "      <td>-1.591508</td>\n",
       "      <td>-2.134661</td>\n",
       "      <td>-0.173406</td>\n",
       "      <td>-16.250268</td>\n",
       "      <td>-0.102180</td>\n",
       "      <td>0.066476</td>\n",
       "      <td>0.134778</td>\n",
       "    </tr>\n",
       "    <tr>\n",
       "      <th>Botswana</th>\n",
       "      <td>-1.082264</td>\n",
       "      <td>-1.097933</td>\n",
       "      <td>-0.096116</td>\n",
       "      <td>-5.627605</td>\n",
       "      <td>-0.067178</td>\n",
       "      <td>0.012747</td>\n",
       "      <td>0.076712</td>\n",
       "    </tr>\n",
       "    <tr>\n",
       "      <th>Rwanda</th>\n",
       "      <td>-2.127309</td>\n",
       "      <td>-1.671279</td>\n",
       "      <td>-0.158915</td>\n",
       "      <td>-3.597326</td>\n",
       "      <td>-0.128870</td>\n",
       "      <td>-0.019620</td>\n",
       "      <td>0.130221</td>\n",
       "    </tr>\n",
       "    <tr>\n",
       "      <th>Zimbabwe</th>\n",
       "      <td>-2.058729</td>\n",
       "      <td>-1.961685</td>\n",
       "      <td>-0.175016</td>\n",
       "      <td>-8.760139</td>\n",
       "      <td>-0.126962</td>\n",
       "      <td>0.012607</td>\n",
       "      <td>0.140566</td>\n",
       "    </tr>\n",
       "    <tr>\n",
       "      <th>Afghanistan</th>\n",
       "      <td>-2.515025</td>\n",
       "      <td>-2.510455</td>\n",
       "      <td>-0.220833</td>\n",
       "      <td>-12.449382</td>\n",
       "      <td>-0.155845</td>\n",
       "      <td>0.025861</td>\n",
       "      <td>0.176536</td>\n",
       "    </tr>\n",
       "  </tbody>\n",
       "</table>\n",
       "<p>149 rows × 7 columns</p>\n",
       "</div>"
      ],
      "text/plain": [
       "             Happiness       GDP    Social       Life   Freedom  Generosity  \\\n",
       "Country                                                                       \n",
       "Finland       2.012591  1.814292  0.164718   6.977966  0.123442   -0.002833   \n",
       "Denmark       1.914383  1.794330  0.160907   7.688816  0.117865   -0.008987   \n",
       "Switzerland   1.908038  1.901219  0.167330   9.393404  0.118211   -0.019312   \n",
       "Iceland       1.819512  1.749652  0.155661   7.986138  0.112313   -0.012602   \n",
       "Netherlands   1.810466  1.704875  0.152663   7.393269  0.111519   -0.009228   \n",
       "...                ...       ...       ...        ...       ...         ...   \n",
       "Lesotho      -1.591508 -2.134661 -0.173406 -16.250268 -0.102180    0.066476   \n",
       "Botswana     -1.082264 -1.097933 -0.096116  -5.627605 -0.067178    0.012747   \n",
       "Rwanda       -2.127309 -1.671279 -0.158915  -3.597326 -0.128870   -0.019620   \n",
       "Zimbabwe     -2.058729 -1.961685 -0.175016  -8.760139 -0.126962    0.012607   \n",
       "Afghanistan  -2.515025 -2.510455 -0.220833 -12.449382 -0.155845    0.025861   \n",
       "\n",
       "             Corruption  \n",
       "Country                  \n",
       "Finland       -0.133047  \n",
       "Denmark       -0.129451  \n",
       "Switzerland   -0.133789  \n",
       "Iceland       -0.124905  \n",
       "Netherlands   -0.122760  \n",
       "...                 ...  \n",
       "Lesotho        0.134778  \n",
       "Botswana       0.076712  \n",
       "Rwanda         0.130221  \n",
       "Zimbabwe       0.140566  \n",
       "Afghanistan    0.176536  \n",
       "\n",
       "[149 rows x 7 columns]"
      ]
     },
     "execution_count": 42,
     "metadata": {},
     "output_type": "execute_result"
    }
   ],
   "source": [
    "df_new = pd.DataFrame(X_new.T, columns=df.columns, index=df.index)\n",
    "df\n",
    "df_new"
   ]
  },
  {
   "cell_type": "code",
   "execution_count": 43,
   "id": "549ef9af",
   "metadata": {},
   "outputs": [
    {
     "data": {
      "text/plain": [
       "array([  0,   1,   2,   3,   4,   6,   8,  10,  13,  12,  16,  18, 138,\n",
       "        42,  61, 148, 147, 146, 142, 145])"
      ]
     },
     "execution_count": 43,
     "metadata": {},
     "output_type": "execute_result"
    }
   ],
   "source": [
    "countries = ['Finland', 'Denmark', 'Switzerland', 'Iceland', 'Netherlands',\n",
    "             'Sweden', 'New Zealand', 'Australia', 'Canada', 'Germany',\n",
    "             'United Kingdom', 'United States', 'India', 'Chile', 'South Korea',\n",
    "             'Afghanistan', 'Zimbabwe', 'Rwanda', 'Haiti', 'Botswana']\n",
    "indices = df.index.get_indexer(countries)\n",
    "indices"
   ]
  },
  {
   "cell_type": "code",
   "execution_count": 44,
   "id": "4e18759e",
   "metadata": {},
   "outputs": [
    {
     "data": {
      "text/plain": [
       "array([[-7.3635, -8.0463, -9.7346, -8.32  , -7.7303, -8.0045, -8.6483,\n",
       "        -9.1478, -9.0374, -7.781 , -7.7452, -3.5544,  4.5894, -5.0857,\n",
       "        -8.9587, 12.8985,  9.1403,  4.0379,  9.647 ,  5.8185],\n",
       "       [ 1.3687,  1.1469,  0.8881,  0.9901,  1.0667,  0.8985,  0.5799,\n",
       "         0.4844,  0.4258,  0.7518,  0.5926,  1.4421, -0.9755, -0.0525,\n",
       "        -0.7236, -1.1607, -1.161 , -2.0036, -0.94  , -0.4596]])"
      ]
     },
     "execution_count": 44,
     "metadata": {},
     "output_type": "execute_result"
    }
   ],
   "source": [
    "coefficients_ = coefficients[:, indices]\n",
    "coefficients_"
   ]
  },
  {
   "cell_type": "code",
   "execution_count": 45,
   "id": "db5b262e",
   "metadata": {},
   "outputs": [
    {
     "data": {
      "application/vnd.plotly.v1+json": {
       "config": {
        "plotlyServerURL": "https://plot.ly"
       },
       "data": [
        {
         "hovertemplate": "PC1=%{x}<br>PC2=%{y}<br>text=%{text}<extra></extra>",
         "legendgroup": "",
         "marker": {
          "color": "#636efa",
          "symbol": "circle"
         },
         "mode": "markers+text",
         "name": "",
         "orientation": "v",
         "showlegend": false,
         "text": [
          "Finland",
          "Denmark",
          "Switzerland",
          "Iceland",
          "Netherlands",
          "Sweden",
          "New Zealand",
          "Australia",
          "Canada",
          "Germany",
          "United Kingdom",
          "United States",
          "India",
          "Chile",
          "South Korea",
          "Afghanistan",
          "Zimbabwe",
          "Rwanda",
          "Haiti",
          "Botswana"
         ],
         "type": "scatter",
         "x": {
          "bdata": "irwP9jZ0HcBBccFpuRcgwN5eo2cfeCPARaShdtijIMD7LAiB2OsewClX4YZKAiDAh5pv/utLIcBPnvAvrksiwEU1LQcgEyLAaZnFNbcfH8CVxnn8CfsewL4rcZhwbwzAZEfGR5FbEkCxC8EsyFcUwPqjXafU6iHATeBYSw7MKUAz2Kr810ciQHy31GLEJhBAqgDieUJLI0B4xQaeK0YXQA==",
          "dtype": "f8"
         },
         "xaxis": "x",
         "y": {
          "bdata": "7UJ2uxbm9T9Y3Wvd11nyP4f5ZOSza+w/LmwL9Amv7z/Ym1igShHxP3J54tGEwOw/R5/zNoCO4j9aqTb6/f/eP1BfENP5QNs/T9/FIdQO6D/jqeytWvbiP49ron25Evc/nS2xly83779EZrvuS+Sqv0YsVOkIKOe/MWuSpzuS8r/geb2kTZPyv588hOJMBwDACeCN47cU7r/oR2jcbGrdvw==",
          "dtype": "f8"
         },
         "yaxis": "y"
        }
       ],
       "layout": {
        "legend": {
         "tracegroupgap": 0
        },
        "template": {
         "data": {
          "bar": [
           {
            "error_x": {
             "color": "#2a3f5f"
            },
            "error_y": {
             "color": "#2a3f5f"
            },
            "marker": {
             "line": {
              "color": "#E5ECF6",
              "width": 0.5
             },
             "pattern": {
              "fillmode": "overlay",
              "size": 10,
              "solidity": 0.2
             }
            },
            "type": "bar"
           }
          ],
          "barpolar": [
           {
            "marker": {
             "line": {
              "color": "#E5ECF6",
              "width": 0.5
             },
             "pattern": {
              "fillmode": "overlay",
              "size": 10,
              "solidity": 0.2
             }
            },
            "type": "barpolar"
           }
          ],
          "carpet": [
           {
            "aaxis": {
             "endlinecolor": "#2a3f5f",
             "gridcolor": "white",
             "linecolor": "white",
             "minorgridcolor": "white",
             "startlinecolor": "#2a3f5f"
            },
            "baxis": {
             "endlinecolor": "#2a3f5f",
             "gridcolor": "white",
             "linecolor": "white",
             "minorgridcolor": "white",
             "startlinecolor": "#2a3f5f"
            },
            "type": "carpet"
           }
          ],
          "choropleth": [
           {
            "colorbar": {
             "outlinewidth": 0,
             "ticks": ""
            },
            "type": "choropleth"
           }
          ],
          "contour": [
           {
            "colorbar": {
             "outlinewidth": 0,
             "ticks": ""
            },
            "colorscale": [
             [
              0,
              "#0d0887"
             ],
             [
              0.1111111111111111,
              "#46039f"
             ],
             [
              0.2222222222222222,
              "#7201a8"
             ],
             [
              0.3333333333333333,
              "#9c179e"
             ],
             [
              0.4444444444444444,
              "#bd3786"
             ],
             [
              0.5555555555555556,
              "#d8576b"
             ],
             [
              0.6666666666666666,
              "#ed7953"
             ],
             [
              0.7777777777777778,
              "#fb9f3a"
             ],
             [
              0.8888888888888888,
              "#fdca26"
             ],
             [
              1,
              "#f0f921"
             ]
            ],
            "type": "contour"
           }
          ],
          "contourcarpet": [
           {
            "colorbar": {
             "outlinewidth": 0,
             "ticks": ""
            },
            "type": "contourcarpet"
           }
          ],
          "heatmap": [
           {
            "colorbar": {
             "outlinewidth": 0,
             "ticks": ""
            },
            "colorscale": [
             [
              0,
              "#0d0887"
             ],
             [
              0.1111111111111111,
              "#46039f"
             ],
             [
              0.2222222222222222,
              "#7201a8"
             ],
             [
              0.3333333333333333,
              "#9c179e"
             ],
             [
              0.4444444444444444,
              "#bd3786"
             ],
             [
              0.5555555555555556,
              "#d8576b"
             ],
             [
              0.6666666666666666,
              "#ed7953"
             ],
             [
              0.7777777777777778,
              "#fb9f3a"
             ],
             [
              0.8888888888888888,
              "#fdca26"
             ],
             [
              1,
              "#f0f921"
             ]
            ],
            "type": "heatmap"
           }
          ],
          "histogram": [
           {
            "marker": {
             "pattern": {
              "fillmode": "overlay",
              "size": 10,
              "solidity": 0.2
             }
            },
            "type": "histogram"
           }
          ],
          "histogram2d": [
           {
            "colorbar": {
             "outlinewidth": 0,
             "ticks": ""
            },
            "colorscale": [
             [
              0,
              "#0d0887"
             ],
             [
              0.1111111111111111,
              "#46039f"
             ],
             [
              0.2222222222222222,
              "#7201a8"
             ],
             [
              0.3333333333333333,
              "#9c179e"
             ],
             [
              0.4444444444444444,
              "#bd3786"
             ],
             [
              0.5555555555555556,
              "#d8576b"
             ],
             [
              0.6666666666666666,
              "#ed7953"
             ],
             [
              0.7777777777777778,
              "#fb9f3a"
             ],
             [
              0.8888888888888888,
              "#fdca26"
             ],
             [
              1,
              "#f0f921"
             ]
            ],
            "type": "histogram2d"
           }
          ],
          "histogram2dcontour": [
           {
            "colorbar": {
             "outlinewidth": 0,
             "ticks": ""
            },
            "colorscale": [
             [
              0,
              "#0d0887"
             ],
             [
              0.1111111111111111,
              "#46039f"
             ],
             [
              0.2222222222222222,
              "#7201a8"
             ],
             [
              0.3333333333333333,
              "#9c179e"
             ],
             [
              0.4444444444444444,
              "#bd3786"
             ],
             [
              0.5555555555555556,
              "#d8576b"
             ],
             [
              0.6666666666666666,
              "#ed7953"
             ],
             [
              0.7777777777777778,
              "#fb9f3a"
             ],
             [
              0.8888888888888888,
              "#fdca26"
             ],
             [
              1,
              "#f0f921"
             ]
            ],
            "type": "histogram2dcontour"
           }
          ],
          "mesh3d": [
           {
            "colorbar": {
             "outlinewidth": 0,
             "ticks": ""
            },
            "type": "mesh3d"
           }
          ],
          "parcoords": [
           {
            "line": {
             "colorbar": {
              "outlinewidth": 0,
              "ticks": ""
             }
            },
            "type": "parcoords"
           }
          ],
          "pie": [
           {
            "automargin": true,
            "type": "pie"
           }
          ],
          "scatter": [
           {
            "fillpattern": {
             "fillmode": "overlay",
             "size": 10,
             "solidity": 0.2
            },
            "type": "scatter"
           }
          ],
          "scatter3d": [
           {
            "line": {
             "colorbar": {
              "outlinewidth": 0,
              "ticks": ""
             }
            },
            "marker": {
             "colorbar": {
              "outlinewidth": 0,
              "ticks": ""
             }
            },
            "type": "scatter3d"
           }
          ],
          "scattercarpet": [
           {
            "marker": {
             "colorbar": {
              "outlinewidth": 0,
              "ticks": ""
             }
            },
            "type": "scattercarpet"
           }
          ],
          "scattergeo": [
           {
            "marker": {
             "colorbar": {
              "outlinewidth": 0,
              "ticks": ""
             }
            },
            "type": "scattergeo"
           }
          ],
          "scattergl": [
           {
            "marker": {
             "colorbar": {
              "outlinewidth": 0,
              "ticks": ""
             }
            },
            "type": "scattergl"
           }
          ],
          "scattermap": [
           {
            "marker": {
             "colorbar": {
              "outlinewidth": 0,
              "ticks": ""
             }
            },
            "type": "scattermap"
           }
          ],
          "scattermapbox": [
           {
            "marker": {
             "colorbar": {
              "outlinewidth": 0,
              "ticks": ""
             }
            },
            "type": "scattermapbox"
           }
          ],
          "scatterpolar": [
           {
            "marker": {
             "colorbar": {
              "outlinewidth": 0,
              "ticks": ""
             }
            },
            "type": "scatterpolar"
           }
          ],
          "scatterpolargl": [
           {
            "marker": {
             "colorbar": {
              "outlinewidth": 0,
              "ticks": ""
             }
            },
            "type": "scatterpolargl"
           }
          ],
          "scatterternary": [
           {
            "marker": {
             "colorbar": {
              "outlinewidth": 0,
              "ticks": ""
             }
            },
            "type": "scatterternary"
           }
          ],
          "surface": [
           {
            "colorbar": {
             "outlinewidth": 0,
             "ticks": ""
            },
            "colorscale": [
             [
              0,
              "#0d0887"
             ],
             [
              0.1111111111111111,
              "#46039f"
             ],
             [
              0.2222222222222222,
              "#7201a8"
             ],
             [
              0.3333333333333333,
              "#9c179e"
             ],
             [
              0.4444444444444444,
              "#bd3786"
             ],
             [
              0.5555555555555556,
              "#d8576b"
             ],
             [
              0.6666666666666666,
              "#ed7953"
             ],
             [
              0.7777777777777778,
              "#fb9f3a"
             ],
             [
              0.8888888888888888,
              "#fdca26"
             ],
             [
              1,
              "#f0f921"
             ]
            ],
            "type": "surface"
           }
          ],
          "table": [
           {
            "cells": {
             "fill": {
              "color": "#EBF0F8"
             },
             "line": {
              "color": "white"
             }
            },
            "header": {
             "fill": {
              "color": "#C8D4E3"
             },
             "line": {
              "color": "white"
             }
            },
            "type": "table"
           }
          ]
         },
         "layout": {
          "annotationdefaults": {
           "arrowcolor": "#2a3f5f",
           "arrowhead": 0,
           "arrowwidth": 1
          },
          "autotypenumbers": "strict",
          "coloraxis": {
           "colorbar": {
            "outlinewidth": 0,
            "ticks": ""
           }
          },
          "colorscale": {
           "diverging": [
            [
             0,
             "#8e0152"
            ],
            [
             0.1,
             "#c51b7d"
            ],
            [
             0.2,
             "#de77ae"
            ],
            [
             0.3,
             "#f1b6da"
            ],
            [
             0.4,
             "#fde0ef"
            ],
            [
             0.5,
             "#f7f7f7"
            ],
            [
             0.6,
             "#e6f5d0"
            ],
            [
             0.7,
             "#b8e186"
            ],
            [
             0.8,
             "#7fbc41"
            ],
            [
             0.9,
             "#4d9221"
            ],
            [
             1,
             "#276419"
            ]
           ],
           "sequential": [
            [
             0,
             "#0d0887"
            ],
            [
             0.1111111111111111,
             "#46039f"
            ],
            [
             0.2222222222222222,
             "#7201a8"
            ],
            [
             0.3333333333333333,
             "#9c179e"
            ],
            [
             0.4444444444444444,
             "#bd3786"
            ],
            [
             0.5555555555555556,
             "#d8576b"
            ],
            [
             0.6666666666666666,
             "#ed7953"
            ],
            [
             0.7777777777777778,
             "#fb9f3a"
            ],
            [
             0.8888888888888888,
             "#fdca26"
            ],
            [
             1,
             "#f0f921"
            ]
           ],
           "sequentialminus": [
            [
             0,
             "#0d0887"
            ],
            [
             0.1111111111111111,
             "#46039f"
            ],
            [
             0.2222222222222222,
             "#7201a8"
            ],
            [
             0.3333333333333333,
             "#9c179e"
            ],
            [
             0.4444444444444444,
             "#bd3786"
            ],
            [
             0.5555555555555556,
             "#d8576b"
            ],
            [
             0.6666666666666666,
             "#ed7953"
            ],
            [
             0.7777777777777778,
             "#fb9f3a"
            ],
            [
             0.8888888888888888,
             "#fdca26"
            ],
            [
             1,
             "#f0f921"
            ]
           ]
          },
          "colorway": [
           "#636efa",
           "#EF553B",
           "#00cc96",
           "#ab63fa",
           "#FFA15A",
           "#19d3f3",
           "#FF6692",
           "#B6E880",
           "#FF97FF",
           "#FECB52"
          ],
          "font": {
           "color": "#2a3f5f"
          },
          "geo": {
           "bgcolor": "white",
           "lakecolor": "white",
           "landcolor": "#E5ECF6",
           "showlakes": true,
           "showland": true,
           "subunitcolor": "white"
          },
          "hoverlabel": {
           "align": "left"
          },
          "hovermode": "closest",
          "mapbox": {
           "style": "light"
          },
          "paper_bgcolor": "white",
          "plot_bgcolor": "#E5ECF6",
          "polar": {
           "angularaxis": {
            "gridcolor": "white",
            "linecolor": "white",
            "ticks": ""
           },
           "bgcolor": "#E5ECF6",
           "radialaxis": {
            "gridcolor": "white",
            "linecolor": "white",
            "ticks": ""
           }
          },
          "scene": {
           "xaxis": {
            "backgroundcolor": "#E5ECF6",
            "gridcolor": "white",
            "gridwidth": 2,
            "linecolor": "white",
            "showbackground": true,
            "ticks": "",
            "zerolinecolor": "white"
           },
           "yaxis": {
            "backgroundcolor": "#E5ECF6",
            "gridcolor": "white",
            "gridwidth": 2,
            "linecolor": "white",
            "showbackground": true,
            "ticks": "",
            "zerolinecolor": "white"
           },
           "zaxis": {
            "backgroundcolor": "#E5ECF6",
            "gridcolor": "white",
            "gridwidth": 2,
            "linecolor": "white",
            "showbackground": true,
            "ticks": "",
            "zerolinecolor": "white"
           }
          },
          "shapedefaults": {
           "line": {
            "color": "#2a3f5f"
           }
          },
          "ternary": {
           "aaxis": {
            "gridcolor": "white",
            "linecolor": "white",
            "ticks": ""
           },
           "baxis": {
            "gridcolor": "white",
            "linecolor": "white",
            "ticks": ""
           },
           "bgcolor": "#E5ECF6",
           "caxis": {
            "gridcolor": "white",
            "linecolor": "white",
            "ticks": ""
           }
          },
          "title": {
           "x": 0.05
          },
          "xaxis": {
           "automargin": true,
           "gridcolor": "white",
           "linecolor": "white",
           "ticks": "",
           "title": {
            "standoff": 15
           },
           "zerolinecolor": "white",
           "zerolinewidth": 2
          },
          "yaxis": {
           "automargin": true,
           "gridcolor": "white",
           "linecolor": "white",
           "ticks": "",
           "title": {
            "standoff": 15
           },
           "zerolinecolor": "white",
           "zerolinewidth": 2
          }
         }
        },
        "title": {
         "text": "PCA of World Happiness Report 2021"
        },
        "xaxis": {
         "anchor": "y",
         "domain": [
          0,
          1
         ],
         "title": {
          "text": "PC1"
         }
        },
        "yaxis": {
         "anchor": "x",
         "domain": [
          0,
          1
         ],
         "title": {
          "text": "PC2"
         }
        }
       }
      }
     },
     "metadata": {},
     "output_type": "display_data"
    }
   ],
   "source": [
    "fig = px.scatter(x=coefficients_[0], y=coefficients_[1],\n",
    "                 labels={'x': 'PC1', 'y': 'PC2'},\n",
    "                 title='PCA of World Happiness Report 2021',\n",
    "                 text=countries)\n",
    "\n",
    "fig.show()"
   ]
  }
 ],
 "metadata": {
  "kernelspec": {
   "display_name": "Python 3",
   "language": "python",
   "name": "python3"
  },
  "language_info": {
   "codemirror_mode": {
    "name": "ipython",
    "version": 3
   },
   "file_extension": ".py",
   "mimetype": "text/x-python",
   "name": "python",
   "nbconvert_exporter": "python",
   "pygments_lexer": "ipython3",
   "version": "3.13.3"
  }
 },
 "nbformat": 4,
 "nbformat_minor": 5
}

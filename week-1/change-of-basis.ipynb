{
 "cells": [
  {
   "cell_type": "code",
   "execution_count": 390,
   "id": "c7a7219b",
   "metadata": {},
   "outputs": [],
   "source": [
    "import numpy as np\n",
    "import matplotlib.pyplot as plt\n",
    "from matplotlib.ticker import MultipleLocator\n",
    "np.set_printoptions(precision=4, suppress=True)\n",
    "quiver_args = dict(angles='xy', scale_units='xy', scale=1)"
   ]
  },
  {
   "cell_type": "code",
   "execution_count": 391,
   "id": "e0e706e8",
   "metadata": {},
   "outputs": [],
   "source": [
    "def plt_basics(xlim=None, ylim=None, figsize=None, set_aspect=True, tick=None):\n",
    "  if figsize:\n",
    "    plt.figure(figsize=figsize)\n",
    "\n",
    "  if set_aspect:\n",
    "    plt.gca().set_aspect('equal', adjustable='box')\n",
    "\n",
    "  plt.axhline(0, color='black', linewidth=0.5)\n",
    "  plt.axvline(0, color='black', linewidth=0.5)\n",
    "  plt.grid(True)\n",
    "\n",
    "  if xlim:\n",
    "    plt.xlim(xlim)\n",
    "  if ylim:\n",
    "    plt.ylim(ylim)\n",
    "\n",
    "  if tick:\n",
    "    ax = plt.gca()\n",
    "    ax.xaxis.set_major_locator(MultipleLocator(tick))\n",
    "    ax.yaxis.set_major_locator(MultipleLocator(tick))"
   ]
  },
  {
   "cell_type": "code",
   "execution_count": 392,
   "id": "75d3727e",
   "metadata": {},
   "outputs": [],
   "source": [
    "def plt_vector(tail, head):\n",
    "  plt.quiver(*tail, *head, **quiver_args)\n",
    "\n",
    "\n",
    "def plt_line(start, end, style='g--', alpha=0.5):\n",
    "  plt.plot([start[0], end[0]], [start[1], end[1]], style, alpha=alpha)"
   ]
  },
  {
   "cell_type": "code",
   "execution_count": 393,
   "id": "d7d90cc0",
   "metadata": {},
   "outputs": [
    {
     "data": {
      "text/plain": [
       "array([[1. , 2. , 3. , 4. , 5. ],\n",
       "       [2.2, 5. , 6.6, 9. , 9.5]])"
      ]
     },
     "execution_count": 393,
     "metadata": {},
     "output_type": "execute_result"
    }
   ],
   "source": [
    "X = np.array([\n",
    "    [1, 2.2],\n",
    "    [2, 5],\n",
    "    [3, 6.6],\n",
    "    [4, 9],\n",
    "    [5, 9.5],\n",
    "]).T\n",
    "\n",
    "X"
   ]
  },
  {
   "cell_type": "code",
   "execution_count": 394,
   "id": "283dcbb9",
   "metadata": {},
   "outputs": [
    {
     "data": {
      "text/plain": [
       "array([1., 2., 3., 4., 5.])"
      ]
     },
     "execution_count": 394,
     "metadata": {},
     "output_type": "execute_result"
    },
    {
     "data": {
      "text/plain": [
       "array([2.2, 5. , 6.6, 9. , 9.5])"
      ]
     },
     "execution_count": 394,
     "metadata": {},
     "output_type": "execute_result"
    }
   ],
   "source": [
    "X[0]  # coefficients for i vector\n",
    "X[1]  # coefficients for j vector"
   ]
  },
  {
   "cell_type": "code",
   "execution_count": 395,
   "id": "d25c666b",
   "metadata": {},
   "outputs": [],
   "source": [
    "# w1 = np.array([1, 0])  # standard i vector\n",
    "# w2 = np.array([0, 1])  # standard j vector\n",
    "\n",
    "w1 = np.array([1, 0.5])\n",
    "w2 = np.array([-w1[1], w1[0]])  # orthogonal to w1"
   ]
  },
  {
   "cell_type": "code",
   "execution_count": 396,
   "id": "f5495fcd",
   "metadata": {},
   "outputs": [
    {
     "data": {
      "text/plain": [
       "array([0.8944, 0.4472])"
      ]
     },
     "execution_count": 396,
     "metadata": {},
     "output_type": "execute_result"
    },
    {
     "data": {
      "text/plain": [
       "array([-0.4472,  0.8944])"
      ]
     },
     "execution_count": 396,
     "metadata": {},
     "output_type": "execute_result"
    }
   ],
   "source": [
    "w1 = w1 / np.linalg.norm(w1)  # normalizing (converting to unit vector)\n",
    "w2 = w2 / np.linalg.norm(w2)\n",
    "\n",
    "w1\n",
    "w2"
   ]
  },
  {
   "cell_type": "code",
   "execution_count": 397,
   "id": "c0044913",
   "metadata": {},
   "outputs": [
    {
     "data": {
      "text/plain": [
       "((5, 2), (2,))"
      ]
     },
     "execution_count": 397,
     "metadata": {},
     "output_type": "execute_result"
    },
    {
     "data": {
      "text/plain": [
       "array([1.8783, 4.0249, 5.6349, 7.6026, 8.7207])"
      ]
     },
     "execution_count": 397,
     "metadata": {},
     "output_type": "execute_result"
    },
    {
     "data": {
      "text/plain": [
       "array([1.5205, 3.5777, 4.5616, 6.261 , 6.261 ])"
      ]
     },
     "execution_count": 397,
     "metadata": {},
     "output_type": "execute_result"
    }
   ],
   "source": [
    "X.T.shape, w1.shape\n",
    "\n",
    "c1 = X.T @ w1\n",
    "c2 = X.T @ w2\n",
    "\n",
    "c1  # coefficients for w1 vector\n",
    "c2  # coefficients for w2 vector"
   ]
  },
  {
   "cell_type": "code",
   "execution_count": 398,
   "id": "5fd9bd5d",
   "metadata": {},
   "outputs": [
    {
     "data": {
      "text/plain": [
       "((2,), (5,))"
      ]
     },
     "execution_count": 398,
     "metadata": {},
     "output_type": "execute_result"
    },
    {
     "data": {
      "text/plain": [
       "((2, 1), (1, 5))"
      ]
     },
     "execution_count": 398,
     "metadata": {},
     "output_type": "execute_result"
    }
   ],
   "source": [
    "w1.shape, c1.shape\n",
    "w1.reshape(-1, 1).shape, c1.reshape(1, -1).shape"
   ]
  },
  {
   "cell_type": "code",
   "execution_count": 399,
   "id": "fa0cb289",
   "metadata": {},
   "outputs": [
    {
     "data": {
      "text/plain": [
       "array([[1.68, 3.6 , 5.04, 6.8 , 7.8 ],\n",
       "       [0.84, 1.8 , 2.52, 3.4 , 3.9 ]])"
      ]
     },
     "execution_count": 399,
     "metadata": {},
     "output_type": "execute_result"
    },
    {
     "data": {
      "text/plain": [
       "array([[-0.68, -1.6 , -2.04, -2.8 , -2.8 ],\n",
       "       [ 1.36,  3.2 ,  4.08,  5.6 ,  5.6 ]])"
      ]
     },
     "execution_count": 399,
     "metadata": {},
     "output_type": "execute_result"
    }
   ],
   "source": [
    "proxies_w1 = w1.reshape(-1, 1) @ c1.reshape(-1, 1).T  # yellow dots on w1\n",
    "proxies_w2 = w2.reshape(-1, 1) @ c2.reshape(-1, 1).T  # yellow dots on w2\n",
    "\n",
    "proxies_w1\n",
    "proxies_w2"
   ]
  },
  {
   "cell_type": "code",
   "execution_count": 400,
   "id": "d5f9b545",
   "metadata": {},
   "outputs": [
    {
     "data": {
      "text/plain": [
       "array([[1. , 2. , 3. , 4. , 5. ],\n",
       "       [2.2, 5. , 6.6, 9. , 9.5]])"
      ]
     },
     "execution_count": 400,
     "metadata": {},
     "output_type": "execute_result"
    },
    {
     "data": {
      "text/plain": [
       "array([[1. , 2. , 3. , 4. , 5. ],\n",
       "       [2.2, 5. , 6.6, 9. , 9.5]])"
      ]
     },
     "execution_count": 400,
     "metadata": {},
     "output_type": "execute_result"
    },
    {
     "data": {
      "text/plain": [
       "np.float64(2.761013168273541e-31)"
      ]
     },
     "execution_count": 400,
     "metadata": {},
     "output_type": "execute_result"
    }
   ],
   "source": [
    "X_new = proxies_w1 + proxies_w2\n",
    "\n",
    "X\n",
    "X_new\n",
    "np.mean((X - X_new) ** 2)  # loss (mean squared error)"
   ]
  },
  {
   "cell_type": "code",
   "execution_count": 401,
   "id": "458b69f3",
   "metadata": {},
   "outputs": [
    {
     "data": {
      "image/png": "[encoded data removed]",
      "text/plain": [
       "<Figure size 800x800 with 1 Axes>"
      ]
     },
     "metadata": {},
     "output_type": "display_data"
    }
   ],
   "source": [
    "plt_basics(xlim=(-2, 10), ylim=(-2, 10), tick=1, figsize=(8, 8))\n",
    "\n",
    "_ = plt.scatter(*X)\n",
    "_ = plt.scatter(*X_new, marker='+', s=200)\n",
    "_ = plt.scatter(*proxies_w1, color='y')\n",
    "_ = plt.scatter(*proxies_w2, color='y')\n",
    "\n",
    "plt_vector((0, 0), w1)\n",
    "plt_vector((0, 0), w2)\n",
    "_ = plt_line(w1*-20, w1*20, style='k-')\n",
    "_ = plt_line(w2*-20, w2*20, style='k-')\n",
    "\n",
    "for i, x in enumerate(X.T):\n",
    "  plt_line(proxies_w1[:, i], x)\n",
    "  plt_line(proxies_w2[:, i], x)"
   ]
  },
  {
   "cell_type": "markdown",
   "id": "24fd8b53",
   "metadata": {},
   "source": [
    "# rotate w1, w2 to align with universe coordinates"
   ]
  },
  {
   "cell_type": "code",
   "execution_count": 402,
   "id": "59a8044c",
   "metadata": {},
   "outputs": [],
   "source": [
    "w1_rotated = np.array([1, 0])\n",
    "w2_rotated = np.array([0, 1])\n",
    "proxies_w1_rotated = w1_rotated.reshape(-1, 1) @ c1.reshape(-1, 1).T  # yellow dots on w1_rotated\n",
    "proxies_w2_rotated = w2_rotated.reshape(-1, 1) @ c2.reshape(-1, 1).T  # yellow dots on w2_rotated\n",
    "X_rotated = proxies_w1_rotated + proxies_w2_rotated"
   ]
  },
  {
   "cell_type": "code",
   "execution_count": 403,
   "id": "0e4989d4",
   "metadata": {},
   "outputs": [
    {
     "data": {
      "image/png": "[encoded data removed]",
      "text/plain": [
       "<Figure size 800x800 with 1 Axes>"
      ]
     },
     "metadata": {},
     "output_type": "display_data"
    }
   ],
   "source": [
    "plt_basics(xlim=(-2, 12), ylim=(-2, 10), tick=1, figsize=(8, 8))\n",
    "\n",
    "plt_vector((0, 0), w1_rotated)\n",
    "plt_vector((0, 0), w2_rotated)\n",
    "_ = plt_line(w1_rotated*-20, w1_rotated*20, style='k-')\n",
    "_ = plt_line(w2_rotated*-20, w2_rotated*20, style='k-')\n",
    "\n",
    "_ = plt.scatter(*X_rotated, marker='^', s=100)\n",
    "_ = plt.scatter(c1, [0]*len(c1), color='y')\n",
    "_ = plt.scatter([0]*len(c2), c2, color='y')\n",
    "\n",
    "for i, x in enumerate(X_rotated.T):\n",
    "  plt_line(proxies_w1_rotated[:, i], x)\n",
    "  plt_line(proxies_w2_rotated[:, i], x)"
   ]
  },
  {
   "cell_type": "markdown",
   "id": "de9b18b3",
   "metadata": {},
   "source": [
    "# dimensionality reduction using PCA"
   ]
  },
  {
   "cell_type": "code",
   "execution_count": 404,
   "id": "7ae9ff34",
   "metadata": {},
   "outputs": [
    {
     "data": {
      "text/plain": [
       "array([[1. , 2. , 3. , 4. , 5. ],\n",
       "       [2.2, 5. , 6.6, 9. , 9.5]])"
      ]
     },
     "execution_count": 404,
     "metadata": {},
     "output_type": "execute_result"
    }
   ],
   "source": [
    "X  # original data"
   ]
  },
  {
   "cell_type": "code",
   "execution_count": 405,
   "id": "eca9ef16",
   "metadata": {},
   "outputs": [
    {
     "data": {
      "text/plain": [
       "(array([1.8783, 4.0249, 5.6349, 7.6026, 8.7207]),\n",
       " array([1.5205, 3.5777, 4.5616, 6.261 , 6.261 ]))"
      ]
     },
     "execution_count": 405,
     "metadata": {},
     "output_type": "execute_result"
    },
    {
     "data": {
      "text/plain": [
       "(array([0.8944, 0.4472]), array([-0.4472,  0.8944]))"
      ]
     },
     "execution_count": 405,
     "metadata": {},
     "output_type": "execute_result"
    }
   ],
   "source": [
    "c1, c2  # store coefficients\n",
    "w1, w2  # with basis vectors"
   ]
  },
  {
   "cell_type": "code",
   "execution_count": 406,
   "id": "273f6a4c",
   "metadata": {},
   "outputs": [
    {
     "data": {
      "text/plain": [
       "array([[1. , 2. , 3. , 4. , 5. ],\n",
       "       [2.2, 5. , 6.6, 9. , 9.5]])"
      ]
     },
     "execution_count": 406,
     "metadata": {},
     "output_type": "execute_result"
    },
    {
     "data": {
      "text/plain": [
       "array([[1.68, 3.6 , 5.04, 6.8 , 7.8 ],\n",
       "       [0.84, 1.8 , 2.52, 3.4 , 3.9 ]])"
      ]
     },
     "execution_count": 406,
     "metadata": {},
     "output_type": "execute_result"
    },
    {
     "data": {
      "text/plain": [
       "np.float64(11.431999999999999)"
      ]
     },
     "execution_count": 406,
     "metadata": {},
     "output_type": "execute_result"
    }
   ],
   "source": [
    "# reconstruct original data using stored (c1, c2) and (w1, w2)\n",
    "proxies_w1_reconstruct = w1.reshape(-1, 1) @ c1.reshape(-1, 1).T  # yellow dots on w1\n",
    "proxies_w2_reconstruct = w2.reshape(-1, 1) @ c2.reshape(-1, 1).T  # yellow dots on w2\n",
    "\n",
    "X_reconstructed = proxies_w1_reconstruct\n",
    "\n",
    "X\n",
    "X_reconstructed\n",
    "np.mean((X - X_reconstructed)**2)  # loss (mean squred error)"
   ]
  },
  {
   "cell_type": "code",
   "execution_count": 407,
   "id": "23775142",
   "metadata": {},
   "outputs": [
    {
     "data": {
      "image/png": "[encoded data removed]",
      "text/plain": [
       "<Figure size 800x800 with 1 Axes>"
      ]
     },
     "metadata": {},
     "output_type": "display_data"
    }
   ],
   "source": [
    "plt_basics(xlim=(-2, 10), ylim=(-2, 10), tick=1, figsize=(8, 8))\n",
    "\n",
    "_ = plt.scatter(*X)\n",
    "_ = plt.scatter(*X_reconstructed, marker='+', s=200)\n",
    "\n",
    "plt_vector((0, 0), w1)\n",
    "plt_vector((0, 0), w2)\n",
    "_ = plt_line(w1*-20, w1*20, style='k-')\n",
    "_ = plt_line(w2*-20, w2*20, style='k-')"
   ]
  },
  {
   "cell_type": "markdown",
   "id": "24f6b534",
   "metadata": {},
   "source": [
    "# how many (k) of c1, c2, c3, ... you need?\n",
    "\n",
    "select as many to capture at least 95% variance"
   ]
  },
  {
   "cell_type": "code",
   "execution_count": 408,
   "id": "8e74b025",
   "metadata": {},
   "outputs": [
    {
     "data": {
      "text/plain": [
       "np.float64(6.015679999999998)"
      ]
     },
     "execution_count": 408,
     "metadata": {},
     "output_type": "execute_result"
    },
    {
     "data": {
      "text/plain": [
       "np.float64(3.1827199999999993)"
      ]
     },
     "execution_count": 408,
     "metadata": {},
     "output_type": "execute_result"
    }
   ],
   "source": [
    "np.var(c1)\n",
    "np.var(c2)"
   ]
  },
  {
   "cell_type": "code",
   "execution_count": 409,
   "id": "47fb2d5a",
   "metadata": {},
   "outputs": [
    {
     "data": {
      "text/plain": [
       "np.float64(0.6539919986084536)"
      ]
     },
     "execution_count": 409,
     "metadata": {},
     "output_type": "execute_result"
    },
    {
     "data": {
      "text/plain": [
       "np.float64(0.34600800139154636)"
      ]
     },
     "execution_count": 409,
     "metadata": {},
     "output_type": "execute_result"
    }
   ],
   "source": [
    "total_variance = np.var(c1) + np.var(c2)\n",
    "np.var(c1) / total_variance\n",
    "np.var(c2) / total_variance"
   ]
  }
 ],
 "metadata": {
  "kernelspec": {
   "display_name": "Python 3",
   "language": "python",
   "name": "python3"
  },
  "language_info": {
   "codemirror_mode": {
    "name": "ipython",
    "version": 3
   },
   "file_extension": ".py",
   "mimetype": "text/x-python",
   "name": "python",
   "nbconvert_exporter": "python",
   "pygments_lexer": "ipython3",
   "version": "3.13.3"
  }
 },
 "nbformat": 4,
 "nbformat_minor": 5
}

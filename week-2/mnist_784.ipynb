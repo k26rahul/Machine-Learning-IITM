{
 "cells": [
  {
   "cell_type": "code",
   "execution_count": 1,
   "id": "025f2064",
   "metadata": {},
   "outputs": [],
   "source": [
    "import numpy as np\n",
    "import pandas as pd\n",
    "import matplotlib.pyplot as plt"
   ]
  },
  {
   "cell_type": "code",
   "execution_count": 2,
   "id": "f8e11e0a",
   "metadata": {},
   "outputs": [],
   "source": [
    "# from scipy.io import arff\n",
    "# data, meta = arff.loadarff('../week-1/mnist_784.arff')\n",
    "# df = pd.DataFrame(data)\n",
    "# df.to_csv('../week-2/mnist_784.csv', index=False)"
   ]
  },
  {
   "cell_type": "code",
   "execution_count": null,
   "id": "b1ba6f20",
   "metadata": {},
   "outputs": [],
   "source": []
  }
 ],
 "metadata": {
  "kernelspec": {
   "display_name": "Python 3",
   "language": "python",
   "name": "python3"
  },
  "language_info": {
   "codemirror_mode": {
    "name": "ipython",
    "version": 3
   },
   "file_extension": ".py",
   "mimetype": "text/x-python",
   "name": "python",
   "nbconvert_exporter": "python",
   "pygments_lexer": "ipython3",
   "version": "3.13.3"
  }
 },
 "nbformat": 4,
 "nbformat_minor": 5
}

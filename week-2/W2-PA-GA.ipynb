{
 "cells": [
  {
   "cell_type": "markdown",
   "id": "dfa5b25b",
   "metadata": {},
   "source": [
    "# PA"
   ]
  },
  {
   "cell_type": "code",
   "execution_count": 52,
   "id": "66bae2f5",
   "metadata": {},
   "outputs": [],
   "source": [
    "import numpy as np\n",
    "import matplotlib.pyplot as plt"
   ]
  },
  {
   "cell_type": "code",
   "execution_count": 53,
   "id": "f93ef13f",
   "metadata": {},
   "outputs": [],
   "source": [
    "def loss(encoder, decoder, data):\n",
    "  loss = 0\n",
    "  for x in data:\n",
    "    u = encoder(x)\n",
    "    x_ = decoder(u)\n",
    "    loss += np.sum((x - x_)**2)\n",
    "  return loss / len(data)"
   ]
  },
  {
   "cell_type": "code",
   "execution_count": 54,
   "id": "78bfc55f",
   "metadata": {},
   "outputs": [
    {
     "data": {
      "text/plain": [
       "np.float64(3.0)"
      ]
     },
     "execution_count": 54,
     "metadata": {},
     "output_type": "execute_result"
    },
    {
     "data": {
      "text/plain": [
       "np.float64(0.6666666666666667)"
      ]
     },
     "execution_count": 54,
     "metadata": {},
     "output_type": "execute_result"
    }
   ],
   "source": [
    "X = np.array([\n",
    "    [10, 10, 9],\n",
    "    [13, 12, 13],\n",
    "    [5, 5, 4],\n",
    "    [8, 7, 7]\n",
    "])\n",
    "\n",
    "\n",
    "def encode1(x):\n",
    "  return x[0] - x[1] + x[2]\n",
    "\n",
    "\n",
    "def decode1(u):\n",
    "  return np.array([u, u, u])\n",
    "\n",
    "\n",
    "def encode2(x):\n",
    "  return np.mean(x)\n",
    "\n",
    "\n",
    "def decode2(u):\n",
    "  return np.array([u, u, u])\n",
    "\n",
    "\n",
    "loss(encode1, decode1, X)\n",
    "loss(encode2, decode2, X)"
   ]
  },
  {
   "cell_type": "code",
   "execution_count": 55,
   "id": "3ad3d29e",
   "metadata": {},
   "outputs": [
    {
     "data": {
      "text/plain": [
       "np.float64(15.225)"
      ]
     },
     "execution_count": 55,
     "metadata": {},
     "output_type": "execute_result"
    },
    {
     "data": {
      "text/plain": [
       "np.float64(3.8062500000000004)"
      ]
     },
     "execution_count": 55,
     "metadata": {},
     "output_type": "execute_result"
    }
   ],
   "source": [
    "X = np.array([\n",
    "    [1, 0.5],\n",
    "    [2, 2.3],\n",
    "    [3, 3.1],\n",
    "    [4, 3.9]\n",
    "])\n",
    "\n",
    "\n",
    "def encode1(x):\n",
    "  return x[0] - x[1]\n",
    "\n",
    "\n",
    "def decode1(u):\n",
    "  return np.array([u/2, u/2])\n",
    "\n",
    "\n",
    "def encode2(x):\n",
    "  return (x[0] + x[1]) / 2\n",
    "\n",
    "\n",
    "def decode2(u):\n",
    "  return np.array([u/2, u/2])\n",
    "\n",
    "\n",
    "loss(encode1, decode1, X)\n",
    "loss(encode2, decode2, X)"
   ]
  },
  {
   "cell_type": "code",
   "execution_count": 56,
   "id": "7ee6114a",
   "metadata": {},
   "outputs": [
    {
     "name": "stdout",
     "output_type": "stream",
     "text": [
      "(1, 1) 0.005296575000000004\n",
      "(1, 2) 1.059296575\n",
      "(2, 1) 1.5086465750000002\n",
      "(2, 2) 3.5626465750000005\n"
     ]
    }
   ],
   "source": [
    "x = np.array([-1, 0, 1, 2])\n",
    "y = np.array([0.0319, 0.8692, 1.9566, 3.0343])\n",
    "\n",
    "# Options to evaluate\n",
    "params = [(1, 1), (1, 2), (2, 1), (2, 2)]\n",
    "\n",
    "\n",
    "def mse(a, b):\n",
    "  y_ = a * x + b\n",
    "  return np.mean((y - y_) ** 2)\n",
    "\n",
    "\n",
    "# Compute loss for each pair\n",
    "for param in params:\n",
    "  print(param, mse(*param))"
   ]
  },
  {
   "cell_type": "code",
   "execution_count": 57,
   "id": "640bdcf8",
   "metadata": {},
   "outputs": [
    {
     "data": {
      "text/plain": [
       "np.float64(2.9639999999999995)"
      ]
     },
     "execution_count": 57,
     "metadata": {},
     "output_type": "execute_result"
    },
    {
     "data": {
      "text/plain": [
       "np.float64(11.924000000000001)"
      ]
     },
     "execution_count": 57,
     "metadata": {},
     "output_type": "execute_result"
    }
   ],
   "source": [
    "x = np.array([2, 3, 6, 7, 8])\n",
    "y = np.array([5.8, 8.3, 18.3, 21, 22])\n",
    "\n",
    "# Functions\n",
    "g_pred = 3 * x + 1\n",
    "h_pred = 2 * x + 2\n",
    "\n",
    "# MSE\n",
    "np.mean((g_pred - y) ** 2)\n",
    "np.mean((h_pred - y) ** 2)"
   ]
  },
  {
   "cell_type": "code",
   "execution_count": 58,
   "id": "6c222a3f",
   "metadata": {},
   "outputs": [
    {
     "data": {
      "text/plain": [
       "np.float64(0.3333333333333333)"
      ]
     },
     "execution_count": 58,
     "metadata": {},
     "output_type": "execute_result"
    },
    {
     "data": {
      "text/plain": [
       "np.float64(0.5)"
      ]
     },
     "execution_count": 58,
     "metadata": {},
     "output_type": "execute_result"
    }
   ],
   "source": [
    "X = np.array([\n",
    "    [4, 2],\n",
    "    [8, 4],\n",
    "    [2, 6],\n",
    "    [4, 10],\n",
    "    [10, 2],\n",
    "    [12, 8]\n",
    "])\n",
    "y = np.array([1, 1, -1, -1, 1, -1])\n",
    "\n",
    "# Function g: sign(x1 - x2 - 2)\n",
    "g_predicted = np.sign(X[:, 0] - X[:, 1] - 2)\n",
    "\n",
    "# Function h: sign(x1 + x2 - 10)\n",
    "h_predicted = np.sign(X[:, 0] + X[:, 1] - 10)\n",
    "\n",
    "# Compute average misclassification error\n",
    "np.mean(g_predicted != y)\n",
    "np.mean(h_predicted != y)"
   ]
  },
  {
   "cell_type": "code",
   "execution_count": 59,
   "id": "b97b3d93",
   "metadata": {},
   "outputs": [
    {
     "data": {
      "text/plain": [
       "np.float64(34.5)"
      ]
     },
     "execution_count": 59,
     "metadata": {},
     "output_type": "execute_result"
    }
   ],
   "source": [
    "X = np.array([\n",
    "    [1, 2, 3],\n",
    "    [2, 3, 4],\n",
    "    [-1, 0, 1],\n",
    "    [0, 1, 1]\n",
    "])\n",
    "\n",
    "# Encoder: f(x1, x2, x3) = (x1 + 2*x2) / 2\n",
    "x1 = X[:, 0]\n",
    "x2 = X[:, 1]\n",
    "u = (x1 + 2 * x2) / 2\n",
    "\n",
    "# Decoder: g(u) = [u, 2u, 3u]\n",
    "X_reconstructed = np.column_stack([u, 2*u, 3*u])\n",
    "\n",
    "# Reconstruction error: mean squared error\n",
    "np.mean(np.sum((X - X_reconstructed)**2, axis=1))"
   ]
  },
  {
   "cell_type": "code",
   "execution_count": 60,
   "id": "54debd60",
   "metadata": {},
   "outputs": [
    {
     "data": {
      "text/plain": [
       "4.0"
      ]
     },
     "execution_count": 60,
     "metadata": {},
     "output_type": "execute_result"
    }
   ],
   "source": [
    "def calc_mse(lst1, lst2):\n",
    "  loss = 0\n",
    "  for i in range(len(lst1)):\n",
    "    delta = lst1[i] - lst2[i]\n",
    "    delta_sq = delta ** 2\n",
    "    loss += delta_sq\n",
    "\n",
    "  mse = loss / len(lst1)\n",
    "  return mse\n",
    "\n",
    "\n",
    "calc_mse([10, 20, 30, 40], [8, 18, 28, 38])"
   ]
  },
  {
   "cell_type": "markdown",
   "id": "bbbb9c45",
   "metadata": {},
   "source": [
    "# GA"
   ]
  },
  {
   "cell_type": "code",
   "execution_count": 61,
   "id": "658a4a2c",
   "metadata": {},
   "outputs": [
    {
     "data": {
      "text/plain": [
       "np.float64(15.225)"
      ]
     },
     "execution_count": 61,
     "metadata": {},
     "output_type": "execute_result"
    }
   ],
   "source": [
    "X = np.array([\n",
    "    [1, 0.5],\n",
    "    [2, 2.3],\n",
    "    [3, 3.1],\n",
    "    [4, 3.9],\n",
    "])\n",
    "\n",
    "\n",
    "def encode1(x):  # x is vector\n",
    "  return x[0] - x[1]\n",
    "\n",
    "\n",
    "def decode1(u):  # u is scalar\n",
    "  return np.array([u/2, u/2])\n",
    "\n",
    "\n",
    "loss(encode1, decode1, X)"
   ]
  },
  {
   "cell_type": "code",
   "execution_count": 62,
   "id": "15e00fee",
   "metadata": {},
   "outputs": [
    {
     "name": "stdout",
     "output_type": "stream",
     "text": [
      "(1, 1) 0.005296575000000004\n",
      "(1, 2) 1.059296575\n",
      "(2, 1) 1.5086465750000002\n",
      "(2, 2) 3.5626465750000005\n"
     ]
    },
    {
     "data": {
      "image/png": "[encoded data removed]",
      "text/plain": [
       "<Figure size 640x480 with 1 Axes>"
      ]
     },
     "metadata": {},
     "output_type": "display_data"
    }
   ],
   "source": [
    "X = np.array([\n",
    "    [-1, 0.0319],\n",
    "    [0, 0.8692],\n",
    "    [1, 1.9566],\n",
    "    [2, 3.0343],\n",
    "])\n",
    "\n",
    "x = X[:, 0]\n",
    "y = X[:, 1]\n",
    "\n",
    "_ = plt.scatter(x, y)\n",
    "\n",
    "params = [\n",
    "    [1, 1, 'r'], [1, 2, 'g'], [2, 1, 'b'], [2, 2, 'y']\n",
    "]\n",
    "\n",
    "for a, b, color in params:\n",
    "  y_pred = x * a + b\n",
    "  mse = np.mean((y - y_pred) ** 2)\n",
    "  print((a, b), mse)\n",
    "  _ = plt.plot(x, y_pred, color=color)"
   ]
  }
 ],
 "metadata": {
  "kernelspec": {
   "display_name": "Python 3",
   "language": "python",
   "name": "python3"
  },
  "language_info": {
   "codemirror_mode": {
    "name": "ipython",
    "version": 3
   },
   "file_extension": ".py",
   "mimetype": "text/x-python",
   "name": "python",
   "nbconvert_exporter": "python",
   "pygments_lexer": "ipython3",
   "version": "3.13.3"
  }
 },
 "nbformat": 4,
 "nbformat_minor": 5
}

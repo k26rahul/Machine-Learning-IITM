{
 "cells": [
  {
   "cell_type": "code",
   "execution_count": 302,
   "id": "72a0ad17",
   "metadata": {},
   "outputs": [],
   "source": [
    "import numpy as np\n",
    "import matplotlib.pyplot as plt\n",
    "np.set_printoptions(precision=4, suppress=True)"
   ]
  },
  {
   "cell_type": "code",
   "execution_count": 303,
   "id": "f3c40f2b",
   "metadata": {},
   "outputs": [
    {
     "data": {
      "text/plain": [
       "array([[ 1.0436,  1.8459,  2.7533,  3.6286],\n",
       "       [ 1.972 ,  3.6267,  5.9101,  7.8244],\n",
       "       [ 3.0218,  5.9448,  9.8066, 12.6097],\n",
       "       [ 4.3346,  7.4717, 11.6256, 16.5834],\n",
       "       [ 5.3552,  9.5692, 15.3776, 18.6255],\n",
       "       [ 6.2027, 13.0449, 17.5599, 25.0305],\n",
       "       [ 6.3487, 12.6581, 20.1969, 27.2544],\n",
       "       [ 8.1401, 16.2427, 22.4773, 29.3038],\n",
       "       [ 8.7821, 18.4166, 25.9021, 38.8636],\n",
       "       [10.6757, 20.4236, 27.507 , 42.105 ]])"
      ]
     },
     "execution_count": 303,
     "metadata": {},
     "output_type": "execute_result"
    },
    {
     "data": {
      "text/plain": [
       "(10, 4)"
      ]
     },
     "execution_count": 303,
     "metadata": {},
     "output_type": "execute_result"
    },
    {
     "data": {
      "text/plain": [
       "array([[ -1.2743,  -0.4719,   0.4354,   1.3108],\n",
       "       [ -2.8613,  -1.2066,   1.0768,   2.9911],\n",
       "       [ -4.8239,  -1.9009,   1.9609,   4.764 ],\n",
       "       [ -5.6692,  -2.5321,   1.6217,   6.5796],\n",
       "       [ -6.8767,  -2.6627,   3.1457,   6.3936],\n",
       "       [ -9.2569,  -2.4146,   2.1004,   9.571 ],\n",
       "       [-10.2658,  -3.9564,   3.5824,  10.6398],\n",
       "       [-10.9009,  -2.7983,   3.4363,  10.2628],\n",
       "       [-14.209 ,  -4.5745,   2.911 ,  15.8725],\n",
       "       [-14.5021,  -4.7542,   2.3291,  16.9272]])"
      ]
     },
     "execution_count": 303,
     "metadata": {},
     "output_type": "execute_result"
    }
   ],
   "source": [
    "X = np.array([\n",
    "    [\n",
    "        (i * j) * (1 + np.random.uniform(-0.1, 0.1))  # ±10% noise\n",
    "        for j in range(1, 11)\n",
    "    ]\n",
    "    for i in range(1, 5)\n",
    "]).T\n",
    "X\n",
    "X.shape  # d > n (can use alternate PCA algorithm, K = X'X)\n",
    "\n",
    "X = X - X.mean(axis=1, keepdims=True)  # center the data\n",
    "X"
   ]
  },
  {
   "cell_type": "code",
   "execution_count": 304,
   "id": "5884f731",
   "metadata": {},
   "outputs": [
    {
     "data": {
      "text/plain": [
       "((4, 10), (10, 4))"
      ]
     },
     "execution_count": 304,
     "metadata": {},
     "output_type": "execute_result"
    },
    {
     "data": {
      "text/plain": [
       "(4, 4)"
      ]
     },
     "execution_count": 304,
     "metadata": {},
     "output_type": "execute_result"
    }
   ],
   "source": [
    "X.T.shape, X.shape\n",
    "K = X.T @ X\n",
    "K.shape  # K is n * n matrix"
   ]
  },
  {
   "cell_type": "code",
   "execution_count": 305,
   "id": "73dc8225",
   "metadata": {},
   "outputs": [
    {
     "data": {
      "text/plain": [
       "array([1940.8799,   10.1291,    2.0544,    0.    ])"
      ]
     },
     "execution_count": 305,
     "metadata": {},
     "output_type": "execute_result"
    },
    {
     "data": {
      "text/plain": [
       "array([[ 0.6554,  0.2153, -0.1659, -0.7047],\n",
       "       [-0.2141, -0.1793,  0.8466, -0.4531],\n",
       "       [-0.5241,  0.8195, -0.0763, -0.2191],\n",
       "       [ 0.5   ,  0.5   ,  0.5   ,  0.5   ]])"
      ]
     },
     "execution_count": 305,
     "metadata": {},
     "output_type": "execute_result"
    },
    {
     "data": {
      "text/plain": [
       "array([0.9938, 0.9989, 1.    , 1.    ])"
      ]
     },
     "execution_count": 305,
     "metadata": {},
     "output_type": "execute_result"
    }
   ],
   "source": [
    "eigenvalues, eigenvectors = np.linalg.eig(K)\n",
    "sorted_indices = np.argsort(eigenvalues)[::-1]\n",
    "eigenvalues = eigenvalues[sorted_indices]\n",
    "eigenvectors = eigenvectors.T[sorted_indices]\n",
    "\n",
    "eigenvalues\n",
    "eigenvectors\n",
    "\n",
    "np.cumsum(eigenvalues) / sum(eigenvalues)"
   ]
  },
  {
   "cell_type": "code",
   "execution_count": 306,
   "id": "cd17eccf",
   "metadata": {},
   "outputs": [],
   "source": [
    "beta_k = eigenvectors\n",
    "n_lambda_k = eigenvalues"
   ]
  },
  {
   "cell_type": "code",
   "execution_count": 307,
   "id": "f75b845a",
   "metadata": {},
   "outputs": [
    {
     "data": {
      "text/plain": [
       "(4, 4)"
      ]
     },
     "execution_count": 307,
     "metadata": {},
     "output_type": "execute_result"
    }
   ],
   "source": [
    "alpha_k = beta_k / np.sqrt(n_lambda_k).reshape(-1, 1)\n",
    "alpha_k.shape"
   ]
  },
  {
   "cell_type": "code",
   "execution_count": 308,
   "id": "b0195f91",
   "metadata": {},
   "outputs": [
    {
     "data": {
      "text/plain": [
       "((10, 4), (4, 4))"
      ]
     },
     "execution_count": 308,
     "metadata": {},
     "output_type": "execute_result"
    },
    {
     "data": {
      "text/plain": [
       "(10, 4)"
      ]
     },
     "execution_count": 308,
     "metadata": {},
     "output_type": "execute_result"
    }
   ],
   "source": [
    "X.shape, alpha_k.shape\n",
    "W_k = X @ alpha_k\n",
    "W_k.shape"
   ]
  },
  {
   "cell_type": "code",
   "execution_count": 309,
   "id": "14356978",
   "metadata": {},
   "outputs": [
    {
     "data": {
      "text/plain": [
       "array([[0.0422, 0.0422, 0.0422, 0.0422],\n",
       "       [0.0962, 0.0962, 0.0962, 0.0962],\n",
       "       [0.1533, 0.1533, 0.1533, 0.1533],\n",
       "       [0.2117, 0.2117, 0.2117, 0.2117],\n",
       "       [0.2057, 0.2057, 0.2057, 0.2057],\n",
       "       [0.3079, 0.3079, 0.3079, 0.3079],\n",
       "       [0.3423, 0.3423, 0.3423, 0.3423],\n",
       "       [0.3302, 0.3302, 0.3302, 0.3302],\n",
       "       [0.5107, 0.5107, 0.5107, 0.5107],\n",
       "       [0.5446, 0.5446, 0.5446, 0.5446]])"
      ]
     },
     "execution_count": 309,
     "metadata": {},
     "output_type": "execute_result"
    }
   ],
   "source": [
    "W_k = W_k / np.linalg.norm(W_k, axis=0)\n",
    "W_k"
   ]
  },
  {
   "cell_type": "code",
   "execution_count": 310,
   "id": "3eaa31f9",
   "metadata": {},
   "outputs": [
    {
     "data": {
      "text/plain": [
       "(10, 10)"
      ]
     },
     "execution_count": 310,
     "metadata": {},
     "output_type": "execute_result"
    }
   ],
   "source": [
    "n = X.shape[1]\n",
    "C = X @ X.T / n\n",
    "C.shape"
   ]
  },
  {
   "cell_type": "code",
   "execution_count": 311,
   "id": "12c9a08b",
   "metadata": {},
   "outputs": [
    {
     "data": {
      "text/plain": [
       "array([[ 0.0397, -0.003 , -0.0071,  0.054 ,  0.2986,  0.9447, -0.0968,\n",
       "         0.0274, -0.0415, -0.0439],\n",
       "       [ 0.8234, -0.0917,  0.147 ,  0.1017,  0.4267, -0.1993, -0.1002,\n",
       "         0.1582, -0.121 , -0.1004],\n",
       "       [ 0.1427, -0.2425, -0.673 , -0.5491, -0.0793,  0.0387,  0.178 ,\n",
       "         0.1556, -0.2749, -0.1646],\n",
       "       [-0.4071,  0.405 , -0.0823, -0.0985,  0.5923, -0.194 , -0.0604,\n",
       "         0.4669, -0.0186, -0.2081],\n",
       "       [-0.3205, -0.6214,  0.1794,  0.316 ,  0.0346, -0.0637, -0.0854,\n",
       "         0.1527, -0.5391, -0.2294],\n",
       "       [-0.0082,  0.0802, -0.4154,  0.5294,  0.2274, -0.0585,  0.4504,\n",
       "        -0.4294,  0.0452, -0.3105],\n",
       "       [ 0.164 ,  0.484 ,  0.1762,  0.1536, -0.4918,  0.1283,  0.2642,\n",
       "         0.3255, -0.3516, -0.3557],\n",
       "       [-0.0487,  0.1957,  0.2932, -0.4309,  0.138 , -0.0423, -0.1475,\n",
       "        -0.6342, -0.3439, -0.3529],\n",
       "       [ 0.0433,  0.0163, -0.284 ,  0.168 , -0.2404, -0.0218, -0.7129,\n",
       "         0.0012,  0.2719, -0.4986],\n",
       "       [-0.0189, -0.3216,  0.3409, -0.2408,  0.0028,  0.0492,  0.368 ,\n",
       "         0.1271,  0.547 , -0.5185]])"
      ]
     },
     "execution_count": 311,
     "metadata": {},
     "output_type": "execute_result"
    }
   ],
   "source": [
    "_, eigenvectors = np.linalg.eigh(C)\n",
    "eigenvectors"
   ]
  }
 ],
 "metadata": {
  "kernelspec": {
   "display_name": "Python 3",
   "language": "python",
   "name": "python3"
  },
  "language_info": {
   "codemirror_mode": {
    "name": "ipython",
    "version": 3
   },
   "file_extension": ".py",
   "mimetype": "text/x-python",
   "name": "python",
   "nbconvert_exporter": "python",
   "pygments_lexer": "ipython3",
   "version": "3.13.3"
  }
 },
 "nbformat": 4,
 "nbformat_minor": 5
}

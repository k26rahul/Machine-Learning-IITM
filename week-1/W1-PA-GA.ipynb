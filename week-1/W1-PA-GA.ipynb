{
 "cells": [
  {
   "cell_type": "markdown",
   "id": "abace6fe",
   "metadata": {},
   "source": [
    "# PA"
   ]
  },
  {
   "cell_type": "code",
   "execution_count": 1,
   "id": "933c80d0",
   "metadata": {},
   "outputs": [],
   "source": [
    "import numpy as np"
   ]
  },
  {
   "cell_type": "code",
   "execution_count": 2,
   "id": "fb018f80",
   "metadata": {},
   "outputs": [
    {
     "data": {
      "text/plain": [
       "65.66666666666667"
      ]
     },
     "execution_count": 2,
     "metadata": {},
     "output_type": "execute_result"
    }
   ],
   "source": [
    "old = 100 * 3\n",
    "new = 100 + 3\n",
    "\n",
    "(1 - new / old) * 100"
   ]
  },
  {
   "cell_type": "code",
   "execution_count": 3,
   "id": "a566e75c",
   "metadata": {},
   "outputs": [
    {
     "data": {
      "text/plain": [
       "(4, 2)"
      ]
     },
     "execution_count": 3,
     "metadata": {},
     "output_type": "execute_result"
    },
    {
     "data": {
      "text/plain": [
       "(2, 1)"
      ]
     },
     "execution_count": 3,
     "metadata": {},
     "output_type": "execute_result"
    },
    {
     "data": {
      "text/plain": [
       "array([[ 0.        ],\n",
       "       [ 5.        ],\n",
       "       [10.        ],\n",
       "       [ 0.33333333]])"
      ]
     },
     "execution_count": 3,
     "metadata": {},
     "output_type": "execute_result"
    }
   ],
   "source": [
    "X = np.array([\n",
    "    [0, 0],\n",
    "    [3, 4],\n",
    "    [6, 8],\n",
    "    [1/5, 4/15]\n",
    "])\n",
    "\n",
    "w = np.array([3/5, 4/5]).reshape(-1, 1)\n",
    "\n",
    "X.shape\n",
    "w.shape\n",
    "\n",
    "X @ w"
   ]
  },
  {
   "cell_type": "markdown",
   "id": "4b940666",
   "metadata": {},
   "source": [
    "# GA"
   ]
  },
  {
   "cell_type": "code",
   "execution_count": 4,
   "id": "ca8fc07c",
   "metadata": {},
   "outputs": [
    {
     "data": {
      "text/plain": [
       "array([0., 0.])"
      ]
     },
     "execution_count": 4,
     "metadata": {},
     "output_type": "execute_result"
    },
    {
     "data": {
      "text/plain": [
       "array([ 1., -1.])"
      ]
     },
     "execution_count": 4,
     "metadata": {},
     "output_type": "execute_result"
    }
   ],
   "source": [
    "x = np.array([1, -1])\n",
    "w = np.array([3, 3])\n",
    "w = w / np.linalg.norm(w)\n",
    "\n",
    "x_projected = (x.T @ w) * w\n",
    "x_projected\n",
    "\n",
    "residue = x - x_projected\n",
    "residue"
   ]
  },
  {
   "cell_type": "code",
   "execution_count": 5,
   "id": "ff5040b5",
   "metadata": {},
   "outputs": [
    {
     "data": {
      "text/plain": [
       "np.float64(4.949747468305832)"
      ]
     },
     "execution_count": 5,
     "metadata": {},
     "output_type": "execute_result"
    },
    {
     "data": {
      "text/plain": [
       "array([-1.5,  1.5])"
      ]
     },
     "execution_count": 5,
     "metadata": {},
     "output_type": "execute_result"
    },
    {
     "data": {
      "text/plain": [
       "np.float64(4.499999999999999)"
      ]
     },
     "execution_count": 5,
     "metadata": {},
     "output_type": "execute_result"
    }
   ],
   "source": [
    "x = np.array([2, 5])\n",
    "w = np.array([1, 1])\n",
    "w = w / np.linalg.norm(w)\n",
    "\n",
    "x_projected = x.T @ w * w\n",
    "\n",
    "np.linalg.norm(x_projected)\n",
    "x - x_projected\n",
    "np.linalg.norm(x - x_projected)**2"
   ]
  },
  {
   "cell_type": "code",
   "execution_count": 6,
   "id": "020f7e93",
   "metadata": {},
   "outputs": [
    {
     "data": {
      "text/plain": [
       "86.26666666666667"
      ]
     },
     "execution_count": 6,
     "metadata": {},
     "output_type": "execute_result"
    }
   ],
   "source": [
    "old = 1000 * 30\n",
    "new = 1000 * 4 + (30 + 30 + 30 + 30)\n",
    "\n",
    "(1 - new/old) * 100"
   ]
  },
  {
   "cell_type": "code",
   "execution_count": 7,
   "id": "04a2f608",
   "metadata": {},
   "outputs": [
    {
     "data": {
      "text/plain": [
       "array([[ 4.5 , -0.5 ],\n",
       "       [-0.5 ,  0.25]])"
      ]
     },
     "execution_count": 7,
     "metadata": {},
     "output_type": "execute_result"
    }
   ],
   "source": [
    "X = np.array([\n",
    "    [-1, 0],\n",
    "    [-2, 0],\n",
    "    [-3, 0],\n",
    "    [-2, 1],\n",
    "\n",
    "    [1, 0],\n",
    "    [2, 0],\n",
    "    [3, 0],\n",
    "    [2, -1],\n",
    "]).T\n",
    "\n",
    "n = X.shape[1]\n",
    "C = X @ X.T / n\n",
    "C"
   ]
  },
  {
   "cell_type": "code",
   "execution_count": 8,
   "id": "1bf2b0dd",
   "metadata": {},
   "outputs": [
    {
     "data": {
      "text/plain": [
       "((2, 8), (2, 1))"
      ]
     },
     "execution_count": 8,
     "metadata": {},
     "output_type": "execute_result"
    },
    {
     "data": {
      "text/plain": [
       "np.float64(4.554721750000001)"
      ]
     },
     "execution_count": 8,
     "metadata": {},
     "output_type": "execute_result"
    }
   ],
   "source": [
    "w = np.array([-0.993, 0.115]).reshape(-1, 1)\n",
    "\n",
    "X.shape, w.shape\n",
    "\n",
    "coefficients = X.T @ w\n",
    "np.mean(coefficients ** 2)  # variance along w"
   ]
  },
  {
   "cell_type": "code",
   "execution_count": 9,
   "id": "bb71853a",
   "metadata": {},
   "outputs": [
    {
     "data": {
      "text/plain": [
       "array([0.65159845, 0.95703523, 0.99776013, 0.99979638, 1.        ])"
      ]
     },
     "execution_count": 9,
     "metadata": {},
     "output_type": "execute_result"
    }
   ],
   "source": [
    "eigenvalues = [3.2, 1.5, 0.2, 0.01, 0.001]\n",
    "np.cumsum(eigenvalues) / np.sum(eigenvalues)"
   ]
  }
 ],
 "metadata": {
  "kernelspec": {
   "display_name": "Python 3",
   "language": "python",
   "name": "python3"
  },
  "language_info": {
   "codemirror_mode": {
    "name": "ipython",
    "version": 3
   },
   "file_extension": ".py",
   "mimetype": "text/x-python",
   "name": "python",
   "nbconvert_exporter": "python",
   "pygments_lexer": "ipython3",
   "version": "3.13.3"
  }
 },
 "nbformat": 4,
 "nbformat_minor": 5
}

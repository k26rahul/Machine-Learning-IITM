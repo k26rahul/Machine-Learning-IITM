{
 "cells": [
  {
   "cell_type": "code",
   "execution_count": 28,
   "id": "125b595e",
   "metadata": {},
   "outputs": [],
   "source": [
    "import numpy as np\n",
    "import matplotlib.pyplot as plt\n",
    "\n",
    "np.set_printoptions(precision=4, suppress=True)"
   ]
  },
  {
   "cell_type": "code",
   "execution_count": 29,
   "id": "b07f1617",
   "metadata": {},
   "outputs": [
    {
     "data": {
      "text/plain": [
       "(2, 500)"
      ]
     },
     "execution_count": 29,
     "metadata": {},
     "output_type": "execute_result"
    },
    {
     "data": {
      "image/png": "[encoded data removed]",
      "text/plain": [
       "<Figure size 640x480 with 1 Axes>"
      ]
     },
     "metadata": {},
     "output_type": "display_data"
    }
   ],
   "source": [
    "np.random.seed(0)\n",
    "\n",
    "mean = [100, 150]  # center of data\n",
    "cov = [[400, 350],\n",
    "       [350, 400]]  # spread of data\n",
    "\n",
    "X = np.random.multivariate_normal(mean, cov, size=500).T\n",
    "X = X - X.mean(axis=1, keepdims=True)\n",
    "\n",
    "X.shape\n",
    "_ = plt.scatter(*X)"
   ]
  },
  {
   "cell_type": "markdown",
   "id": "b023135a",
   "metadata": {},
   "source": [
    "# Finding PCs using `C = XX'/n` approach"
   ]
  },
  {
   "cell_type": "code",
   "execution_count": 30,
   "id": "17b181de",
   "metadata": {},
   "outputs": [
    {
     "data": {
      "text/plain": [
       "(2, 2)"
      ]
     },
     "execution_count": 30,
     "metadata": {},
     "output_type": "execute_result"
    }
   ],
   "source": [
    "n = X.shape[1]\n",
    "C = X @ X.T / n\n",
    "C.shape"
   ]
  },
  {
   "cell_type": "code",
   "execution_count": 31,
   "id": "4de2d676",
   "metadata": {},
   "outputs": [
    {
     "data": {
      "text/plain": [
       "array([710.85  ,  49.9875])"
      ]
     },
     "execution_count": 31,
     "metadata": {},
     "output_type": "execute_result"
    },
    {
     "data": {
      "text/plain": [
       "array([[ 0.705 , -0.7092],\n",
       "       [ 0.7092,  0.705 ]])"
      ]
     },
     "execution_count": 31,
     "metadata": {},
     "output_type": "execute_result"
    }
   ],
   "source": [
    "eigenvalues, eigenvectors = np.linalg.eigh(C)\n",
    "sorted_indices = np.argsort(eigenvalues)[::-1]\n",
    "eigenvalues = eigenvalues[sorted_indices]\n",
    "eigenvectors = eigenvectors[:, sorted_indices]\n",
    "\n",
    "eigenvalues\n",
    "eigenvectors"
   ]
  },
  {
   "cell_type": "markdown",
   "id": "58b9103c",
   "metadata": {},
   "source": [
    "# Finding PCs using `K = X'X` approach"
   ]
  },
  {
   "cell_type": "code",
   "execution_count": 32,
   "id": "acdea307",
   "metadata": {},
   "outputs": [
    {
     "data": {
      "text/plain": [
       "(500, 500)"
      ]
     },
     "execution_count": 32,
     "metadata": {},
     "output_type": "execute_result"
    }
   ],
   "source": [
    "K = X.T @ X\n",
    "K.shape"
   ]
  },
  {
   "cell_type": "code",
   "execution_count": 33,
   "id": "7ccb9771",
   "metadata": {},
   "outputs": [
    {
     "data": {
      "text/plain": [
       "(500,)"
      ]
     },
     "execution_count": 33,
     "metadata": {},
     "output_type": "execute_result"
    },
    {
     "data": {
      "text/plain": [
       "(500, 500)"
      ]
     },
     "execution_count": 33,
     "metadata": {},
     "output_type": "execute_result"
    }
   ],
   "source": [
    "n_lambdas, betas = np.linalg.eigh(K)\n",
    "sorted_indices = np.argsort(n_lambdas)[::-1]\n",
    "n_lambdas = n_lambdas[sorted_indices]\n",
    "betas = betas[:, sorted_indices]\n",
    "\n",
    "n_lambdas.shape\n",
    "betas.shape"
   ]
  },
  {
   "cell_type": "code",
   "execution_count": 34,
   "id": "d1bb5325",
   "metadata": {},
   "outputs": [
    {
     "data": {
      "text/plain": [
       "(2,)"
      ]
     },
     "execution_count": 34,
     "metadata": {},
     "output_type": "execute_result"
    },
    {
     "data": {
      "text/plain": [
       "(500, 2)"
      ]
     },
     "execution_count": 34,
     "metadata": {},
     "output_type": "execute_result"
    }
   ],
   "source": [
    "count_nonzero = min(X.shape)\n",
    "n_lambdas = n_lambdas[:count_nonzero]\n",
    "betas = betas[:, :count_nonzero]\n",
    "\n",
    "n_lambdas.shape\n",
    "betas.shape"
   ]
  },
  {
   "cell_type": "code",
   "execution_count": 35,
   "id": "113f4c71",
   "metadata": {},
   "outputs": [
    {
     "data": {
      "text/plain": [
       "(500, 2)"
      ]
     },
     "execution_count": 35,
     "metadata": {},
     "output_type": "execute_result"
    }
   ],
   "source": [
    "alphas = betas / np.sqrt(n_lambdas).reshape(1, -1)\n",
    "alphas.shape"
   ]
  },
  {
   "cell_type": "code",
   "execution_count": 36,
   "id": "dbd2d11c",
   "metadata": {},
   "outputs": [
    {
     "data": {
      "text/plain": [
       "array([710.85  ,  49.9875])"
      ]
     },
     "execution_count": 36,
     "metadata": {},
     "output_type": "execute_result"
    },
    {
     "data": {
      "text/plain": [
       "array([[ 0.705 , -0.7092],\n",
       "       [ 0.7092,  0.705 ]])"
      ]
     },
     "execution_count": 36,
     "metadata": {},
     "output_type": "execute_result"
    },
    {
     "data": {
      "text/plain": [
       "array([710.85  ,  49.9875])"
      ]
     },
     "execution_count": 36,
     "metadata": {},
     "output_type": "execute_result"
    },
    {
     "data": {
      "text/plain": [
       "array([[ 0.705 ,  0.7092],\n",
       "       [ 0.7092, -0.705 ]])"
      ]
     },
     "execution_count": 36,
     "metadata": {},
     "output_type": "execute_result"
    }
   ],
   "source": [
    "eigenvalues_ = n_lambdas / n\n",
    "eigenvectors_ = X @ alphas\n",
    "\n",
    "# using `C = XX'/n` approach\n",
    "eigenvalues\n",
    "eigenvectors\n",
    "\n",
    "# using `K = X'X` approach\n",
    "eigenvalues_\n",
    "eigenvectors_"
   ]
  },
  {
   "cell_type": "markdown",
   "id": "52cf0c52",
   "metadata": {},
   "source": [
    "# Rest is same for both approaches"
   ]
  },
  {
   "cell_type": "code",
   "execution_count": 37,
   "id": "445ee606",
   "metadata": {},
   "outputs": [
    {
     "data": {
      "text/plain": [
       "array([0.9343, 1.    ])"
      ]
     },
     "execution_count": 37,
     "metadata": {},
     "output_type": "execute_result"
    }
   ],
   "source": [
    "np.cumsum(eigenvalues) / sum(eigenvalues)"
   ]
  },
  {
   "cell_type": "code",
   "execution_count": 38,
   "id": "1887af8d",
   "metadata": {},
   "outputs": [
    {
     "data": {
      "text/plain": [
       "array([[0.705 ],\n",
       "       [0.7092]])"
      ]
     },
     "execution_count": 38,
     "metadata": {},
     "output_type": "execute_result"
    }
   ],
   "source": [
    "k = 1\n",
    "W = eigenvectors[:, :k]\n",
    "W"
   ]
  },
  {
   "cell_type": "code",
   "execution_count": 39,
   "id": "adb03e25",
   "metadata": {},
   "outputs": [
    {
     "data": {
      "text/plain": [
       "(500, 1)"
      ]
     },
     "execution_count": 39,
     "metadata": {},
     "output_type": "execute_result"
    }
   ],
   "source": [
    "coefficients = X.T @ W\n",
    "coefficients.shape"
   ]
  },
  {
   "cell_type": "code",
   "execution_count": 40,
   "id": "43041468",
   "metadata": {},
   "outputs": [
    {
     "data": {
      "text/plain": [
       "(2, 500)"
      ]
     },
     "execution_count": 40,
     "metadata": {},
     "output_type": "execute_result"
    }
   ],
   "source": [
    "X_ = (coefficients @ W.T).T\n",
    "X_.shape"
   ]
  },
  {
   "cell_type": "code",
   "execution_count": 41,
   "id": "3c05ee38",
   "metadata": {},
   "outputs": [
    {
     "data": {
      "text/plain": [
       "np.float64(4.999374289343242)"
      ]
     },
     "execution_count": 41,
     "metadata": {},
     "output_type": "execute_result"
    }
   ],
   "source": [
    "np.sqrt(np.mean((X - X_)**2))  # rmse"
   ]
  },
  {
   "cell_type": "markdown",
   "id": "7cc80db1",
   "metadata": {},
   "source": [
    "### Plotting the reconstructed data"
   ]
  },
  {
   "cell_type": "code",
   "execution_count": 42,
   "id": "fcd3c32c",
   "metadata": {},
   "outputs": [
    {
     "data": {
      "image/png": "[encoded data removed]",
      "text/plain": [
       "<Figure size 640x480 with 1 Axes>"
      ]
     },
     "metadata": {},
     "output_type": "display_data"
    }
   ],
   "source": [
    "_ = plt.scatter(*X, color='k')\n",
    "_ = plt.scatter(*X_, marker=\"+\", s=200)"
   ]
  },
  {
   "cell_type": "markdown",
   "id": "335f5041",
   "metadata": {},
   "source": [
    "### Plotting only coefficients"
   ]
  },
  {
   "cell_type": "code",
   "execution_count": 43,
   "id": "84cf24a4",
   "metadata": {},
   "outputs": [
    {
     "data": {
      "image/png": "[encoded data removed]",
      "text/plain": [
       "<Figure size 640x480 with 1 Axes>"
      ]
     },
     "metadata": {},
     "output_type": "display_data"
    }
   ],
   "source": [
    "if k == 1:\n",
    "  _ = plt.scatter(coefficients.T[0], [0]*n)\n",
    "\n",
    "if k == 2:\n",
    "  _ = plt.scatter(*coefficients.T)\n",
    "\n",
    "_ = plt.ylim((-80, 80))"
   ]
  },
  {
   "cell_type": "markdown",
   "id": "53ef599f",
   "metadata": {},
   "source": [
    "# Non linear relationships (Kernel PCA)"
   ]
  },
  {
   "cell_type": "markdown",
   "id": "24f38884",
   "metadata": {},
   "source": [
    "$$\n",
    "K_{ij} = \\exp\\left(-\\gamma \\|x_i - x_j\\|^2\\right)\n",
    "$$\n",
    "\n",
    "$$\n",
    "\\|x_i - x_j\\|^2 = \\|x_i\\|^2 + \\|x_j\\|^2 - 2x_i^\\top x_j\n",
    "$$\n",
    "\n",
    "$$\n",
    "\\gamma = \\frac{1}{2 \\sigma^2}\n",
    "$$\n"
   ]
  },
  {
   "cell_type": "code",
   "execution_count": 44,
   "id": "decf30a9",
   "metadata": {},
   "outputs": [],
   "source": [
    "def rbf_kernel(X, gamma=1e-4):\n",
    "  sq_dists = np.sum(X**2, axis=0, keepdims=True) + \\\n",
    "      np.sum(X**2, axis=0, keepdims=True).T - 2 * X.T @ X\n",
    "  return np.exp(-gamma * sq_dists)"
   ]
  },
  {
   "cell_type": "code",
   "execution_count": 45,
   "id": "e12e814b",
   "metadata": {},
   "outputs": [
    {
     "data": {
      "text/plain": [
       "array([19.4536, 19.5549])"
      ]
     },
     "execution_count": 45,
     "metadata": {},
     "output_type": "execute_result"
    },
    {
     "data": {
      "text/plain": [
       "np.float64(19.504260518248557)"
      ]
     },
     "execution_count": 45,
     "metadata": {},
     "output_type": "execute_result"
    }
   ],
   "source": [
    "np.std(X, axis=1)\n",
    "np.mean(np.std(X, axis=1))"
   ]
  },
  {
   "cell_type": "code",
   "execution_count": 46,
   "id": "8d164ae4",
   "metadata": {},
   "outputs": [
    {
     "data": {
      "text/plain": [
       "np.float64(0.0013143499894001838)"
      ]
     },
     "execution_count": 46,
     "metadata": {},
     "output_type": "execute_result"
    }
   ],
   "source": [
    "sigma = np.mean(np.std(X, axis=1))\n",
    "gamma = 1 / (2 * sigma**2)\n",
    "gamma"
   ]
  },
  {
   "cell_type": "markdown",
   "id": "b7025737",
   "metadata": {},
   "source": [
    "### Kernel PCA with RBF kernel"
   ]
  },
  {
   "cell_type": "code",
   "execution_count": 87,
   "id": "0ab9887e",
   "metadata": {},
   "outputs": [
    {
     "data": {
      "text/plain": [
       "(500, 500)"
      ]
     },
     "execution_count": 87,
     "metadata": {},
     "output_type": "execute_result"
    }
   ],
   "source": [
    "K = rbf_kernel(X, gamma=1e-6)\n",
    "K.shape"
   ]
  },
  {
   "cell_type": "code",
   "execution_count": 88,
   "id": "d4d2985f",
   "metadata": {},
   "outputs": [
    {
     "data": {
      "text/plain": [
       "(500, 500)"
      ]
     },
     "execution_count": 88,
     "metadata": {},
     "output_type": "execute_result"
    }
   ],
   "source": [
    "# center the kernel matrix\n",
    "n = K.shape[0]\n",
    "one_n = np.ones((n, n)) / n\n",
    "\n",
    "K = K - one_n @ K - K @ one_n + one_n @ K @ one_n\n",
    "K.shape"
   ]
  },
  {
   "cell_type": "code",
   "execution_count": 89,
   "id": "b2f901f1",
   "metadata": {},
   "outputs": [
    {
     "data": {
      "text/plain": [
       "(500,)"
      ]
     },
     "execution_count": 89,
     "metadata": {},
     "output_type": "execute_result"
    },
    {
     "data": {
      "text/plain": [
       "(500, 500)"
      ]
     },
     "execution_count": 89,
     "metadata": {},
     "output_type": "execute_result"
    }
   ],
   "source": [
    "n_lambdas, betas = np.linalg.eigh(K)\n",
    "sorted_indices = np.argsort(n_lambdas)[::-1]\n",
    "n_lambdas = n_lambdas[sorted_indices]\n",
    "betas = betas[:, sorted_indices]\n",
    "\n",
    "n_lambdas.shape\n",
    "betas.shape"
   ]
  },
  {
   "cell_type": "code",
   "execution_count": 90,
   "id": "0f3b1006",
   "metadata": {},
   "outputs": [
    {
     "data": {
      "text/plain": [
       "array([0.9323, 0.998 , 0.9999, 1.    , 1.    , 1.    , 1.    , 1.    ,\n",
       "       1.    , 1.    , 1.    , 1.    , 1.    , 1.    , 1.    , 1.    ,\n",
       "       1.    , 1.    , 1.    , 1.    ])"
      ]
     },
     "execution_count": 90,
     "metadata": {},
     "output_type": "execute_result"
    },
    {
     "data": {
      "text/plain": [
       "np.int64(2)"
      ]
     },
     "execution_count": 90,
     "metadata": {},
     "output_type": "execute_result"
    }
   ],
   "source": [
    "(np.cumsum(n_lambdas) / sum(n_lambdas))[:20]\n",
    "k = np.argmax(np.cumsum(n_lambdas) / sum(n_lambdas) >= 0.99) + 1\n",
    "k"
   ]
  },
  {
   "cell_type": "code",
   "execution_count": 91,
   "id": "bcc5bbdc",
   "metadata": {},
   "outputs": [
    {
     "data": {
      "text/plain": [
       "(2,)"
      ]
     },
     "execution_count": 91,
     "metadata": {},
     "output_type": "execute_result"
    },
    {
     "data": {
      "text/plain": [
       "(500, 2)"
      ]
     },
     "execution_count": 91,
     "metadata": {},
     "output_type": "execute_result"
    }
   ],
   "source": [
    "n_lambdas = n_lambdas[:k]\n",
    "betas = betas[:, :k]\n",
    "\n",
    "n_lambdas.shape\n",
    "betas.shape"
   ]
  },
  {
   "cell_type": "code",
   "execution_count": 92,
   "id": "9ebb5f7c",
   "metadata": {},
   "outputs": [
    {
     "data": {
      "text/plain": [
       "(500, 2)"
      ]
     },
     "execution_count": 92,
     "metadata": {},
     "output_type": "execute_result"
    }
   ],
   "source": [
    "alphas = betas / np.sqrt(n_lambdas).reshape(1, -1)\n",
    "alphas.shape"
   ]
  },
  {
   "cell_type": "code",
   "execution_count": 93,
   "id": "699b5fc3",
   "metadata": {},
   "outputs": [
    {
     "data": {
      "text/plain": [
       "(500, 2)"
      ]
     },
     "execution_count": 93,
     "metadata": {},
     "output_type": "execute_result"
    }
   ],
   "source": [
    "coefficients = K @ alphas\n",
    "coefficients.shape  # n * k"
   ]
  },
  {
   "cell_type": "code",
   "execution_count": 94,
   "id": "c0c7ae05",
   "metadata": {},
   "outputs": [
    {
     "data": {
      "image/png": "[encoded data removed]",
      "text/plain": [
       "<Figure size 640x480 with 1 Axes>"
      ]
     },
     "metadata": {},
     "output_type": "display_data"
    }
   ],
   "source": [
    "_ = plt.scatter(*coefficients.T[:1], [0]*n)  # plotting coefficients along top 1 PCs"
   ]
  },
  {
   "cell_type": "code",
   "execution_count": 96,
   "id": "2d198620",
   "metadata": {},
   "outputs": [
    {
     "data": {
      "image/png": "[encoded data removed]",
      "text/plain": [
       "<Figure size 640x480 with 1 Axes>"
      ]
     },
     "metadata": {},
     "output_type": "display_data"
    }
   ],
   "source": [
    "_ = plt.scatter(*coefficients.T[:2])  # plotting coefficients along top 2 PCs\n",
    "_ = plt.axis(\"equal\")"
   ]
  }
 ],
 "metadata": {
  "kernelspec": {
   "display_name": "Python 3",
   "language": "python",
   "name": "python3"
  },
  "language_info": {
   "codemirror_mode": {
    "name": "ipython",
    "version": 3
   },
   "file_extension": ".py",
   "mimetype": "text/x-python",
   "name": "python",
   "nbconvert_exporter": "python",
   "pygments_lexer": "ipython3",
   "version": "3.13.3"
  }
 },
 "nbformat": 4,
 "nbformat_minor": 5
}

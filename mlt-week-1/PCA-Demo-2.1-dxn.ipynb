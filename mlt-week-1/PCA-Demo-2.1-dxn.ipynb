{
 "cells": [
  {
   "cell_type": "code",
   "execution_count": 213,
   "id": "377efc78",
   "metadata": {},
   "outputs": [],
   "source": [
    "import numpy as np\n",
    "np.set_printoptions(precision=4, suppress=True)"
   ]
  },
  {
   "cell_type": "markdown",
   "id": "fa9b58d2",
   "metadata": {},
   "source": [
    "# centering the data"
   ]
  },
  {
   "cell_type": "code",
   "execution_count": 214,
   "id": "c0b61b5e",
   "metadata": {},
   "outputs": [
    {
     "data": {
      "text/plain": [
       "array([[1, 6, 2, 5, 0],\n",
       "       [5, 2, 0, 2, 2],\n",
       "       [2, 1, 0, 0, 1]])"
      ]
     },
     "execution_count": 214,
     "metadata": {},
     "output_type": "execute_result"
    },
    {
     "data": {
      "text/plain": [
       "(3, 5)"
      ]
     },
     "execution_count": 214,
     "metadata": {},
     "output_type": "execute_result"
    }
   ],
   "source": [
    "x1 = np.array([1, 5, 2])\n",
    "x2 = np.array([6, 2, 1])\n",
    "x3 = np.array([2, 0, 0])\n",
    "x4 = np.array([5, 2, 0])\n",
    "x5 = np.array([0, 2, 1])\n",
    "\n",
    "X = np.column_stack([x1, x2, x3, x4, x5])  # d * n\n",
    "\n",
    "X\n",
    "X.shape"
   ]
  },
  {
   "cell_type": "code",
   "execution_count": 215,
   "id": "8fba97bd",
   "metadata": {},
   "outputs": [
    {
     "data": {
      "text/plain": [
       "array([[2.8],\n",
       "       [2.2],\n",
       "       [0.8]])"
      ]
     },
     "execution_count": 215,
     "metadata": {},
     "output_type": "execute_result"
    },
    {
     "data": {
      "text/plain": [
       "(3, 1)"
      ]
     },
     "execution_count": 215,
     "metadata": {},
     "output_type": "execute_result"
    }
   ],
   "source": [
    "X_mean = X.mean(axis=1, keepdims=True)\n",
    "\n",
    "X_mean\n",
    "X_mean.shape"
   ]
  },
  {
   "cell_type": "code",
   "execution_count": 216,
   "id": "2271de62",
   "metadata": {},
   "outputs": [
    {
     "data": {
      "text/plain": [
       "array([[ 1, 18, 28],\n",
       "       [ 1, 18, 28],\n",
       "       [ 1, 18, 28]])"
      ]
     },
     "execution_count": 216,
     "metadata": {},
     "output_type": "execute_result"
    },
    {
     "data": {
      "text/plain": [
       "array([[ 1, 18, 28],\n",
       "       [ 1, 18, 28],\n",
       "       [ 1, 18, 28]])"
      ]
     },
     "execution_count": 216,
     "metadata": {},
     "output_type": "execute_result"
    },
    {
     "data": {
      "text/plain": [
       "array([[ 1, 11, 21],\n",
       "       [ 8, 18, 28],\n",
       "       [ 8, 18, 28]])"
      ]
     },
     "execution_count": 216,
     "metadata": {},
     "output_type": "execute_result"
    }
   ],
   "source": [
    "a = np.array([\n",
    "    [10, 20, 30],\n",
    "    [10, 20, 30],\n",
    "    [10, 20, 30],\n",
    "])\n",
    "\n",
    "b = np.array([9, 2, 2])\n",
    "a - b\n",
    "\n",
    "b = np.array([[9, 2, 2]])\n",
    "a - b\n",
    "\n",
    "b = np.array([[9], [2], [2]])\n",
    "a - b"
   ]
  },
  {
   "cell_type": "code",
   "execution_count": 217,
   "id": "03b224c0",
   "metadata": {},
   "outputs": [
    {
     "data": {
      "text/plain": [
       "array([[-1.8,  3.2, -0.8,  2.2, -2.8],\n",
       "       [ 2.8, -0.2, -2.2, -0.2, -0.2],\n",
       "       [ 1.2,  0.2, -0.8, -0.8,  0.2]])"
      ]
     },
     "execution_count": 217,
     "metadata": {},
     "output_type": "execute_result"
    },
    {
     "data": {
      "text/plain": [
       "(3, 5)"
      ]
     },
     "execution_count": 217,
     "metadata": {},
     "output_type": "execute_result"
    }
   ],
   "source": [
    "X_centered = X - X_mean\n",
    "\n",
    "X_centered\n",
    "X_centered.shape"
   ]
  },
  {
   "cell_type": "markdown",
   "id": "e06bf8b3",
   "metadata": {},
   "source": [
    "# calculating `C` the covariance matrix"
   ]
  },
  {
   "cell_type": "code",
   "execution_count": 218,
   "id": "8a8b4e69",
   "metadata": {},
   "outputs": [
    {
     "data": {
      "text/plain": [
       "((3, 5), (5, 3))"
      ]
     },
     "execution_count": 218,
     "metadata": {},
     "output_type": "execute_result"
    },
    {
     "data": {
      "text/plain": [
       "((5, 3), (3, 5))"
      ]
     },
     "execution_count": 218,
     "metadata": {},
     "output_type": "execute_result"
    }
   ],
   "source": [
    "X_centered.shape, X_centered.T.shape\n",
    "X_centered.T.shape, X_centered.shape"
   ]
  },
  {
   "cell_type": "code",
   "execution_count": 219,
   "id": "1651cdb1",
   "metadata": {},
   "outputs": [
    {
     "data": {
      "text/plain": [
       "array([[ 5.36, -0.76, -0.64],\n",
       "       [-0.76,  2.56,  1.04],\n",
       "       [-0.64,  1.04,  0.56]])"
      ]
     },
     "execution_count": 219,
     "metadata": {},
     "output_type": "execute_result"
    },
    {
     "data": {
      "text/plain": [
       "(3, 3)"
      ]
     },
     "execution_count": 219,
     "metadata": {},
     "output_type": "execute_result"
    }
   ],
   "source": [
    "C = 1/5 * X_centered @ X_centered.T\n",
    "\n",
    "C\n",
    "C.shape"
   ]
  },
  {
   "cell_type": "markdown",
   "id": "4c2688c2",
   "metadata": {},
   "source": [
    "# calculating eigenvalues and eigenvectors"
   ]
  },
  {
   "cell_type": "code",
   "execution_count": 220,
   "id": "dc49c2f0",
   "metadata": {},
   "outputs": [
    {
     "data": {
      "text/plain": [
       "array([5.7087, 2.6712, 0.1001])"
      ]
     },
     "execution_count": 220,
     "metadata": {},
     "output_type": "execute_result"
    },
    {
     "data": {
      "text/plain": [
       "array([[ 0.9424, -0.2852, -0.1748],\n",
       "       [-0.3293, -0.8828, -0.335 ],\n",
       "       [ 0.0587, -0.3733,  0.9259]])"
      ]
     },
     "execution_count": 220,
     "metadata": {},
     "output_type": "execute_result"
    }
   ],
   "source": [
    "eigenvalues, eigenvectors = np.linalg.eig(C)\n",
    "\n",
    "sorted_indices = np.argsort(eigenvalues)[::-1]\n",
    "eigenvalues = eigenvalues[sorted_indices]\n",
    "eigenvectors = eigenvectors.T[sorted_indices]\n",
    "\n",
    "eigenvalues\n",
    "eigenvectors"
   ]
  },
  {
   "cell_type": "code",
   "execution_count": 221,
   "id": "f5c2d564",
   "metadata": {},
   "outputs": [
    {
     "name": "stdout",
     "output_type": "stream",
     "text": [
      "Eigenvalue 1: 5.7087\n",
      "Eigenvector 1: [ 0.9424 -0.2852 -0.1748]\n",
      "Variance explained: 67.32%\n",
      "\n",
      "Eigenvalue 2: 2.6712\n",
      "Eigenvector 2: [-0.3293 -0.8828 -0.335 ]\n",
      "Variance explained: 31.50%\n",
      "\n",
      "Eigenvalue 3: 0.1001\n",
      "Eigenvector 3: [ 0.0587 -0.3733  0.9259]\n",
      "Variance explained: 1.18%\n",
      "\n"
     ]
    }
   ],
   "source": [
    "for i in range(3):\n",
    "  print(f\"Eigenvalue {i+1}: {eigenvalues[i]:.4f}\")\n",
    "  print(f\"Eigenvector {i+1}: {eigenvectors[i]}\")\n",
    "  print(f\"Variance explained: {eigenvalues[i] / np.sum(eigenvalues) * 100:.2f}%\\n\")"
   ]
  },
  {
   "cell_type": "markdown",
   "id": "bc58f7b8",
   "metadata": {},
   "source": [
    "# projecting the data on PC1"
   ]
  },
  {
   "cell_type": "code",
   "execution_count": 222,
   "id": "2d6019c1",
   "metadata": {},
   "outputs": [
    {
     "data": {
      "text/plain": [
       "array([[ 0.9424, -0.2852, -0.1748]])"
      ]
     },
     "execution_count": 222,
     "metadata": {},
     "output_type": "execute_result"
    },
    {
     "data": {
      "text/plain": [
       "(1, 3)"
      ]
     },
     "execution_count": 222,
     "metadata": {},
     "output_type": "execute_result"
    },
    {
     "data": {
      "text/plain": [
       "(3, 5)"
      ]
     },
     "execution_count": 222,
     "metadata": {},
     "output_type": "execute_result"
    }
   ],
   "source": [
    "W = eigenvectors[[0]]\n",
    "\n",
    "W\n",
    "W.shape\n",
    "X_centered.shape"
   ]
  },
  {
   "cell_type": "code",
   "execution_count": 223,
   "id": "cfcb040d",
   "metadata": {},
   "outputs": [
    {
     "data": {
      "text/plain": [
       "array([[-2.7046,  3.0378,  0.0133,  2.2701, -2.6166]])"
      ]
     },
     "execution_count": 223,
     "metadata": {},
     "output_type": "execute_result"
    },
    {
     "data": {
      "text/plain": [
       "(1, 5)"
      ]
     },
     "execution_count": 223,
     "metadata": {},
     "output_type": "execute_result"
    }
   ],
   "source": [
    "X_transformed = W @ X_centered\n",
    "\n",
    "X_transformed\n",
    "X_transformed.shape"
   ]
  },
  {
   "cell_type": "markdown",
   "id": "7ebbc216",
   "metadata": {},
   "source": [
    "#### reconstructing orig data"
   ]
  },
  {
   "cell_type": "code",
   "execution_count": 224,
   "id": "0ead22a3",
   "metadata": {},
   "outputs": [
    {
     "data": {
      "text/plain": [
       "(1, 3)"
      ]
     },
     "execution_count": 224,
     "metadata": {},
     "output_type": "execute_result"
    },
    {
     "data": {
      "text/plain": [
       "(1, 5)"
      ]
     },
     "execution_count": 224,
     "metadata": {},
     "output_type": "execute_result"
    },
    {
     "data": {
      "text/plain": [
       "(3, 5)"
      ]
     },
     "execution_count": 224,
     "metadata": {},
     "output_type": "execute_result"
    }
   ],
   "source": [
    "W.shape\n",
    "X_transformed.shape\n",
    "X.shape"
   ]
  },
  {
   "cell_type": "code",
   "execution_count": 225,
   "id": "d39da9a6",
   "metadata": {},
   "outputs": [
    {
     "data": {
      "text/plain": [
       "array([[0.2512, 5.6628, 2.8125, 4.9394, 0.3341],\n",
       "       [2.9713, 1.3337, 2.1962, 1.5526, 2.9462],\n",
       "       [1.2726, 0.2691, 0.7977, 0.4033, 1.2573]])"
      ]
     },
     "execution_count": 225,
     "metadata": {},
     "output_type": "execute_result"
    },
    {
     "data": {
      "text/plain": [
       "(3, 5)"
      ]
     },
     "execution_count": 225,
     "metadata": {},
     "output_type": "execute_result"
    },
    {
     "data": {
      "text/plain": [
       "array([[1, 6, 2, 5, 0],\n",
       "       [5, 2, 0, 2, 2],\n",
       "       [2, 1, 0, 0, 1]])"
      ]
     },
     "execution_count": 225,
     "metadata": {},
     "output_type": "execute_result"
    },
    {
     "data": {
      "text/plain": [
       "(3, 5)"
      ]
     },
     "execution_count": 225,
     "metadata": {},
     "output_type": "execute_result"
    }
   ],
   "source": [
    "X_reconstructed = W.T @ X_transformed + X_mean\n",
    "\n",
    "X_reconstructed\n",
    "X_reconstructed.shape\n",
    "\n",
    "X\n",
    "X.shape"
   ]
  },
  {
   "cell_type": "code",
   "execution_count": 226,
   "id": "e2510efc",
   "metadata": {},
   "outputs": [
    {
     "data": {
      "text/plain": [
       "np.float64(0.9237776494600244)"
      ]
     },
     "execution_count": 226,
     "metadata": {},
     "output_type": "execute_result"
    }
   ],
   "source": [
    "np.mean((X - X_reconstructed) ** 2)"
   ]
  },
  {
   "cell_type": "markdown",
   "id": "17d130fd",
   "metadata": {},
   "source": [
    "# projecting the data on PC1 and PC2"
   ]
  },
  {
   "cell_type": "code",
   "execution_count": 227,
   "id": "fe0a52ed",
   "metadata": {},
   "outputs": [
    {
     "data": {
      "text/plain": [
       "array([[ 0.9424, -0.2852, -0.1748],\n",
       "       [-0.3293, -0.8828, -0.335 ]])"
      ]
     },
     "execution_count": 227,
     "metadata": {},
     "output_type": "execute_result"
    },
    {
     "data": {
      "text/plain": [
       "(2, 3)"
      ]
     },
     "execution_count": 227,
     "metadata": {},
     "output_type": "execute_result"
    },
    {
     "data": {
      "text/plain": [
       "(3, 5)"
      ]
     },
     "execution_count": 227,
     "metadata": {},
     "output_type": "execute_result"
    }
   ],
   "source": [
    "W = eigenvectors[:2]\n",
    "\n",
    "W\n",
    "W.shape\n",
    "X_centered.shape"
   ]
  },
  {
   "cell_type": "code",
   "execution_count": 228,
   "id": "d2378df0",
   "metadata": {},
   "outputs": [
    {
     "data": {
      "text/plain": [
       "array([[-2.7046,  3.0378,  0.0133,  2.2701, -2.6166],\n",
       "       [-2.2812, -0.9441,  2.4736, -0.2798,  1.0315]])"
      ]
     },
     "execution_count": 228,
     "metadata": {},
     "output_type": "execute_result"
    },
    {
     "data": {
      "text/plain": [
       "(2, 5)"
      ]
     },
     "execution_count": 228,
     "metadata": {},
     "output_type": "execute_result"
    }
   ],
   "source": [
    "X_transformed = W @ X_centered\n",
    "\n",
    "X_transformed\n",
    "X_transformed.shape"
   ]
  },
  {
   "cell_type": "markdown",
   "id": "d87de850",
   "metadata": {},
   "source": [
    "#### reconstructing orig data"
   ]
  },
  {
   "cell_type": "code",
   "execution_count": 229,
   "id": "fdc1644a",
   "metadata": {},
   "outputs": [
    {
     "data": {
      "text/plain": [
       "(2, 3)"
      ]
     },
     "execution_count": 229,
     "metadata": {},
     "output_type": "execute_result"
    },
    {
     "data": {
      "text/plain": [
       "(2, 5)"
      ]
     },
     "execution_count": 229,
     "metadata": {},
     "output_type": "execute_result"
    },
    {
     "data": {
      "text/plain": [
       "(3, 5)"
      ]
     },
     "execution_count": 229,
     "metadata": {},
     "output_type": "execute_result"
    }
   ],
   "source": [
    "W.shape\n",
    "X_transformed.shape\n",
    "X.shape"
   ]
  },
  {
   "cell_type": "code",
   "execution_count": 230,
   "id": "ea1b7261",
   "metadata": {},
   "outputs": [
    {
     "data": {
      "text/plain": [
       "array([[ 1.0023,  5.9737,  1.998 ,  5.0315, -0.0056],\n",
       "       [ 4.9851,  2.1671,  0.0125,  1.7996,  2.0356],\n",
       "       [ 2.0369,  0.5855, -0.0311,  0.497 ,  0.9117]])"
      ]
     },
     "execution_count": 230,
     "metadata": {},
     "output_type": "execute_result"
    },
    {
     "data": {
      "text/plain": [
       "(3, 5)"
      ]
     },
     "execution_count": 230,
     "metadata": {},
     "output_type": "execute_result"
    },
    {
     "data": {
      "text/plain": [
       "array([[1, 6, 2, 5, 0],\n",
       "       [5, 2, 0, 2, 2],\n",
       "       [2, 1, 0, 0, 1]])"
      ]
     },
     "execution_count": 230,
     "metadata": {},
     "output_type": "execute_result"
    },
    {
     "data": {
      "text/plain": [
       "(3, 5)"
      ]
     },
     "execution_count": 230,
     "metadata": {},
     "output_type": "execute_result"
    }
   ],
   "source": [
    "X_reconstructed = W.T @ X_transformed + X_mean\n",
    "\n",
    "X_reconstructed\n",
    "X_reconstructed.shape\n",
    "\n",
    "X\n",
    "X.shape"
   ]
  },
  {
   "cell_type": "code",
   "execution_count": 231,
   "id": "334f3dd0",
   "metadata": {},
   "outputs": [
    {
     "data": {
      "text/plain": [
       "np.float64(0.03336569308673175)"
      ]
     },
     "execution_count": 231,
     "metadata": {},
     "output_type": "execute_result"
    }
   ],
   "source": [
    "np.mean((X - X_reconstructed) ** 2)"
   ]
  },
  {
   "cell_type": "markdown",
   "id": "c078a6ea",
   "metadata": {},
   "source": [
    "# projecting the data on PC1 and PC2 and PC3"
   ]
  },
  {
   "cell_type": "code",
   "execution_count": 232,
   "id": "9c5d1601",
   "metadata": {},
   "outputs": [
    {
     "data": {
      "text/plain": [
       "array([[ 0.9424, -0.2852, -0.1748],\n",
       "       [-0.3293, -0.8828, -0.335 ],\n",
       "       [ 0.0587, -0.3733,  0.9259]])"
      ]
     },
     "execution_count": 232,
     "metadata": {},
     "output_type": "execute_result"
    },
    {
     "data": {
      "text/plain": [
       "(3, 3)"
      ]
     },
     "execution_count": 232,
     "metadata": {},
     "output_type": "execute_result"
    },
    {
     "data": {
      "text/plain": [
       "(3, 5)"
      ]
     },
     "execution_count": 232,
     "metadata": {},
     "output_type": "execute_result"
    }
   ],
   "source": [
    "W = eigenvectors\n",
    "\n",
    "W\n",
    "W.shape\n",
    "X_centered.shape"
   ]
  },
  {
   "cell_type": "code",
   "execution_count": 233,
   "id": "dd89a4c2",
   "metadata": {},
   "outputs": [
    {
     "data": {
      "text/plain": [
       "array([[-2.7046,  3.0378,  0.0133,  2.2701, -2.6166],\n",
       "       [-2.2812, -0.9441,  2.4736, -0.2798,  1.0315],\n",
       "       [-0.0399,  0.4477,  0.0336, -0.5368,  0.0954]])"
      ]
     },
     "execution_count": 233,
     "metadata": {},
     "output_type": "execute_result"
    },
    {
     "data": {
      "text/plain": [
       "(3, 5)"
      ]
     },
     "execution_count": 233,
     "metadata": {},
     "output_type": "execute_result"
    }
   ],
   "source": [
    "X_transformed = W @ X_centered\n",
    "\n",
    "X_transformed\n",
    "X_transformed.shape"
   ]
  },
  {
   "cell_type": "markdown",
   "id": "c19a501e",
   "metadata": {},
   "source": [
    "#### reconstructing orig data"
   ]
  },
  {
   "cell_type": "code",
   "execution_count": 234,
   "id": "56dd5273",
   "metadata": {},
   "outputs": [
    {
     "data": {
      "text/plain": [
       "(3, 3)"
      ]
     },
     "execution_count": 234,
     "metadata": {},
     "output_type": "execute_result"
    },
    {
     "data": {
      "text/plain": [
       "(3, 5)"
      ]
     },
     "execution_count": 234,
     "metadata": {},
     "output_type": "execute_result"
    },
    {
     "data": {
      "text/plain": [
       "(3, 5)"
      ]
     },
     "execution_count": 234,
     "metadata": {},
     "output_type": "execute_result"
    }
   ],
   "source": [
    "W.shape\n",
    "X_transformed.shape\n",
    "X.shape"
   ]
  },
  {
   "cell_type": "code",
   "execution_count": 235,
   "id": "cb557e55",
   "metadata": {},
   "outputs": [
    {
     "data": {
      "text/plain": [
       "array([[ 1.,  6.,  2.,  5., -0.],\n",
       "       [ 5.,  2.,  0.,  2.,  2.],\n",
       "       [ 2.,  1., -0.,  0.,  1.]])"
      ]
     },
     "execution_count": 235,
     "metadata": {},
     "output_type": "execute_result"
    },
    {
     "data": {
      "text/plain": [
       "(3, 5)"
      ]
     },
     "execution_count": 235,
     "metadata": {},
     "output_type": "execute_result"
    },
    {
     "data": {
      "text/plain": [
       "array([[1, 6, 2, 5, 0],\n",
       "       [5, 2, 0, 2, 2],\n",
       "       [2, 1, 0, 0, 1]])"
      ]
     },
     "execution_count": 235,
     "metadata": {},
     "output_type": "execute_result"
    },
    {
     "data": {
      "text/plain": [
       "(3, 5)"
      ]
     },
     "execution_count": 235,
     "metadata": {},
     "output_type": "execute_result"
    }
   ],
   "source": [
    "X_reconstructed = W.T @ X_transformed + X_mean\n",
    "\n",
    "X_reconstructed\n",
    "X_reconstructed.shape\n",
    "\n",
    "X\n",
    "X.shape"
   ]
  },
  {
   "cell_type": "code",
   "execution_count": 236,
   "id": "e42a1c7f",
   "metadata": {},
   "outputs": [
    {
     "data": {
      "text/plain": [
       "np.float64(5.012553668591846e-32)"
      ]
     },
     "execution_count": 236,
     "metadata": {},
     "output_type": "execute_result"
    }
   ],
   "source": [
    "np.mean((X - X_reconstructed) ** 2)"
   ]
  }
 ],
 "metadata": {
  "kernelspec": {
   "display_name": "Python 3",
   "language": "python",
   "name": "python3"
  },
  "language_info": {
   "codemirror_mode": {
    "name": "ipython",
    "version": 3
   },
   "file_extension": ".py",
   "mimetype": "text/x-python",
   "name": "python",
   "nbconvert_exporter": "python",
   "pygments_lexer": "ipython3",
   "version": "3.13.3"
  }
 },
 "nbformat": 4,
 "nbformat_minor": 5
}

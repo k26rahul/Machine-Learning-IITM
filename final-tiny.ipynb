{
 "cells": [
  {
   "cell_type": "code",
   "execution_count": 79,
   "id": "5b0a9369",
   "metadata": {},
   "outputs": [],
   "source": [
    "import numpy as np\n",
    "import matplotlib.pyplot as plt\n",
    "\n",
    "np.set_printoptions(precision=4, suppress=True)"
   ]
  },
  {
   "cell_type": "code",
   "execution_count": 71,
   "id": "81970048",
   "metadata": {},
   "outputs": [
    {
     "data": {
      "image/png": "[encoded data removed]",
      "text/plain": [
       "<Figure size 640x480 with 1 Axes>"
      ]
     },
     "metadata": {},
     "output_type": "display_data"
    }
   ],
   "source": [
    "np.random.seed(3)\n",
    "n = 10\n",
    "x = np.arange(1, n+1)\n",
    "noise = np.random.uniform(-.4, .4, size=n) + 1\n",
    "y = x * 2 * noise\n",
    "\n",
    "_ = plt.scatter(x, y)"
   ]
  },
  {
   "cell_type": "code",
   "execution_count": 77,
   "id": "ebe30454",
   "metadata": {},
   "outputs": [
    {
     "data": {
      "text/plain": [
       "(2, 10)"
      ]
     },
     "execution_count": 77,
     "metadata": {},
     "output_type": "execute_result"
    }
   ],
   "source": [
    "X = np.array([x, y])\n",
    "X.shape  # d * n"
   ]
  },
  {
   "cell_type": "code",
   "execution_count": 86,
   "id": "5aeb4499",
   "metadata": {},
   "outputs": [
    {
     "data": {
      "text/plain": [
       "(2, 10)"
      ]
     },
     "execution_count": 86,
     "metadata": {},
     "output_type": "execute_result"
    },
    {
     "data": {
      "image/png": "[encoded data removed]",
      "text/plain": [
       "<Figure size 640x480 with 1 Axes>"
      ]
     },
     "metadata": {},
     "output_type": "display_data"
    }
   ],
   "source": [
    "X = X - X.mean(axis=1, keepdims=True)\n",
    "X.shape\n",
    "_ = plt.scatter(*X)"
   ]
  },
  {
   "cell_type": "markdown",
   "id": "a718dd4a",
   "metadata": {},
   "source": [
    "# PCA using `C = XX'/n approach`"
   ]
  },
  {
   "cell_type": "code",
   "execution_count": 87,
   "id": "ae63d022",
   "metadata": {},
   "outputs": [
    {
     "data": {
      "text/plain": [
       "(2, 2)"
      ]
     },
     "execution_count": 87,
     "metadata": {},
     "output_type": "execute_result"
    }
   ],
   "source": [
    "C = X @ X.T / n\n",
    "C.shape"
   ]
  },
  {
   "cell_type": "code",
   "execution_count": 141,
   "id": "57891511",
   "metadata": {},
   "outputs": [
    {
     "data": {
      "text/plain": [
       "array([31.6798,  1.8439])"
      ]
     },
     "execution_count": 141,
     "metadata": {},
     "output_type": "execute_result"
    },
    {
     "data": {
      "text/plain": [
       "array([[ 0.4634, -0.8862],\n",
       "       [ 0.8862,  0.4634]])"
      ]
     },
     "execution_count": 141,
     "metadata": {},
     "output_type": "execute_result"
    }
   ],
   "source": [
    "eigenvalues, eigenvectors = np.linalg.eigh(C)\n",
    "sorted_indices = np.argsort(eigenvalues)[::-1]\n",
    "eigenvalues = eigenvalues[sorted_indices]\n",
    "eigenvectors = eigenvectors[:, sorted_indices]\n",
    "\n",
    "eigenvalues\n",
    "eigenvectors"
   ]
  },
  {
   "cell_type": "markdown",
   "id": "6f047c2b",
   "metadata": {},
   "source": [
    "# PCA using `K = X'X approach`"
   ]
  },
  {
   "cell_type": "code",
   "execution_count": 142,
   "id": "2889b5fc",
   "metadata": {},
   "outputs": [
    {
     "data": {
      "text/plain": [
       "(10, 10)"
      ]
     },
     "execution_count": 142,
     "metadata": {},
     "output_type": "execute_result"
    }
   ],
   "source": [
    "K = X.T @ X\n",
    "K.shape"
   ]
  },
  {
   "cell_type": "code",
   "execution_count": 152,
   "id": "517c2a7e",
   "metadata": {},
   "outputs": [
    {
     "data": {
      "text/plain": [
       "(2,)"
      ]
     },
     "execution_count": 152,
     "metadata": {},
     "output_type": "execute_result"
    },
    {
     "data": {
      "text/plain": [
       "(10, 2)"
      ]
     },
     "execution_count": 152,
     "metadata": {},
     "output_type": "execute_result"
    }
   ],
   "source": [
    "lambdas, betas = np.linalg.eigh(K)\n",
    "sorted_indices = np.argsort(lambdas)[::-1]\n",
    "lambdas = lambdas[sorted_indices]\n",
    "betas = betas[:, sorted_indices]\n",
    "\n",
    "lambdas = lambdas[:min(X.shape)]\n",
    "betas = betas[:, :min(X.shape)]\n",
    "\n",
    "lambdas.shape\n",
    "betas.shape"
   ]
  },
  {
   "cell_type": "code",
   "execution_count": 167,
   "id": "7947df30",
   "metadata": {},
   "outputs": [
    {
     "data": {
      "text/plain": [
       "(10, 2)"
      ]
     },
     "execution_count": 167,
     "metadata": {},
     "output_type": "execute_result"
    }
   ],
   "source": [
    "alphas = betas / np.sqrt(lambdas)\n",
    "alphas.shape"
   ]
  },
  {
   "cell_type": "code",
   "execution_count": 171,
   "id": "daa3035a",
   "metadata": {},
   "outputs": [],
   "source": [
    "eigenvalues_ = lambdas / n\n",
    "eigenvectors_ = X @ alphas"
   ]
  },
  {
   "cell_type": "code",
   "execution_count": 172,
   "id": "2592633f",
   "metadata": {},
   "outputs": [
    {
     "data": {
      "text/plain": [
       "array([31.6798,  1.8439])"
      ]
     },
     "execution_count": 172,
     "metadata": {},
     "output_type": "execute_result"
    },
    {
     "data": {
      "text/plain": [
       "array([31.6798,  1.8439])"
      ]
     },
     "execution_count": 172,
     "metadata": {},
     "output_type": "execute_result"
    },
    {
     "data": {
      "text/plain": [
       "array([[ 0.4634, -0.8862],\n",
       "       [ 0.8862,  0.4634]])"
      ]
     },
     "execution_count": 172,
     "metadata": {},
     "output_type": "execute_result"
    },
    {
     "data": {
      "text/plain": [
       "array([[ 0.4634,  0.8862],\n",
       "       [ 0.8862, -0.4634]])"
      ]
     },
     "execution_count": 172,
     "metadata": {},
     "output_type": "execute_result"
    }
   ],
   "source": [
    "eigenvalues\n",
    "eigenvalues_\n",
    "\n",
    "eigenvectors\n",
    "eigenvectors_"
   ]
  },
  {
   "cell_type": "markdown",
   "id": "800696cf",
   "metadata": {},
   "source": [
    "# Rest is same for both approaches"
   ]
  },
  {
   "cell_type": "code",
   "execution_count": 92,
   "id": "43536e39",
   "metadata": {},
   "outputs": [
    {
     "data": {
      "text/plain": [
       "array([0.945, 1.   ])"
      ]
     },
     "execution_count": 92,
     "metadata": {},
     "output_type": "execute_result"
    }
   ],
   "source": [
    "np.cumsum(eigenvalues) / sum(eigenvalues)"
   ]
  },
  {
   "cell_type": "code",
   "execution_count": 131,
   "id": "746b9930",
   "metadata": {},
   "outputs": [
    {
     "data": {
      "text/plain": [
       "array([[ 0.4634, -0.8862],\n",
       "       [ 0.8862,  0.4634]])"
      ]
     },
     "execution_count": 131,
     "metadata": {},
     "output_type": "execute_result"
    }
   ],
   "source": [
    "k = 2\n",
    "W = eigenvectors[:, :k]\n",
    "W"
   ]
  },
  {
   "cell_type": "code",
   "execution_count": 132,
   "id": "a72a54cd",
   "metadata": {},
   "outputs": [
    {
     "data": {
      "text/plain": [
       "(10, 2)"
      ]
     },
     "execution_count": 132,
     "metadata": {},
     "output_type": "execute_result"
    }
   ],
   "source": [
    "coefficients = X.T @ W\n",
    "coefficients.shape"
   ]
  },
  {
   "cell_type": "code",
   "execution_count": 133,
   "id": "7284aaa5",
   "metadata": {},
   "outputs": [
    {
     "data": {
      "text/plain": [
       "np.float64(3.374329241674164e-16)"
      ]
     },
     "execution_count": 133,
     "metadata": {},
     "output_type": "execute_result"
    }
   ],
   "source": [
    "X_ = (coefficients @ W.T).T\n",
    "np.sqrt(np.mean((X - X_) ** 2))  # rmse"
   ]
  },
  {
   "cell_type": "markdown",
   "id": "7cc0ca9d",
   "metadata": {},
   "source": [
    "#### original vs reconstructed samples"
   ]
  },
  {
   "cell_type": "code",
   "execution_count": 134,
   "id": "90db4332",
   "metadata": {},
   "outputs": [
    {
     "data": {
      "image/png": "[encoded data removed]",
      "text/plain": [
       "<Figure size 640x480 with 1 Axes>"
      ]
     },
     "metadata": {},
     "output_type": "display_data"
    }
   ],
   "source": [
    "_ = plt.scatter(*X)\n",
    "_ = plt.scatter(*X_, marker='+', s=200)"
   ]
  },
  {
   "cell_type": "markdown",
   "id": "6de1f511",
   "metadata": {},
   "source": [
    "#### using coefficients with standard basic (not PCs)"
   ]
  },
  {
   "cell_type": "code",
   "execution_count": 135,
   "id": "da2130a5",
   "metadata": {},
   "outputs": [
    {
     "data": {
      "text/plain": [
       "array([[1, 0],\n",
       "       [0, 1]])"
      ]
     },
     "execution_count": 135,
     "metadata": {},
     "output_type": "execute_result"
    }
   ],
   "source": [
    "W_sb = np.array([\n",
    "    [1, 0],\n",
    "    [0, 1]\n",
    "]).T\n",
    "\n",
    "W_sb = W_sb[:, :k]\n",
    "W_sb"
   ]
  },
  {
   "cell_type": "code",
   "execution_count": 136,
   "id": "1d171a67",
   "metadata": {},
   "outputs": [
    {
     "data": {
      "text/plain": [
       "np.float64(4.241452532060017)"
      ]
     },
     "execution_count": 136,
     "metadata": {},
     "output_type": "execute_result"
    }
   ],
   "source": [
    "X_sb = (coefficients @ W_sb.T).T\n",
    "np.sqrt(np.mean((X - X_sb) ** 2))  # rmse"
   ]
  },
  {
   "cell_type": "code",
   "execution_count": 137,
   "id": "7637866d",
   "metadata": {},
   "outputs": [
    {
     "data": {
      "image/png": "[encoded data removed]",
      "text/plain": [
       "<Figure size 640x480 with 1 Axes>"
      ]
     },
     "metadata": {},
     "output_type": "display_data"
    }
   ],
   "source": [
    "_ = plt.scatter(*X, alpha=0.4)\n",
    "_ = plt.scatter(*X_sb, marker='+', s=200)"
   ]
  },
  {
   "cell_type": "markdown",
   "id": "39e48e4f",
   "metadata": {},
   "source": [
    "#### no need for X_sb (just enjoy coefficients)"
   ]
  },
  {
   "cell_type": "code",
   "execution_count": 139,
   "id": "5499d349",
   "metadata": {},
   "outputs": [
    {
     "data": {
      "image/png": "[encoded data removed]",
      "text/plain": [
       "<Figure size 640x480 with 1 Axes>"
      ]
     },
     "metadata": {},
     "output_type": "display_data"
    }
   ],
   "source": [
    "if k == 1:\n",
    "  _ = plt.scatter(coefficients[:, 0], [0]*n)\n",
    "\n",
    "if k == 2:\n",
    "  _ = plt.scatter(*coefficients.T)\n",
    "  _ = plt.ylim((-10, 10))"
   ]
  }
 ],
 "metadata": {
  "kernelspec": {
   "display_name": "Python 3",
   "language": "python",
   "name": "python3"
  },
  "language_info": {
   "codemirror_mode": {
    "name": "ipython",
    "version": 3
   },
   "file_extension": ".py",
   "mimetype": "text/x-python",
   "name": "python",
   "nbconvert_exporter": "python",
   "pygments_lexer": "ipython3",
   "version": "3.13.3"
  }
 },
 "nbformat": 4,
 "nbformat_minor": 5
}

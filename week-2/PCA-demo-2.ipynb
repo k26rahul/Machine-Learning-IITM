{
 "cells": [
  {
   "cell_type": "code",
   "execution_count": 68,
   "id": "125b595e",
   "metadata": {},
   "outputs": [],
   "source": [
    "import numpy as np\n",
    "import matplotlib.pyplot as plt\n",
    "\n",
    "np.set_printoptions(precision=4, suppress=True)"
   ]
  },
  {
   "cell_type": "code",
   "execution_count": 69,
   "id": "b07f1617",
   "metadata": {},
   "outputs": [
    {
     "data": {
      "text/plain": [
       "(2, 500)"
      ]
     },
     "execution_count": 69,
     "metadata": {},
     "output_type": "execute_result"
    },
    {
     "data": {
      "image/png": "[encoded data removed]",
      "text/plain": [
       "<Figure size 640x480 with 1 Axes>"
      ]
     },
     "metadata": {},
     "output_type": "display_data"
    }
   ],
   "source": [
    "np.random.seed(0)\n",
    "\n",
    "mean = [100, 150]  # center of data\n",
    "cov = [[400, 350],\n",
    "       [350, 400]]  # spread of data\n",
    "\n",
    "X = np.random.multivariate_normal(mean, cov, size=500).T\n",
    "X = X - X.mean(axis=1, keepdims=True)\n",
    "\n",
    "X.shape\n",
    "_ = plt.scatter(*X)"
   ]
  },
  {
   "cell_type": "markdown",
   "id": "b023135a",
   "metadata": {},
   "source": [
    "# Finding PCs using `C = XX'/n` approach"
   ]
  },
  {
   "cell_type": "code",
   "execution_count": 70,
   "id": "17b181de",
   "metadata": {},
   "outputs": [
    {
     "data": {
      "text/plain": [
       "(2, 2)"
      ]
     },
     "execution_count": 70,
     "metadata": {},
     "output_type": "execute_result"
    }
   ],
   "source": [
    "n = X.shape[1]\n",
    "C = X @ X.T / n\n",
    "C.shape"
   ]
  },
  {
   "cell_type": "code",
   "execution_count": 71,
   "id": "4de2d676",
   "metadata": {},
   "outputs": [
    {
     "data": {
      "text/plain": [
       "array([710.85  ,  49.9875])"
      ]
     },
     "execution_count": 71,
     "metadata": {},
     "output_type": "execute_result"
    },
    {
     "data": {
      "text/plain": [
       "array([[ 0.705 , -0.7092],\n",
       "       [ 0.7092,  0.705 ]])"
      ]
     },
     "execution_count": 71,
     "metadata": {},
     "output_type": "execute_result"
    }
   ],
   "source": [
    "eigenvalues, eigenvectors = np.linalg.eigh(C)\n",
    "sorted_indices = np.argsort(eigenvalues)[::-1]\n",
    "eigenvalues = eigenvalues[sorted_indices]\n",
    "eigenvectors = eigenvectors[:, sorted_indices]\n",
    "\n",
    "eigenvalues\n",
    "eigenvectors"
   ]
  },
  {
   "cell_type": "markdown",
   "id": "58b9103c",
   "metadata": {},
   "source": [
    "# Finding PCs using `K = X'X` approach"
   ]
  },
  {
   "cell_type": "code",
   "execution_count": 72,
   "id": "acdea307",
   "metadata": {},
   "outputs": [
    {
     "data": {
      "text/plain": [
       "(500, 500)"
      ]
     },
     "execution_count": 72,
     "metadata": {},
     "output_type": "execute_result"
    }
   ],
   "source": [
    "K = X.T @ X\n",
    "K.shape"
   ]
  },
  {
   "cell_type": "code",
   "execution_count": 73,
   "id": "7ccb9771",
   "metadata": {},
   "outputs": [
    {
     "data": {
      "text/plain": [
       "(500,)"
      ]
     },
     "execution_count": 73,
     "metadata": {},
     "output_type": "execute_result"
    },
    {
     "data": {
      "text/plain": [
       "(500, 500)"
      ]
     },
     "execution_count": 73,
     "metadata": {},
     "output_type": "execute_result"
    }
   ],
   "source": [
    "n_lambdas, betas = np.linalg.eigh(K)\n",
    "sorted_indices = np.argsort(n_lambdas)[::-1]\n",
    "n_lambdas = n_lambdas[sorted_indices]\n",
    "betas = betas[:, sorted_indices]\n",
    "\n",
    "n_lambdas.shape\n",
    "betas.shape"
   ]
  },
  {
   "cell_type": "code",
   "execution_count": 74,
   "id": "d1bb5325",
   "metadata": {},
   "outputs": [
    {
     "data": {
      "text/plain": [
       "(2,)"
      ]
     },
     "execution_count": 74,
     "metadata": {},
     "output_type": "execute_result"
    },
    {
     "data": {
      "text/plain": [
       "(500, 2)"
      ]
     },
     "execution_count": 74,
     "metadata": {},
     "output_type": "execute_result"
    }
   ],
   "source": [
    "count_nonzero = min(X.shape)\n",
    "n_lambdas = n_lambdas[:count_nonzero]\n",
    "betas = betas[:, :count_nonzero]\n",
    "\n",
    "n_lambdas.shape\n",
    "betas.shape"
   ]
  },
  {
   "cell_type": "code",
   "execution_count": 75,
   "id": "113f4c71",
   "metadata": {},
   "outputs": [
    {
     "data": {
      "text/plain": [
       "(500, 2)"
      ]
     },
     "execution_count": 75,
     "metadata": {},
     "output_type": "execute_result"
    }
   ],
   "source": [
    "alphas = betas / np.sqrt(n_lambdas).reshape(1, -1)\n",
    "alphas.shape"
   ]
  },
  {
   "cell_type": "code",
   "execution_count": 76,
   "id": "dbd2d11c",
   "metadata": {},
   "outputs": [
    {
     "data": {
      "text/plain": [
       "array([710.85  ,  49.9875])"
      ]
     },
     "execution_count": 76,
     "metadata": {},
     "output_type": "execute_result"
    },
    {
     "data": {
      "text/plain": [
       "array([[ 0.705 , -0.7092],\n",
       "       [ 0.7092,  0.705 ]])"
      ]
     },
     "execution_count": 76,
     "metadata": {},
     "output_type": "execute_result"
    },
    {
     "data": {
      "text/plain": [
       "array([710.85  ,  49.9875])"
      ]
     },
     "execution_count": 76,
     "metadata": {},
     "output_type": "execute_result"
    },
    {
     "data": {
      "text/plain": [
       "array([[ 0.705 ,  0.7092],\n",
       "       [ 0.7092, -0.705 ]])"
      ]
     },
     "execution_count": 76,
     "metadata": {},
     "output_type": "execute_result"
    }
   ],
   "source": [
    "eigenvalues_ = n_lambdas / n\n",
    "eigenvectors_ = X @ alphas\n",
    "\n",
    "# using `C = XX'/n` approach\n",
    "eigenvalues\n",
    "eigenvectors\n",
    "\n",
    "# using `K = X'X` approach\n",
    "eigenvalues_\n",
    "eigenvectors_"
   ]
  },
  {
   "cell_type": "markdown",
   "id": "52cf0c52",
   "metadata": {},
   "source": [
    "# Rest is same for both approaches"
   ]
  },
  {
   "cell_type": "code",
   "execution_count": 77,
   "id": "445ee606",
   "metadata": {},
   "outputs": [
    {
     "data": {
      "text/plain": [
       "array([0.9343, 1.    ])"
      ]
     },
     "execution_count": 77,
     "metadata": {},
     "output_type": "execute_result"
    }
   ],
   "source": [
    "np.cumsum(eigenvalues) / sum(eigenvalues)"
   ]
  },
  {
   "cell_type": "code",
   "execution_count": 78,
   "id": "1887af8d",
   "metadata": {},
   "outputs": [
    {
     "data": {
      "text/plain": [
       "array([[0.705 ],\n",
       "       [0.7092]])"
      ]
     },
     "execution_count": 78,
     "metadata": {},
     "output_type": "execute_result"
    }
   ],
   "source": [
    "k = 1\n",
    "W = eigenvectors[:, :k]\n",
    "W"
   ]
  },
  {
   "cell_type": "code",
   "execution_count": 79,
   "id": "adb03e25",
   "metadata": {},
   "outputs": [
    {
     "data": {
      "text/plain": [
       "(500, 1)"
      ]
     },
     "execution_count": 79,
     "metadata": {},
     "output_type": "execute_result"
    }
   ],
   "source": [
    "coefficients = X.T @ W\n",
    "coefficients.shape"
   ]
  },
  {
   "cell_type": "code",
   "execution_count": 80,
   "id": "43041468",
   "metadata": {},
   "outputs": [
    {
     "data": {
      "text/plain": [
       "(2, 500)"
      ]
     },
     "execution_count": 80,
     "metadata": {},
     "output_type": "execute_result"
    }
   ],
   "source": [
    "X_ = (coefficients @ W.T).T\n",
    "X_.shape"
   ]
  },
  {
   "cell_type": "code",
   "execution_count": 81,
   "id": "3c05ee38",
   "metadata": {},
   "outputs": [
    {
     "data": {
      "text/plain": [
       "np.float64(4.999374289343242)"
      ]
     },
     "execution_count": 81,
     "metadata": {},
     "output_type": "execute_result"
    }
   ],
   "source": [
    "np.sqrt(np.mean((X - X_)**2))  # rmse"
   ]
  },
  {
   "cell_type": "markdown",
   "id": "7cc80db1",
   "metadata": {},
   "source": [
    "### Plotting the reconstructed data"
   ]
  },
  {
   "cell_type": "code",
   "execution_count": 82,
   "id": "fcd3c32c",
   "metadata": {},
   "outputs": [
    {
     "data": {
      "image/png": "[encoded data removed]",
      "text/plain": [
       "<Figure size 640x480 with 1 Axes>"
      ]
     },
     "metadata": {},
     "output_type": "display_data"
    }
   ],
   "source": [
    "_ = plt.scatter(*X, color='k')\n",
    "_ = plt.scatter(*X_, marker=\"+\", s=200)"
   ]
  },
  {
   "cell_type": "markdown",
   "id": "335f5041",
   "metadata": {},
   "source": [
    "### Plotting only coefficients"
   ]
  },
  {
   "cell_type": "code",
   "execution_count": 83,
   "id": "84cf24a4",
   "metadata": {},
   "outputs": [
    {
     "data": {
      "image/png": "[encoded data removed]",
      "text/plain": [
       "<Figure size 640x480 with 1 Axes>"
      ]
     },
     "metadata": {},
     "output_type": "display_data"
    }
   ],
   "source": [
    "if k == 1:\n",
    "  _ = plt.scatter(coefficients.T[0], [0]*n)\n",
    "\n",
    "if k == 2:\n",
    "  _ = plt.scatter(*coefficients.T)\n",
    "\n",
    "_ = plt.ylim((-80, 80))"
   ]
  },
  {
   "cell_type": "markdown",
   "id": "53ef599f",
   "metadata": {},
   "source": [
    "# Non linear relationships"
   ]
  }
 ],
 "metadata": {
  "kernelspec": {
   "display_name": "Python 3",
   "language": "python",
   "name": "python3"
  },
  "language_info": {
   "codemirror_mode": {
    "name": "ipython",
    "version": 3
   },
   "file_extension": ".py",
   "mimetype": "text/x-python",
   "name": "python",
   "nbconvert_exporter": "python",
   "pygments_lexer": "ipython3",
   "version": "3.13.3"
  }
 },
 "nbformat": 4,
 "nbformat_minor": 5
}

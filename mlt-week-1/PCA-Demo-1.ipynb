{
 "cells": [
  {
   "cell_type": "code",
   "execution_count": 2,
   "id": "f8aa053d",
   "metadata": {},
   "outputs": [],
   "source": [
    "import numpy as np\n",
    "np.set_printoptions(precision=4, suppress=True)"
   ]
  },
  {
   "cell_type": "code",
   "execution_count": 3,
   "id": "a0b7bffc",
   "metadata": {},
   "outputs": [
    {
     "data": {
      "text/plain": [
       "array([[10,  6,  2],\n",
       "       [ 5,  2,  0],\n",
       "       [ 2,  1,  0]])"
      ]
     },
     "execution_count": 3,
     "metadata": {},
     "output_type": "execute_result"
    },
    {
     "data": {
      "text/plain": [
       "(3, 3)"
      ]
     },
     "execution_count": 3,
     "metadata": {},
     "output_type": "execute_result"
    }
   ],
   "source": [
    "x1 = np.array([10, 5, 2])\n",
    "x2 = np.array([6, 2, 1])\n",
    "x3 = np.array([2, 0, 0])\n",
    "\n",
    "X = np.column_stack([x1, x2, x3])  # d * n\n",
    "\n",
    "X\n",
    "X.shape"
   ]
  },
  {
   "cell_type": "code",
   "execution_count": 4,
   "id": "2c5b7203",
   "metadata": {},
   "outputs": [
    {
     "data": {
      "text/plain": [
       "array([[6.    ],\n",
       "       [2.3333],\n",
       "       [1.    ]])"
      ]
     },
     "execution_count": 4,
     "metadata": {},
     "output_type": "execute_result"
    },
    {
     "data": {
      "text/plain": [
       "(3, 1)"
      ]
     },
     "execution_count": 4,
     "metadata": {},
     "output_type": "execute_result"
    }
   ],
   "source": [
    "X_mean = np.mean(X, axis=1, keepdims=True)  # mean along rows\n",
    "X_mean\n",
    "X_mean.shape"
   ]
  },
  {
   "cell_type": "code",
   "execution_count": 7,
   "id": "5d74532b",
   "metadata": {},
   "outputs": [
    {
     "data": {
      "text/plain": [
       "array([[ 4.    ,  0.    , -4.    ],\n",
       "       [ 2.6667, -0.3333, -2.3333],\n",
       "       [ 1.    ,  0.    , -1.    ]])"
      ]
     },
     "execution_count": 7,
     "metadata": {},
     "output_type": "execute_result"
    },
    {
     "data": {
      "text/plain": [
       "(3, 3)"
      ]
     },
     "execution_count": 7,
     "metadata": {},
     "output_type": "execute_result"
    }
   ],
   "source": [
    "X_centered = X - X_mean\n",
    "X_centered  # mean of every feature (along rows) is zero\n",
    "X_centered.shape"
   ]
  },
  {
   "cell_type": "code",
   "execution_count": 8,
   "id": "30cd0d60",
   "metadata": {},
   "outputs": [
    {
     "data": {
      "text/plain": [
       "array([[10.6667,  6.6667,  2.6667],\n",
       "       [ 6.6667,  4.2222,  1.6667],\n",
       "       [ 2.6667,  1.6667,  0.6667]])"
      ]
     },
     "execution_count": 8,
     "metadata": {},
     "output_type": "execute_result"
    },
    {
     "data": {
      "text/plain": [
       "(3, 3)"
      ]
     },
     "execution_count": 8,
     "metadata": {},
     "output_type": "execute_result"
    }
   ],
   "source": [
    "n = X.shape[1]\n",
    "C = 1/n * X_centered @ X_centered.T  # @ means cross product\n",
    "C\n",
    "C.shape"
   ]
  },
  {
   "cell_type": "code",
   "execution_count": 9,
   "id": "50ddc367",
   "metadata": {},
   "outputs": [
    {
     "name": "stdout",
     "output_type": "stream",
     "text": [
      "Eigenvalue 1:   15.5150\n",
      "Eigenvector 1:    [-0.8288 -0.5198 -0.2072]\n",
      "Variance explained by eigenvector 1: 99.74%\n",
      "\n",
      "Eigenvalue 2:   0.0406\n",
      "Eigenvector 2:    [-0.5043  0.8543 -0.1261]\n",
      "Variance explained by eigenvector 2: 0.26%\n",
      "\n",
      "Eigenvalue 3:   -0.0000\n",
      "Eigenvector 3:    [-0.2425  0.      0.9701]\n",
      "Variance explained by eigenvector 3: -0.00%\n",
      "\n"
     ]
    }
   ],
   "source": [
    "eigenvalues, eigenvectors = np.linalg.eig(C)\n",
    "\n",
    "sorted_indices = np.argsort(eigenvalues)[::-1]\n",
    "eigenvalues = eigenvalues[sorted_indices]\n",
    "eigenvectors = eigenvectors.T[sorted_indices]  # transpose to get eigenvectors as rows\n",
    "\n",
    "for i in range(n):\n",
    "  print(f\"Eigenvalue {i+1}:   {eigenvalues[i]:.4f}\")\n",
    "  print(f\"Eigenvector {i+1}:    {eigenvectors[i]}\")\n",
    "  print(f\"Variance explained by eigenvector {i+1}: {\n",
    "      eigenvalues[i] / np.sum(eigenvalues) * 100:.2f}%\\n\")"
   ]
  },
  {
   "cell_type": "code",
   "execution_count": 10,
   "id": "12c82e94",
   "metadata": {},
   "outputs": [
    {
     "name": "stdout",
     "output_type": "stream",
     "text": [
      "Projected data on 1st eigenvector: [[-4.9085  0.1733  4.7352]]\n"
     ]
    }
   ],
   "source": [
    "X_projected = eigenvectors[:1] @ X_centered\n",
    "print(f\"Projected data on 1st eigenvector: {X_projected}\")"
   ]
  },
  {
   "cell_type": "code",
   "execution_count": 11,
   "id": "660d6d94",
   "metadata": {},
   "outputs": [
    {
     "name": "stdout",
     "output_type": "stream",
     "text": [
      "Reconstructed data from 1st eigenvector:\n",
      "[[10.0679  5.8564  2.0757]\n",
      " [ 4.8849  2.2433 -0.1282]\n",
      " [ 2.017   0.9641  0.0189]]\n",
      "\n",
      "Original data:\n",
      "[[10  6  2]\n",
      " [ 5  2  0]\n",
      " [ 2  1  0]]\n",
      "\n",
      "Reconstruction error: 0.3489\n"
     ]
    }
   ],
   "source": [
    "X_reconstructed = eigenvectors[:1].T @ X_projected + X_mean\n",
    "\n",
    "print(\"Reconstructed data from 1st eigenvector:\")\n",
    "print(X_reconstructed)\n",
    "\n",
    "print(\"\\nOriginal data:\")\n",
    "print(X)\n",
    "\n",
    "reconstruction_error = np.linalg.norm(X - X_reconstructed, ord=\"fro\")\n",
    "print(f\"\\nReconstruction error: {reconstruction_error:.4f}\")"
   ]
  },
  {
   "cell_type": "code",
   "execution_count": 13,
   "id": "eafe0bae",
   "metadata": {},
   "outputs": [
    {
     "name": "stdout",
     "output_type": "stream",
     "text": [
      "Projected data on 1st and 2nd eigenvectors:\n"
     ]
    },
    {
     "data": {
      "text/plain": [
       "array([[-4.9085,  0.1733,  4.7352],\n",
       "       [ 0.1347, -0.2848,  0.1501]])"
      ]
     },
     "execution_count": 13,
     "metadata": {},
     "output_type": "execute_result"
    },
    {
     "data": {
      "text/plain": [
       "(2, 3)"
      ]
     },
     "execution_count": 13,
     "metadata": {},
     "output_type": "execute_result"
    }
   ],
   "source": [
    "print(f\"Projected data on 1st and 2nd eigenvectors:\")\n",
    "\n",
    "X_projected_1_2 = eigenvectors[:2] @ X_centered\n",
    "X_projected_1_2\n",
    "X_projected_1_2.shape"
   ]
  },
  {
   "cell_type": "code",
   "execution_count": 14,
   "id": "730c5fd5",
   "metadata": {},
   "outputs": [
    {
     "name": "stdout",
     "output_type": "stream",
     "text": [
      "Reconstructed data from 1st and 2nd eigenvectors:\n",
      "[[10.  6.  2.]\n",
      " [ 5.  2.  0.]\n",
      " [ 2.  1. -0.]]\n",
      "\n",
      "Original data:\n",
      "[[10  6  2]\n",
      " [ 5  2  0]\n",
      " [ 2  1  0]]\n",
      "\n",
      "Reconstruction error: 0.0000\n"
     ]
    }
   ],
   "source": [
    "X_reconstructed_1_2 = eigenvectors[:2].T @ X_projected_1_2 + X_mean\n",
    "\n",
    "print(\"Reconstructed data from 1st and 2nd eigenvectors:\")\n",
    "print(X_reconstructed_1_2)\n",
    "\n",
    "print(\"\\nOriginal data:\")\n",
    "print(X)\n",
    "\n",
    "reconstruction_error_1_2 = np.linalg.norm(X - X_reconstructed_1_2, ord=\"fro\")\n",
    "print(f\"\\nReconstruction error: {reconstruction_error_1_2:.4f}\")"
   ]
  }
 ],
 "metadata": {
  "kernelspec": {
   "display_name": "Python 3",
   "language": "python",
   "name": "python3"
  },
  "language_info": {
   "codemirror_mode": {
    "name": "ipython",
    "version": 3
   },
   "file_extension": ".py",
   "mimetype": "text/x-python",
   "name": "python",
   "nbconvert_exporter": "python",
   "pygments_lexer": "ipython3",
   "version": "3.13.3"
  }
 },
 "nbformat": 4,
 "nbformat_minor": 5
}

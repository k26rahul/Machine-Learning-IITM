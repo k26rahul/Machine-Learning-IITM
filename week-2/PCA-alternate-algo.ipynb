{
 "cells": [
  {
   "cell_type": "code",
   "execution_count": 455,
   "id": "72a0ad17",
   "metadata": {},
   "outputs": [],
   "source": [
    "import numpy as np\n",
    "import matplotlib.pyplot as plt\n",
    "np.set_printoptions(precision=4, suppress=True)"
   ]
  },
  {
   "cell_type": "code",
   "execution_count": 456,
   "id": "f3c40f2b",
   "metadata": {},
   "outputs": [
    {
     "data": {
      "text/plain": [
       "array([[ 0.9834,  1.9677,  3.1804,  3.6787],\n",
       "       [ 2.0881,  4.1482,  6.5619,  7.8738],\n",
       "       [ 2.7001,  5.6453,  8.6642, 13.0989],\n",
       "       [ 3.8419,  8.605 , 12.4616, 16.1061],\n",
       "       [ 4.6468,  9.0548, 16.1292, 20.7675],\n",
       "       [ 5.5108, 12.4091, 19.4206, 23.1145],\n",
       "       [ 6.5608, 13.7685, 19.2572, 29.0444],\n",
       "       [ 7.7529, 16.1878, 21.7875, 34.1416],\n",
       "       [ 8.8142, 16.7054, 25.2171, 32.5317],\n",
       "       [10.0776, 18.7924, 32.2689, 42.0012]])"
      ]
     },
     "execution_count": 456,
     "metadata": {},
     "output_type": "execute_result"
    },
    {
     "data": {
      "text/plain": [
       "(10, 4)"
      ]
     },
     "execution_count": 456,
     "metadata": {},
     "output_type": "execute_result"
    }
   ],
   "source": [
    "np.random.seed(1)\n",
    "\n",
    "X = np.array([\n",
    "    [\n",
    "        (i * j) * (1 + np.random.uniform(-0.1, 0.1))  # ±10% noise\n",
    "        for j in range(1, 11)\n",
    "    ]\n",
    "    for i in range(1, 5)\n",
    "]).T\n",
    "\n",
    "X\n",
    "X.shape  # d > n (can use alternate PCA algorithm, K = X'X)"
   ]
  },
  {
   "cell_type": "code",
   "execution_count": 457,
   "id": "00eab61d",
   "metadata": {},
   "outputs": [
    {
     "data": {
      "text/plain": [
       "array([[ -1.4691,  -0.4849,   0.7279,   1.2261],\n",
       "       [ -3.0799,  -1.0198,   1.3939,   2.7058],\n",
       "       [ -4.8271,  -1.8818,   1.137 ,   5.5718],\n",
       "       [ -6.4118,  -1.6487,   2.2079,   5.8525],\n",
       "       [ -8.0028,  -3.5948,   3.4796,   8.118 ],\n",
       "       [ -9.6029,  -2.7046,   4.3068,   8.0007],\n",
       "       [-10.5969,  -3.3892,   2.0995,  11.8867],\n",
       "       [-12.2145,  -3.7796,   1.82  ,  14.1742],\n",
       "       [-12.0029,  -4.1117,   4.4   ,  11.7146],\n",
       "       [-15.7074,  -6.9926,   6.4838,  16.2161]])"
      ]
     },
     "execution_count": 457,
     "metadata": {},
     "output_type": "execute_result"
    }
   ],
   "source": [
    "# X.mean(axis=1, keepdims=True)\n",
    "X = X - X.mean(axis=1, keepdims=True)  # center the data\n",
    "X"
   ]
  },
  {
   "cell_type": "markdown",
   "id": "f4b42be3",
   "metadata": {},
   "source": [
    "# PCA alternate algo (K = X'X)"
   ]
  },
  {
   "cell_type": "code",
   "execution_count": 458,
   "id": "5884f731",
   "metadata": {},
   "outputs": [
    {
     "data": {
      "text/plain": [
       "((4, 10), (10, 4))"
      ]
     },
     "execution_count": 458,
     "metadata": {},
     "output_type": "execute_result"
    },
    {
     "data": {
      "text/plain": [
       "(4, 4)"
      ]
     },
     "execution_count": 458,
     "metadata": {},
     "output_type": "execute_result"
    }
   ],
   "source": [
    "X.T.shape, X.shape\n",
    "K = X.T @ X\n",
    "K.shape  # K is n * n matrix"
   ]
  },
  {
   "cell_type": "code",
   "execution_count": 459,
   "id": "73dc8225",
   "metadata": {},
   "outputs": [
    {
     "data": {
      "text/plain": [
       "array([2037.9956,   17.4369,    3.36  ,   -0.    ])"
      ]
     },
     "execution_count": 459,
     "metadata": {},
     "output_type": "execute_result"
    },
    {
     "data": {
      "text/plain": [
       "array([[ 0.6583,  0.2388, -0.2172, -0.68  ],\n",
       "       [-0.1308, -0.2317,  0.8383, -0.4758],\n",
       "       [-0.5472,  0.7996, -0.0049, -0.2474],\n",
       "       [ 0.5   ,  0.5   ,  0.5   ,  0.5   ]])"
      ]
     },
     "execution_count": 459,
     "metadata": {},
     "output_type": "execute_result"
    }
   ],
   "source": [
    "eigenvalues, eigenvectors = np.linalg.eig(K)\n",
    "sorted_indices = np.argsort(eigenvalues)[::-1]\n",
    "eigenvalues = eigenvalues[sorted_indices]\n",
    "eigenvectors = eigenvectors.T[sorted_indices]\n",
    "# eigenvalues = np.where(np.isclose(eigenvalues, 0), 0, eigenvalues)\n",
    "\n",
    "eigenvalues\n",
    "eigenvectors"
   ]
  },
  {
   "cell_type": "code",
   "execution_count": 460,
   "id": "cd17eccf",
   "metadata": {},
   "outputs": [],
   "source": [
    "beta_k = eigenvectors\n",
    "n_lambda_k = eigenvalues"
   ]
  },
  {
   "cell_type": "code",
   "execution_count": 461,
   "id": "e907b777",
   "metadata": {},
   "outputs": [
    {
     "data": {
      "text/plain": [
       "array([[ 2.,  4.,  6.,  8., 10.],\n",
       "       [ 1.,  2.,  3.,  4.,  5.]])"
      ]
     },
     "execution_count": 461,
     "metadata": {},
     "output_type": "execute_result"
    }
   ],
   "source": [
    "A = np.array([\n",
    "    [10, 20, 30, 40, 50],\n",
    "    [10, 20, 30, 40, 50],\n",
    "])\n",
    "\n",
    "b = np.array([5, 10]).reshape(-1, 1)\n",
    "\n",
    "A/b"
   ]
  },
  {
   "cell_type": "code",
   "execution_count": 462,
   "id": "f75b845a",
   "metadata": {},
   "outputs": [
    {
     "name": "stderr",
     "output_type": "stream",
     "text": [
      "C:\\Users\\k26ra\\AppData\\Local\\Temp\\ipykernel_5312\\3259128272.py:1: RuntimeWarning: invalid value encountered in sqrt\n",
      "  alpha_k = beta_k / np.sqrt(n_lambda_k).reshape(-1, 1)\n"
     ]
    },
    {
     "data": {
      "text/plain": [
       "array([[ 0.0146, -0.0313, -0.2985,     nan],\n",
       "       [ 0.0053, -0.0555,  0.4362,     nan],\n",
       "       [-0.0048,  0.2008, -0.0027,     nan],\n",
       "       [-0.0151, -0.114 , -0.135 ,     nan]])"
      ]
     },
     "execution_count": 462,
     "metadata": {},
     "output_type": "execute_result"
    },
    {
     "data": {
      "text/plain": [
       "(4, 4)"
      ]
     },
     "execution_count": 462,
     "metadata": {},
     "output_type": "execute_result"
    }
   ],
   "source": [
    "alpha_k = beta_k / np.sqrt(n_lambda_k).reshape(-1, 1)\n",
    "alpha_k = alpha_k.T  # alpha values in cols\n",
    "alpha_k\n",
    "alpha_k.shape"
   ]
  },
  {
   "cell_type": "code",
   "execution_count": 463,
   "id": "b0195f91",
   "metadata": {},
   "outputs": [
    {
     "data": {
      "text/plain": [
       "((10, 4), (4, 4))"
      ]
     },
     "execution_count": 463,
     "metadata": {},
     "output_type": "execute_result"
    },
    {
     "data": {
      "text/plain": [
       "array([[-0.046 ,  0.0793,  0.0597,     nan],\n",
       "       [-0.0978,  0.1246,  0.1057,     nan],\n",
       "       [-0.1697, -0.151 , -0.1348,     nan],\n",
       "       [-0.201 ,  0.0687,  0.3992,     nan],\n",
       "       [-0.2747,  0.2236, -0.2839,     nan],\n",
       "       [-0.2956,  0.4038,  0.5958,     nan],\n",
       "       [-0.3616, -0.413 ,  0.0752,     nan],\n",
       "       [-0.4204, -0.6575,  0.0799,     nan],\n",
       "       [-0.3944,  0.1526,  0.1969,     nan],\n",
       "       [-0.5415,  0.3338, -0.5669,     nan]])"
      ]
     },
     "execution_count": 463,
     "metadata": {},
     "output_type": "execute_result"
    },
    {
     "data": {
      "text/plain": [
       "(10, 4)"
      ]
     },
     "execution_count": 463,
     "metadata": {},
     "output_type": "execute_result"
    }
   ],
   "source": [
    "X.shape, alpha_k.shape\n",
    "W_k = X @ alpha_k\n",
    "W_k\n",
    "W_k.shape"
   ]
  },
  {
   "cell_type": "code",
   "execution_count": 464,
   "id": "14356978",
   "metadata": {},
   "outputs": [
    {
     "data": {
      "text/plain": [
       "array([[-0.046 ,  0.0793,  0.0597,     nan],\n",
       "       [-0.0978,  0.1246,  0.1057,     nan],\n",
       "       [-0.1697, -0.151 , -0.1348,     nan],\n",
       "       [-0.201 ,  0.0687,  0.3992,     nan],\n",
       "       [-0.2747,  0.2236, -0.2839,     nan],\n",
       "       [-0.2956,  0.4038,  0.5958,     nan],\n",
       "       [-0.3616, -0.413 ,  0.0752,     nan],\n",
       "       [-0.4204, -0.6575,  0.0799,     nan],\n",
       "       [-0.3944,  0.1526,  0.1969,     nan],\n",
       "       [-0.5415,  0.3338, -0.5669,     nan]])"
      ]
     },
     "execution_count": 464,
     "metadata": {},
     "output_type": "execute_result"
    }
   ],
   "source": [
    "# np.linalg.norm(W_k, axis=0)\n",
    "W_k = W_k / np.linalg.norm(W_k, axis=0)\n",
    "W_k"
   ]
  },
  {
   "cell_type": "markdown",
   "id": "8f763f21",
   "metadata": {},
   "source": [
    "# PCA main algo (C = XX' / n)"
   ]
  },
  {
   "cell_type": "code",
   "execution_count": 465,
   "id": "3eaa31f9",
   "metadata": {},
   "outputs": [
    {
     "data": {
      "text/plain": [
       "(10, 10)"
      ]
     },
     "execution_count": 465,
     "metadata": {},
     "output_type": "execute_result"
    }
   ],
   "source": [
    "n = X.shape[1]\n",
    "C = X @ X.T / n\n",
    "C.shape"
   ]
  },
  {
   "cell_type": "code",
   "execution_count": 466,
   "id": "12c9a08b",
   "metadata": {},
   "outputs": [
    {
     "data": {
      "text/plain": [
       "array([509.4989,   4.3592,   0.84  ,   0.    ])"
      ]
     },
     "execution_count": 466,
     "metadata": {},
     "output_type": "execute_result"
    },
    {
     "data": {
      "text/plain": [
       "array([509.4989,   4.3592,   0.84  ,  -0.    ])"
      ]
     },
     "execution_count": 466,
     "metadata": {},
     "output_type": "execute_result"
    },
    {
     "data": {
      "text/plain": [
       "array([[-0.046 , -0.0793, -0.0597, -0.9933],\n",
       "       [-0.0978, -0.1246, -0.1057, -0.0109],\n",
       "       [-0.1697,  0.151 ,  0.1348, -0.0158],\n",
       "       [-0.201 , -0.0687, -0.3992,  0.0505],\n",
       "       [-0.2747, -0.2236,  0.2839,  0.0188],\n",
       "       [-0.2956, -0.4038, -0.5958,  0.0875],\n",
       "       [-0.3616,  0.413 , -0.0752, -0.0135],\n",
       "       [-0.4204,  0.6575, -0.0799, -0.0262],\n",
       "       [-0.3944, -0.1526, -0.1969,  0.0324],\n",
       "       [-0.5415, -0.3338,  0.5669,  0.021 ]])"
      ]
     },
     "execution_count": 466,
     "metadata": {},
     "output_type": "execute_result"
    },
    {
     "data": {
      "text/plain": [
       "array([[-0.046 ,  0.0793,  0.0597,     nan],\n",
       "       [-0.0978,  0.1246,  0.1057,     nan],\n",
       "       [-0.1697, -0.151 , -0.1348,     nan],\n",
       "       [-0.201 ,  0.0687,  0.3992,     nan],\n",
       "       [-0.2747,  0.2236, -0.2839,     nan],\n",
       "       [-0.2956,  0.4038,  0.5958,     nan],\n",
       "       [-0.3616, -0.413 ,  0.0752,     nan],\n",
       "       [-0.4204, -0.6575,  0.0799,     nan],\n",
       "       [-0.3944,  0.1526,  0.1969,     nan],\n",
       "       [-0.5415,  0.3338, -0.5669,     nan]])"
      ]
     },
     "execution_count": 466,
     "metadata": {},
     "output_type": "execute_result"
    }
   ],
   "source": [
    "eigenvalues, eigenvectors = np.linalg.eigh(C)\n",
    "sorted_indices = np.argsort(eigenvalues)[::-1]\n",
    "eigenvalues = eigenvalues[sorted_indices]\n",
    "eigenvectors = eigenvectors.T[sorted_indices]\n",
    "# eigenvalues = np.where(np.isclose(eigenvalues, 0), 0, eigenvalues)\n",
    "\n",
    "eigenvalues[:4]\n",
    "n_lambda_k / n\n",
    "\n",
    "eigenvectors[:4].T\n",
    "W_k"
   ]
  },
  {
   "cell_type": "markdown",
   "id": "b5943981",
   "metadata": {},
   "source": [
    "# chatgpt"
   ]
  },
  {
   "cell_type": "code",
   "execution_count": 467,
   "id": "df8d0ae7",
   "metadata": {},
   "outputs": [
    {
     "data": {
      "text/plain": [
       "array([509.4989,   4.3592,   0.84  ,   0.    ])"
      ]
     },
     "execution_count": 467,
     "metadata": {},
     "output_type": "execute_result"
    },
    {
     "data": {
      "text/plain": [
       "array([[-0.046 , -0.0793, -0.0597, -0.9933],\n",
       "       [-0.0978, -0.1246, -0.1057, -0.0109],\n",
       "       [-0.1697,  0.151 ,  0.1348, -0.0158],\n",
       "       [-0.201 , -0.0687, -0.3992,  0.0505],\n",
       "       [-0.2747, -0.2236,  0.2839,  0.0188],\n",
       "       [-0.2956, -0.4038, -0.5958,  0.0875],\n",
       "       [-0.3616,  0.413 , -0.0752, -0.0135],\n",
       "       [-0.4204,  0.6575, -0.0799, -0.0262],\n",
       "       [-0.3944, -0.1526, -0.1969,  0.0324],\n",
       "       [-0.5415, -0.3338,  0.5669,  0.021 ]])"
      ]
     },
     "execution_count": 467,
     "metadata": {},
     "output_type": "execute_result"
    }
   ],
   "source": [
    "C = (1 / X.shape[1]) * X @ X.T\n",
    "eigenvalues, eigenvectors = np.linalg.eigh(C)\n",
    "eigenvalues = eigenvalues[::-1]\n",
    "eigenvectors = eigenvectors[:, ::-1]  # descending order\n",
    "\n",
    "eigenvalues[:4]\n",
    "eigenvectors[:, :4]"
   ]
  },
  {
   "cell_type": "code",
   "execution_count": 468,
   "id": "1921477b",
   "metadata": {},
   "outputs": [
    {
     "name": "stderr",
     "output_type": "stream",
     "text": [
      "C:\\Users\\k26ra\\AppData\\Local\\Temp\\ipykernel_5312\\2364078005.py:7: RuntimeWarning: invalid value encountered in sqrt\n",
      "  eigenvectors_C = (X @ eigenvectors) / np.sqrt(eigenvalues)\n"
     ]
    },
    {
     "data": {
      "text/plain": [
       "array([[-0.046 ,  0.0793,  0.0597,     nan],\n",
       "       [-0.0978,  0.1246,  0.1057,     nan],\n",
       "       [-0.1697, -0.151 , -0.1348,     nan],\n",
       "       [-0.201 ,  0.0687,  0.3992,     nan],\n",
       "       [-0.2747,  0.2236, -0.2839,     nan],\n",
       "       [-0.2956,  0.4038,  0.5958,     nan],\n",
       "       [-0.3616, -0.413 ,  0.0752,     nan],\n",
       "       [-0.4204, -0.6575,  0.0799,     nan],\n",
       "       [-0.3944,  0.1526,  0.1969,     nan],\n",
       "       [-0.5415,  0.3338, -0.5669,     nan]])"
      ]
     },
     "execution_count": 468,
     "metadata": {},
     "output_type": "execute_result"
    }
   ],
   "source": [
    "K = (1 / X.shape[1]) * X.T @ X\n",
    "eigenvalues, eigenvectors = np.linalg.eig(K)  # eig vs eigh\n",
    "eigenvalues = eigenvalues[::-1]\n",
    "eigenvectors = eigenvectors[:, ::-1]\n",
    "\n",
    "# recover eigenvectors of c\n",
    "eigenvectors_C = (X @ eigenvectors) / np.sqrt(eigenvalues)\n",
    "\n",
    "# normalize each column (principal component)\n",
    "eigenvectors_C /= np.linalg.norm(eigenvectors_C, axis=0)\n",
    "\n",
    "eigenvectors_C[:, ::-1]  # cols reversed because .eig(K), not .eigh(K)"
   ]
  }
 ],
 "metadata": {
  "kernelspec": {
   "display_name": "Python 3",
   "language": "python",
   "name": "python3"
  },
  "language_info": {
   "codemirror_mode": {
    "name": "ipython",
    "version": 3
   },
   "file_extension": ".py",
   "mimetype": "text/x-python",
   "name": "python",
   "nbconvert_exporter": "python",
   "pygments_lexer": "ipython3",
   "version": "3.13.3"
  }
 },
 "nbformat": 4,
 "nbformat_minor": 5
}

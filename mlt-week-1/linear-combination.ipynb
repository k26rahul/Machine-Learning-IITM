{
 "cells": [
  {
   "cell_type": "code",
   "execution_count": 5,
   "id": "7e1a84bd",
   "metadata": {},
   "outputs": [],
   "source": [
    "import numpy as np\n",
    "import matplotlib.pyplot as plt"
   ]
  },
  {
   "cell_type": "code",
   "execution_count": 17,
   "id": "95ead2b2",
   "metadata": {},
   "outputs": [],
   "source": [
    "def plotting():\n",
    "  plt.figure(figsize=(6, 6))\n",
    "  quiver_args = dict(angles='xy', scale_units='xy', scale=1)\n",
    "\n",
    "  i_scaled = i * a\n",
    "  j_scaled = j * b\n",
    "\n",
    "  # j vector\n",
    "  plt.quiver(0, 0, *j, **quiver_args, color='r', label='j', zorder=2)\n",
    "  plt.quiver(0, 0, *j_scaled, **quiver_args, color='r', alpha=0.4)\n",
    "  plt.quiver(*i_scaled, *j_scaled, **quiver_args, color='r', alpha=0.4)\n",
    "\n",
    "  # i vector\n",
    "  plt.quiver(0, 0, *i, **quiver_args, color='g', label='i', zorder=2)\n",
    "  plt.quiver(0, 0, *i_scaled, **quiver_args, color='g', alpha=0.4)\n",
    "  plt.quiver(*j_scaled, *i_scaled, **quiver_args, color='g', alpha=0.4)\n",
    "\n",
    "  # result vector\n",
    "  plt.quiver(0, 0, *result_vector, **quiver_args, color='gray', label='result', zorder=2)\n",
    "\n",
    "  lim = np.linalg.norm(result_vector) + 1\n",
    "  plt.xlim(-lim, lim)\n",
    "  plt.ylim(-lim, lim)\n",
    "  plt.gca().set_aspect(\"equal\", adjustable=\"box\")\n",
    "\n",
    "  plt.xlabel('X')\n",
    "  plt.ylabel('Y')\n",
    "  plt.legend()\n",
    "  plt.grid(True)\n",
    "  plt.show()"
   ]
  },
  {
   "cell_type": "code",
   "execution_count": 21,
   "id": "0fb1aa62",
   "metadata": {},
   "outputs": [
    {
     "name": "stdout",
     "output_type": "stream",
     "text": [
      "i = [0.89442719 0.4472136 ]\n",
      "j = [0.09950372 0.99503719]\n",
      "result_vector = [1 1]\n",
      "a = 1.0591900946051636\n",
      "b = 0.5289408221642573\n"
     ]
    },
    {
     "data": {
      "image/png": "[encoded data removed]",
      "text/plain": [
       "<Figure size 600x600 with 1 Axes>"
      ]
     },
     "metadata": {},
     "output_type": "display_data"
    }
   ],
   "source": [
    "i = np.array([1, 0.5])\n",
    "j = np.array([0.1, 1])\n",
    "result_vector = np.array([1, 1])\n",
    "\n",
    "i = i / np.linalg.norm(i)\n",
    "j = j / np.linalg.norm(j)\n",
    "\n",
    "print(\"i =\", i)\n",
    "print(\"j =\", j)\n",
    "print(\"result_vector =\", result_vector)\n",
    "\n",
    "A = np.column_stack((i, j))\n",
    "a, b = np.linalg.solve(A, result_vector)\n",
    "print(\"a =\", a)\n",
    "print(\"b =\", b)\n",
    "\n",
    "plotting()"
   ]
  }
 ],
 "metadata": {
  "kernelspec": {
   "display_name": "Python 3",
   "language": "python",
   "name": "python3"
  },
  "language_info": {
   "codemirror_mode": {
    "name": "ipython",
    "version": 3
   },
   "file_extension": ".py",
   "mimetype": "text/x-python",
   "name": "python",
   "nbconvert_exporter": "python",
   "pygments_lexer": "ipython3",
   "version": "3.13.3"
  }
 },
 "nbformat": 4,
 "nbformat_minor": 5
}

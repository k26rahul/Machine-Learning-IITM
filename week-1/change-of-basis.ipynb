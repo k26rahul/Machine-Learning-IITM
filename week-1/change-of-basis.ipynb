{
 "cells": [
  {
   "cell_type": "code",
   "execution_count": 207,
   "id": "c7a7219b",
   "metadata": {},
   "outputs": [],
   "source": [
    "import numpy as np\n",
    "import matplotlib.pyplot as plt\n",
    "from matplotlib.ticker import MultipleLocator\n",
    "quiver_args = dict(angles='xy', scale_units='xy', scale=1)"
   ]
  },
  {
   "cell_type": "code",
   "execution_count": 208,
   "id": "e0e706e8",
   "metadata": {},
   "outputs": [],
   "source": [
    "def plt_basics(xlim=None, ylim=None, figsize=None, set_aspect=True, tick=None):\n",
    "  if figsize:\n",
    "    plt.figure(figsize=figsize)\n",
    "\n",
    "  if set_aspect:\n",
    "    plt.gca().set_aspect('equal', adjustable='box')\n",
    "\n",
    "  plt.axhline(0, color='black', linewidth=0.5)\n",
    "  plt.axvline(0, color='black', linewidth=0.5)\n",
    "  plt.grid(True)\n",
    "\n",
    "  if xlim:\n",
    "    plt.xlim(xlim)\n",
    "  if ylim:\n",
    "    plt.ylim(ylim)\n",
    "\n",
    "  if tick:\n",
    "    ax = plt.gca()\n",
    "    ax.xaxis.set_major_locator(MultipleLocator(tick))\n",
    "    ax.yaxis.set_major_locator(MultipleLocator(tick))"
   ]
  },
  {
   "cell_type": "code",
   "execution_count": 209,
   "id": "75d3727e",
   "metadata": {},
   "outputs": [],
   "source": [
    "def plt_vector(tail, head):\n",
    "  plt.quiver(*tail, *head, **quiver_args)\n",
    "\n",
    "\n",
    "def plt_line(start, end, style='g--', alpha=0.5):\n",
    "  plt.plot([start[0], end[0]], [start[1], end[1]], style, alpha=alpha)"
   ]
  },
  {
   "cell_type": "code",
   "execution_count": 210,
   "id": "d7d90cc0",
   "metadata": {},
   "outputs": [],
   "source": [
    "X = np.array([\n",
    "    [1, 2],\n",
    "    [1, 4],\n",
    "    [2, 2.5],\n",
    "    [3, 5],\n",
    "    [4, 2],\n",
    "    [4, 10],\n",
    "    [5, 10],\n",
    "    [7, 4]\n",
    "]).T"
   ]
  },
  {
   "cell_type": "code",
   "execution_count": 211,
   "id": "283dcbb9",
   "metadata": {},
   "outputs": [
    {
     "data": {
      "text/plain": [
       "array([1., 1., 2., 3., 4., 4., 5., 7.])"
      ]
     },
     "execution_count": 211,
     "metadata": {},
     "output_type": "execute_result"
    },
    {
     "data": {
      "text/plain": [
       "array([ 2. ,  4. ,  2.5,  5. ,  2. , 10. , 10. ,  4. ])"
      ]
     },
     "execution_count": 211,
     "metadata": {},
     "output_type": "execute_result"
    }
   ],
   "source": [
    "X[0]  # coefficients for i vector\n",
    "X[1]  # coefficients for j vector"
   ]
  },
  {
   "cell_type": "code",
   "execution_count": 212,
   "id": "fb779cd3",
   "metadata": {},
   "outputs": [],
   "source": [
    "w1 = np.array([1, 0])  # standard i vector\n",
    "w2 = np.array([0, 1])  # standard j vector\n",
    "\n",
    "w1 = np.array([1, 1])\n",
    "w2 = np.array([-w1[1], w1[0]])"
   ]
  },
  {
   "cell_type": "code",
   "execution_count": 213,
   "id": "c0044913",
   "metadata": {},
   "outputs": [
    {
     "data": {
      "text/plain": [
       "array([ 3. ,  5. ,  4.5,  8. ,  6. , 14. , 15. , 11. ])"
      ]
     },
     "execution_count": 213,
     "metadata": {},
     "output_type": "execute_result"
    },
    {
     "data": {
      "text/plain": [
       "array([ 1. ,  3. ,  0.5,  2. , -2. ,  6. ,  5. , -3. ])"
      ]
     },
     "execution_count": 213,
     "metadata": {},
     "output_type": "execute_result"
    }
   ],
   "source": [
    "c1 = X.T @ w1\n",
    "c2 = X.T @ w2\n",
    "\n",
    "c1  # coefficients for w1 vector\n",
    "c2  # coefficients for w2 vector"
   ]
  },
  {
   "cell_type": "code",
   "execution_count": 214,
   "id": "fa0cb289",
   "metadata": {},
   "outputs": [
    {
     "data": {
      "text/plain": [
       "array([[ 3. ,  5. ,  4.5,  8. ,  6. , 14. , 15. , 11. ],\n",
       "       [ 3. ,  5. ,  4.5,  8. ,  6. , 14. , 15. , 11. ]])"
      ]
     },
     "execution_count": 214,
     "metadata": {},
     "output_type": "execute_result"
    },
    {
     "data": {
      "text/plain": [
       "array([[-1. , -3. , -0.5, -2. ,  2. , -6. , -5. ,  3. ],\n",
       "       [ 1. ,  3. ,  0.5,  2. , -2. ,  6. ,  5. , -3. ]])"
      ]
     },
     "execution_count": 214,
     "metadata": {},
     "output_type": "execute_result"
    }
   ],
   "source": [
    "w1_proxies = w1.reshape(-1, 1) @ c1.reshape(-1, 1).T  # yellow dots on w1\n",
    "w2_proxies = w2.reshape(-1, 1) @ c2.reshape(-1, 1).T  # yellow dots on w2\n",
    "\n",
    "w1_proxies\n",
    "w2_proxies"
   ]
  },
  {
   "cell_type": "code",
   "execution_count": 215,
   "id": "708aaa74",
   "metadata": {},
   "outputs": [
    {
     "data": {
      "text/plain": [
       "array([[ 3. ,  5. ,  4.5,  8. ,  6. , 14. , 15. , 11. ],\n",
       "       [ 1. ,  3. ,  0.5,  2. , -2. ,  6. ,  5. , -3. ]])"
      ]
     },
     "execution_count": 215,
     "metadata": {},
     "output_type": "execute_result"
    }
   ],
   "source": [
    "X[0] = c1\n",
    "X[1] = c2\n",
    "X"
   ]
  },
  {
   "cell_type": "code",
   "execution_count": 216,
   "id": "4ba346da",
   "metadata": {},
   "outputs": [
    {
     "data": {
      "image/png": "[encoded data removed]",
      "text/plain": [
       "<Figure size 800x800 with 1 Axes>"
      ]
     },
     "metadata": {},
     "output_type": "display_data"
    }
   ],
   "source": [
    "plt_basics(xlim=(-2, 10), tick=1, figsize=(8, 8))\n",
    "\n",
    "_ = plt.scatter(*X)\n",
    "_ = plt.plot(*np.column_stack((X, X[:, 0])), alpha=0.4)\n",
    "_ = plt.scatter(*w1_proxies, color='y')\n",
    "_ = plt.scatter(*w2_proxies, color='y')\n",
    "\n",
    "plt_vector((0, 0), w1)\n",
    "plt_vector((0, 0), w2)\n",
    "\n",
    "for i, x in enumerate(X.T):\n",
    "  plt_line(w1_proxies[:, i], x)\n",
    "  plt_line(w2_proxies[:, i], x)"
   ]
  },
  {
   "cell_type": "code",
   "execution_count": 217,
   "id": "980d1e23",
   "metadata": {},
   "outputs": [
    {
     "name": "stdout",
     "output_type": "stream",
     "text": [
      "1-th sample:  w1 * 3.0   w2 * 1.0\n",
      "2-th sample:  w1 * 5.0   w2 * 3.0\n",
      "3-th sample:  w1 * 4.5   w2 * 0.5\n",
      "4-th sample:  w1 * 8.0   w2 * 2.0\n",
      "5-th sample:  w1 * 6.0   w2 * -2.0\n",
      "6-th sample:  w1 * 14.0   w2 * 6.0\n",
      "7-th sample:  w1 * 15.0   w2 * 5.0\n",
      "8-th sample:  w1 * 11.0   w2 * -3.0\n"
     ]
    },
    {
     "data": {
      "text/plain": [
       "array([[ 3. ,  1. ],\n",
       "       [ 5. ,  3. ],\n",
       "       [ 4.5,  0.5],\n",
       "       [ 8. ,  2. ],\n",
       "       [ 6. , -2. ],\n",
       "       [14. ,  6. ],\n",
       "       [15. ,  5. ],\n",
       "       [11. , -3. ]])"
      ]
     },
     "execution_count": 217,
     "metadata": {},
     "output_type": "execute_result"
    }
   ],
   "source": [
    "for i, x in enumerate(X.T, start=1):\n",
    "  print(f\"{i}-th sample:  w1 * {x[0]}   w2 * {x[1]}\")\n",
    "\n",
    "X.T"
   ]
  }
 ],
 "metadata": {
  "kernelspec": {
   "display_name": "Python 3",
   "language": "python",
   "name": "python3"
  },
  "language_info": {
   "codemirror_mode": {
    "name": "ipython",
    "version": 3
   },
   "file_extension": ".py",
   "mimetype": "text/x-python",
   "name": "python",
   "nbconvert_exporter": "python",
   "pygments_lexer": "ipython3",
   "version": "3.13.3"
  }
 },
 "nbformat": 4,
 "nbformat_minor": 5
}

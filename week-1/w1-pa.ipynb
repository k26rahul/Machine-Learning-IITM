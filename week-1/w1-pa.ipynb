{
 "cells": [
  {
   "cell_type": "code",
   "execution_count": 4,
   "id": "0800c4ef",
   "metadata": {},
   "outputs": [
    {
     "data": {
      "text/plain": [
       "5"
      ]
     },
     "execution_count": 4,
     "metadata": {},
     "output_type": "execute_result"
    },
    {
     "data": {
      "text/plain": [
       "5"
      ]
     },
     "execution_count": 4,
     "metadata": {},
     "output_type": "execute_result"
    }
   ],
   "source": [
    "5\n",
    "5"
   ]
  },
  {
   "cell_type": "code",
   "execution_count": 1,
   "id": "933c80d0",
   "metadata": {},
   "outputs": [],
   "source": [
    "import numpy as np"
   ]
  },
  {
   "cell_type": "code",
   "execution_count": 2,
   "id": "37792008",
   "metadata": {},
   "outputs": [
    {
     "data": {
      "text/plain": [
       "(np.float64(3.0), np.float64(0.6666666666666667))"
      ]
     },
     "execution_count": 2,
     "metadata": {},
     "output_type": "execute_result"
    }
   ],
   "source": [
    "import numpy as np\n",
    "\n",
    "# Dataset\n",
    "X = np.array([\n",
    "    [10, 10, 9],\n",
    "    [13, 12, 13],\n",
    "    [5, 5, 4],\n",
    "    [8, 7, 7]\n",
    "])\n",
    "\n",
    "# Pair 1: f(x) = x1 - x2 + x3, g(u) = [u, u, u]\n",
    "\n",
    "\n",
    "def encode_pair1(x):\n",
    "  return x[0] - x[1] + x[2]\n",
    "\n",
    "\n",
    "def decode_pair1(u):\n",
    "  return np.array([u, u, u])\n",
    "\n",
    "# Pair 2: f~(x) = mean(x), g~(u) = [u, u, u]\n",
    "\n",
    "\n",
    "def encode_pair2(x):\n",
    "  return np.mean(x)\n",
    "\n",
    "\n",
    "def decode_pair2(u):\n",
    "  return np.array([u, u, u])\n",
    "\n",
    "# Compute reconstruction loss (mean squared error)\n",
    "\n",
    "\n",
    "def reconstruction_loss(encoder, decoder, data):\n",
    "  loss = 0\n",
    "  for x in data:\n",
    "    u = encoder(x)\n",
    "    x_hat = decoder(u)\n",
    "    loss += np.sum((x - x_hat)**2)\n",
    "  return loss / len(data)\n",
    "\n",
    "\n",
    "loss_pair1 = reconstruction_loss(encode_pair1, decode_pair1, X)\n",
    "loss_pair2 = reconstruction_loss(encode_pair2, decode_pair2, X)\n",
    "\n",
    "loss_pair1, loss_pair2"
   ]
  },
  {
   "cell_type": "code",
   "execution_count": 3,
   "id": "0691e905",
   "metadata": {},
   "outputs": [
    {
     "data": {
      "text/html": [
       "<div>\n",
       "<style scoped>\n",
       "    .dataframe tbody tr th:only-of-type {\n",
       "        vertical-align: middle;\n",
       "    }\n",
       "\n",
       "    .dataframe tbody tr th {\n",
       "        vertical-align: top;\n",
       "    }\n",
       "\n",
       "    .dataframe thead th {\n",
       "        text-align: right;\n",
       "    }\n",
       "</style>\n",
       "<table border=\"1\" class=\"dataframe\">\n",
       "  <thead>\n",
       "    <tr style=\"text-align: right;\">\n",
       "      <th></th>\n",
       "      <th>Pair</th>\n",
       "      <th>Loss</th>\n",
       "    </tr>\n",
       "  </thead>\n",
       "  <tbody>\n",
       "    <tr>\n",
       "      <th>0</th>\n",
       "      <td>1</td>\n",
       "      <td>15.22500</td>\n",
       "    </tr>\n",
       "    <tr>\n",
       "      <th>1</th>\n",
       "      <td>2</td>\n",
       "      <td>3.80625</td>\n",
       "    </tr>\n",
       "  </tbody>\n",
       "</table>\n",
       "</div>"
      ],
      "text/plain": [
       "  Pair      Loss\n",
       "0    1  15.22500\n",
       "1    2   3.80625"
      ]
     },
     "execution_count": 3,
     "metadata": {},
     "output_type": "execute_result"
    }
   ],
   "source": [
    "import pandas as pd\n",
    "import numpy as np\n",
    "\n",
    "# Data\n",
    "X = np.array([\n",
    "    [1, 0.5],\n",
    "    [2, 2.3],\n",
    "    [3, 3.1],\n",
    "    [4, 3.9]\n",
    "])\n",
    "\n",
    "# Encoders and decoders\n",
    "\n",
    "\n",
    "def encode1(x):\n",
    "  return x[0] - x[1]\n",
    "\n",
    "\n",
    "def decode1(u):\n",
    "  return np.array([u/2, u/2])\n",
    "\n",
    "\n",
    "def encode2(x):\n",
    "  return (x[0] + x[1]) / 2\n",
    "\n",
    "\n",
    "def decode2(u):\n",
    "  return np.array([u/2, u/2])\n",
    "\n",
    "# Reconstruction loss\n",
    "\n",
    "\n",
    "def loss(encode, decode, data):\n",
    "  errs = [(decode(encode(x)) - x)**2 for x in data]\n",
    "  return np.mean([e.sum() for e in errs])\n",
    "\n",
    "\n",
    "loss1 = loss(encode1, decode1, X)\n",
    "loss2 = loss(encode2, decode2, X)\n",
    "\n",
    "df = pd.DataFrame({\n",
    "    'Pair': ['1', '2'],\n",
    "    'Loss': [loss1, loss2]\n",
    "})\n",
    "\n",
    "df"
   ]
  },
  {
   "cell_type": "code",
   "execution_count": 4,
   "id": "685733b1",
   "metadata": {},
   "outputs": [
    {
     "data": {
      "text/plain": [
       "((1, 1),\n",
       " {(1, 1): np.float64(0.005296575000000004),\n",
       "  (1, 2): np.float64(1.059296575),\n",
       "  (2, 1): np.float64(1.5086465750000002),\n",
       "  (2, 2): np.float64(3.5626465750000005)})"
      ]
     },
     "execution_count": 4,
     "metadata": {},
     "output_type": "execute_result"
    }
   ],
   "source": [
    "import numpy as np\n",
    "\n",
    "# Data points\n",
    "X = np.array([-1, 0, 1, 2])\n",
    "Y = np.array([0.0319, 0.8692, 1.9566, 3.0343])\n",
    "\n",
    "# Options to evaluate\n",
    "params = [(1, 1), (1, 2), (2, 1), (2, 2)]\n",
    "\n",
    "# MSE function\n",
    "\n",
    "\n",
    "def mse(a, b):\n",
    "  preds = a * X + b\n",
    "  return np.mean((preds - Y) ** 2)\n",
    "\n",
    "\n",
    "# Compute loss for each pair\n",
    "losses = {param: mse(*param) for param in params}\n",
    "best_param = min(losses, key=losses.get)\n",
    "best_param, losses"
   ]
  },
  {
   "cell_type": "code",
   "execution_count": 5,
   "id": "5425acd2",
   "metadata": {},
   "outputs": [
    {
     "data": {
      "text/plain": [
       "(np.float64(2.9639999999999995), np.float64(11.924000000000001))"
      ]
     },
     "execution_count": 5,
     "metadata": {},
     "output_type": "execute_result"
    }
   ],
   "source": [
    "import numpy as np\n",
    "\n",
    "# Data points\n",
    "x = np.array([2, 3, 6, 7, 8])\n",
    "y = np.array([5.8, 8.3, 18.3, 21, 22])\n",
    "\n",
    "# Functions\n",
    "g_pred = 3 * x + 1\n",
    "h_pred = 2 * x + 2\n",
    "\n",
    "# MSE\n",
    "mse_g = np.mean((g_pred - y) ** 2)\n",
    "mse_h = np.mean((h_pred - y) ** 2)\n",
    "\n",
    "mse_g, mse_h"
   ]
  },
  {
   "cell_type": "code",
   "execution_count": 6,
   "id": "393eef28",
   "metadata": {},
   "outputs": [
    {
     "data": {
      "text/plain": [
       "(np.float64(0.3333333333333333), np.float64(0.5))"
      ]
     },
     "execution_count": 6,
     "metadata": {},
     "output_type": "execute_result"
    }
   ],
   "source": [
    "import numpy as np\n",
    "\n",
    "# Data points\n",
    "X = np.array([\n",
    "    [4, 2],\n",
    "    [8, 4],\n",
    "    [2, 6],\n",
    "    [4, 10],\n",
    "    [10, 2],\n",
    "    [12, 8]\n",
    "])\n",
    "y = np.array([1, 1, -1, -1, 1, -1])\n",
    "\n",
    "# Function g: sign(x1 - x2 - 2)\n",
    "g_preds = np.sign(X[:, 0] - X[:, 1] - 2)\n",
    "\n",
    "# Function h: sign(x1 + x2 - 10)\n",
    "h_preds = np.sign(X[:, 0] + X[:, 1] - 10)\n",
    "\n",
    "# Compute average misclassification error\n",
    "g_error = np.mean(g_preds != y)\n",
    "h_error = np.mean(h_preds != y)\n",
    "\n",
    "g_error, h_error"
   ]
  },
  {
   "cell_type": "code",
   "execution_count": 7,
   "id": "6d0ab75c",
   "metadata": {},
   "outputs": [
    {
     "name": "stdout",
     "output_type": "stream",
     "text": [
      "Reconstruction error: 34.5\n"
     ]
    }
   ],
   "source": [
    "import numpy as np\n",
    "\n",
    "X = np.array([\n",
    "    [1, 2, 3],\n",
    "    [2, 3, 4],\n",
    "    [-1, 0, 1],\n",
    "    [0, 1, 1]\n",
    "])\n",
    "\n",
    "# Encoder: f(x1, x2, x3) = (x1 + 2*x2) / 2\n",
    "u = (X[:, 0] + 2 * X[:, 1]) / 2\n",
    "\n",
    "# Decoder: g(u) = [u, 2u, 3u]\n",
    "X_reconstructed = np.stack([u, 2*u, 3*u], axis=1)\n",
    "\n",
    "# Reconstruction error: mean squared error\n",
    "error = np.mean(np.sum((X - X_reconstructed)**2, axis=1))\n",
    "print(\"Reconstruction error:\", error)"
   ]
  },
  {
   "cell_type": "code",
   "execution_count": 8,
   "id": "34eb4bb8",
   "metadata": {},
   "outputs": [
    {
     "data": {
      "text/plain": [
       "4.0"
      ]
     },
     "execution_count": 8,
     "metadata": {},
     "output_type": "execute_result"
    }
   ],
   "source": [
    "def calc_mse(lst1, lst2):\n",
    "  loss = 0\n",
    "  for i in range(len(lst1)):\n",
    "    delta = lst1[i] - lst2[i]\n",
    "    delta_sq = delta ** 2\n",
    "    loss += delta_sq\n",
    "\n",
    "  mse = loss / len(lst1)\n",
    "  return mse\n",
    "\n",
    "\n",
    "calc_mse([10, 20, 30, 40], [8, 18, 28, 38])"
   ]
  }
 ],
 "metadata": {
  "kernelspec": {
   "display_name": "Python 3",
   "language": "python",
   "name": "python3"
  },
  "language_info": {
   "codemirror_mode": {
    "name": "ipython",
    "version": 3
   },
   "file_extension": ".py",
   "mimetype": "text/x-python",
   "name": "python",
   "nbconvert_exporter": "python",
   "pygments_lexer": "ipython3",
   "version": "3.13.3"
  }
 },
 "nbformat": 4,
 "nbformat_minor": 5
}
